{
 "metadata": {
  "kernelspec": {
   "language": "python",
   "display_name": "Python 3",
   "name": "python3"
  },
  "language_info": {
   "name": "python",
   "version": "3.7.12",
   "mimetype": "text/x-python",
   "codemirror_mode": {
    "name": "ipython",
    "version": 3
   },
   "pygments_lexer": "ipython3",
   "nbconvert_exporter": "python",
   "file_extension": ".py"
  },
  "colab": {
   "provenance": [],
   "collapsed_sections": []
  },
  "accelerator": "GPU"
 },
 "nbformat_minor": 4,
 "nbformat": 4,
 "cells": [
  {
   "cell_type": "code",
   "source": [
    "# !pip install mat73\n",
    "\n",
    "import os\n",
    "\n",
    "import mat73\n",
    "import matplotlib.patches as patches\n",
    "import matplotlib.pyplot as plt\n",
    "import pytorch_lightning as pl\n",
    "import torch\n",
    "import torch.utils.data as td\n",
    "import torchvision.transforms as transforms\n",
    "from PIL import Image\n",
    "\n",
    "os.environ[\"CUDA_LAUNCH_BLOCKING\"] = \"1\""
   ],
   "metadata": {
    "id": "Fte-n2JDl2v6",
    "execution": {
     "iopub.status.busy": "2022-10-26T13:46:16.954041Z",
     "iopub.execute_input": "2022-10-26T13:46:16.955069Z",
     "iopub.status.idle": "2022-10-26T13:46:16.961730Z",
     "shell.execute_reply.started": "2022-10-26T13:46:16.955031Z",
     "shell.execute_reply": "2022-10-26T13:46:16.960697Z"
    },
    "trusted": true
   },
   "execution_count": 44,
   "outputs": []
  },
  {
   "cell_type": "code",
   "source": [
    "def draw_boxes(img, boxes, linewidth=1):\n",
    "    img = img.numpy().transpose(1, 2, 0)\n",
    "\n",
    "    fig, ax = plt.subplots(figsize=(12, 9))\n",
    "\n",
    "    ax.imshow(img)\n",
    "\n",
    "    colors = [\"orange\", \"green\", \"pink\"]\n",
    "\n",
    "    for i, bbox in enumerate(boxes):\n",
    "        bbox = bbox.detach().cpu()\n",
    "\n",
    "        x0, y0, x1, y1 = bbox[0].item(), bbox[1].item(), bbox[2].item(), bbox[3].item()\n",
    "        x, y, w, h = x0, y0, x1 - x0, y1 - y0\n",
    "\n",
    "        rect = patches.Rectangle((x, y), w, h, linewidth=linewidth, edgecolor=colors[i % len(colors)], facecolor=\"none\")\n",
    "        ax.add_patch(rect)\n",
    "\n",
    "    plt.show()"
   ],
   "metadata": {
    "execution": {
     "iopub.status.busy": "2022-10-26T13:46:16.965189Z",
     "iopub.execute_input": "2022-10-26T13:46:16.965536Z",
     "iopub.status.idle": "2022-10-26T13:46:16.976400Z",
     "shell.execute_reply.started": "2022-10-26T13:46:16.965505Z",
     "shell.execute_reply": "2022-10-26T13:46:16.975443Z"
    },
    "trusted": true
   },
   "execution_count": 45,
   "outputs": []
  },
  {
   "cell_type": "code",
   "source": [
    "def parse_annotation(ann):\n",
    "    one_box = not isinstance(ann[\"label\"], list)\n",
    "\n",
    "    if one_box:\n",
    "        x, y, w, h = ann[\"left\"].item(), ann[\"top\"].item(), ann[\"width\"].item(), ann[\"height\"].item()\n",
    "        bboxes = [x, y, x + w, y + h]\n",
    "        labels = [ann[\"label\"].item()]\n",
    "    else:\n",
    "        bboxes = []\n",
    "        labels = []\n",
    "\n",
    "        for i in range(len(ann[\"label\"])):\n",
    "            x, y, w, h = ann[\"left\"][i].item(), ann[\"top\"][i].item(), ann[\"width\"][i].item(), ann[\"height\"][i].item()\n",
    "            bboxes.append([x, y, x + w, y + h])\n",
    "            labels.append(ann[\"label\"][i].item())\n",
    "\n",
    "    labels = torch.tensor(labels).long()\n",
    "    bboxes = torch.tensor(bboxes).float()\n",
    "\n",
    "    return bboxes, labels"
   ],
   "metadata": {
    "execution": {
     "iopub.status.busy": "2022-10-26T14:03:15.271292Z",
     "iopub.execute_input": "2022-10-26T14:03:15.271989Z",
     "iopub.status.idle": "2022-10-26T14:03:15.282375Z",
     "shell.execute_reply.started": "2022-10-26T14:03:15.271953Z",
     "shell.execute_reply": "2022-10-26T14:03:15.281369Z"
    },
    "trusted": true
   },
   "execution_count": 61,
   "outputs": []
  },
  {
   "cell_type": "code",
   "source": [
    "IMAGE_SIZE = (256, 512)\n",
    "\n",
    "IMAGE_TRANSFORM = transform = transforms.Compose([\n",
    "    transforms.ToTensor(),\n",
    "    transforms.Resize(IMAGE_SIZE)\n",
    "])\n",
    "\n",
    "\n",
    "class DetectionDataset(td.Dataset):\n",
    "    def __init__(self, folder, labels):\n",
    "        self.folder = folder\n",
    "        self.names = labels[\"name\"]\n",
    "        self.bboxes = labels[\"bbox\"]\n",
    "\n",
    "    def __getitem__(self, index):\n",
    "        name = self.names[index]\n",
    "        image = Image.open(f\"{self.folder}/{name}\")\n",
    "        w, h = image.width, image.height\n",
    "        image = IMAGE_TRANSFORM(image)\n",
    "\n",
    "        bboxes, labels = parse_annotation(self.bboxes[index])\n",
    "\n",
    "        nh, nw = IMAGE_SIZE\n",
    "        scale_ = torch.tensor([nw / w, nh / h, nw / w, nh / h])\n",
    "        bboxes = bboxes * scale_\n",
    "\n",
    "        return image, bboxes, labels\n",
    "\n",
    "    def __len__(self):\n",
    "        return len(self.names)"
   ],
   "metadata": {
    "id": "rT43SYIWl2v7",
    "execution": {
     "iopub.status.busy": "2022-10-26T14:03:19.385422Z",
     "iopub.execute_input": "2022-10-26T14:03:19.385801Z",
     "iopub.status.idle": "2022-10-26T14:03:19.396562Z",
     "shell.execute_reply.started": "2022-10-26T14:03:19.385769Z",
     "shell.execute_reply": "2022-10-26T14:03:19.395262Z"
    },
    "trusted": true
   },
   "execution_count": 62,
   "outputs": []
  },
  {
   "cell_type": "code",
   "source": [
    "class DataModule(pl.LightningDataModule):\n",
    "    def __init__(\n",
    "            self,\n",
    "            dataset: DetectionDataset,\n",
    "            batch_size: int = 32\n",
    "    ):\n",
    "        super().__init__()\n",
    "\n",
    "        self.dataset = dataset\n",
    "        self.batch_sz = batch_size\n",
    "\n",
    "    @staticmethod\n",
    "    def collate_fn(batch):\n",
    "        images, bboxes, labels = [], [], []\n",
    "\n",
    "        for image, bbox, label in batch:\n",
    "            images.append(image)\n",
    "            bboxes.append(bbox)\n",
    "            labels.append(label)\n",
    "\n",
    "        return torch.stack(images, dim=0), bboxes, labels\n",
    "\n",
    "    def train_dataloader(self):\n",
    "        return td.DataLoader(self.dataset, batch_size=self.batch_sz, shuffle=True, collate_fn=self.collate_fn)"
   ],
   "metadata": {
    "execution": {
     "iopub.status.busy": "2022-10-26T14:03:19.781504Z",
     "iopub.execute_input": "2022-10-26T14:03:19.781888Z",
     "iopub.status.idle": "2022-10-26T14:03:19.789867Z",
     "shell.execute_reply.started": "2022-10-26T14:03:19.781855Z",
     "shell.execute_reply": "2022-10-26T14:03:19.788904Z"
    },
    "trusted": true
   },
   "execution_count": 63,
   "outputs": []
  },
  {
   "cell_type": "code",
   "source": [
    "class Detector(pl.LightningModule):\n",
    "    def __init__(self, torch_model):\n",
    "        super().__init__()\n",
    "        self.model = torch_model\n",
    "\n",
    "    def training_step(self, batch, _):\n",
    "        images, bboxes, labels = batch\n",
    "\n",
    "        targets = [\n",
    "            {\"boxes\": boxes, \"labels\": label} for boxes, label in zip(bboxes, labels)\n",
    "        ]\n",
    "\n",
    "        out = self.model(images, targets)\n",
    "        loss = 5 * out[\"loss_box_reg\"] + 2.5 * out[\"loss_rpn_box_reg\"] + 0.1 * out[\"loss_objectness\"] + out[\n",
    "            \"loss_classifier\"]\n",
    "\n",
    "        return loss\n",
    "\n",
    "    def configure_optimizers(self):\n",
    "        return torch.optim.NAdam(self.model.parameters(), lr=1e-4)"
   ],
   "metadata": {
    "execution": {
     "iopub.status.busy": "2022-10-26T14:09:01.571388Z",
     "iopub.execute_input": "2022-10-26T14:09:01.571764Z",
     "iopub.status.idle": "2022-10-26T14:09:01.579448Z",
     "shell.execute_reply.started": "2022-10-26T14:09:01.571732Z",
     "shell.execute_reply": "2022-10-26T14:09:01.578442Z"
    },
    "trusted": true
   },
   "execution_count": 92,
   "outputs": []
  },
  {
   "cell_type": "markdown",
   "source": [
    "### Initialize data module"
   ],
   "metadata": {}
  },
  {
   "cell_type": "code",
   "source": [
    "%%time\n",
    "train_labels = mat73.loadmat(\"../input/street-view-house-numbers/train_digitStruct.mat\")\n",
    "\n",
    "train = DetectionDataset(\n",
    "    folder=\"../input/street-view-house-numbers/train/train\",\n",
    "    labels=train_labels[\"digitStruct\"]\n",
    ")\n",
    "\n",
    "train_data_module = DataModule(train, batch_size=32)"
   ],
   "metadata": {
    "execution": {
     "iopub.status.busy": "2022-10-26T14:09:02.012064Z",
     "iopub.execute_input": "2022-10-26T14:09:02.012807Z",
     "iopub.status.idle": "2022-10-26T14:09:02.021046Z",
     "shell.execute_reply.started": "2022-10-26T14:09:02.012768Z",
     "shell.execute_reply": "2022-10-26T14:09:02.019787Z"
    },
    "trusted": true
   },
   "execution_count": 93,
   "outputs": [
    {
     "name": "stdout",
     "text": "CPU times: user 52 µs, sys: 2 µs, total: 54 µs\nWall time: 62 µs\n",
     "output_type": "stream"
    }
   ]
  },
  {
   "cell_type": "markdown",
   "source": [
    "### Define detection model and trainer. In my case it's *Faster-RCNN*"
   ],
   "metadata": {}
  },
  {
   "cell_type": "code",
   "source": [
    "from torchvision.models.detection import fasterrcnn_resnet50_fpn\n",
    "from torchvision.models.detection.transform import GeneralizedRCNNTransform\n",
    "from torchvision.models.detection.faster_rcnn import FastRCNNPredictor\n",
    "\n",
    "NUM_CLASSES = 11\n",
    "\n",
    "fasterrcnn = fasterrcnn_resnet50_fpn(pretrained=True)\n",
    "\n",
    "fasterrcnn.roi_heads.box_predictor = FastRCNNPredictor(\n",
    "    fasterrcnn.roi_heads.box_predictor.cls_score.in_features,\n",
    "    NUM_CLASSES\n",
    ")\n",
    "\n",
    "fasterrcnn.transform = GeneralizedRCNNTransform(\n",
    "    min_size=min(IMAGE_SIZE),\n",
    "    max_size=max(IMAGE_SIZE),\n",
    "    image_mean=[0.485, 0.456, 0.406],\n",
    "    image_std=[0.229, 0.224, 0.225]\n",
    ")"
   ],
   "metadata": {
    "execution": {
     "iopub.status.busy": "2022-10-26T14:09:02.375583Z",
     "iopub.execute_input": "2022-10-26T14:09:02.375965Z",
     "iopub.status.idle": "2022-10-26T14:09:03.080453Z",
     "shell.execute_reply.started": "2022-10-26T14:09:02.375933Z",
     "shell.execute_reply": "2022-10-26T14:09:03.079425Z"
    },
    "trusted": true
   },
   "execution_count": 94,
   "outputs": []
  },
  {
   "cell_type": "markdown",
   "source": [
    "Configure lightning _trainer_ and _detector_"
   ],
   "metadata": {}
  },
  {
   "cell_type": "code",
   "source": [
    "detector = Detector(fasterrcnn)\n",
    "trainer = pl.Trainer(accelerator=\"gpu\", devices=1, max_epochs=1)\n",
    "\n",
    "trainer.fit(detector, train_data_module)"
   ],
   "metadata": {
    "id": "NXyrsQ1jl2v9",
    "execution": {
     "iopub.status.busy": "2022-10-26T14:09:03.273333Z",
     "iopub.execute_input": "2022-10-26T14:09:03.273707Z",
     "iopub.status.idle": "2022-10-26T14:35:26.018415Z",
     "shell.execute_reply.started": "2022-10-26T14:09:03.273675Z",
     "shell.execute_reply": "2022-10-26T14:35:26.017392Z"
    },
    "trusted": true
   },
   "execution_count": 95,
   "outputs": [
    {
     "output_type": "display_data",
     "data": {
      "text/plain": "Training: 0it [00:00, ?it/s]",
      "application/vnd.jupyter.widget-view+json": {
       "version_major": 2,
       "version_minor": 0,
       "model_id": "b1435f1bce7a4ca082532fc885ac7600"
      }
     },
     "metadata": {}
    }
   ]
  },
  {
   "cell_type": "code",
   "source": [
    "torch.save(fasterrcnn, \"fasterrcnn.pth\")"
   ],
   "metadata": {
    "execution": {
     "iopub.status.busy": "2022-10-26T14:35:26.020442Z",
     "iopub.execute_input": "2022-10-26T14:35:26.020794Z",
     "iopub.status.idle": "2022-10-26T14:35:26.403678Z",
     "shell.execute_reply.started": "2022-10-26T14:35:26.020758Z",
     "shell.execute_reply": "2022-10-26T14:35:26.402403Z"
    },
    "trusted": true
   },
   "execution_count": 96,
   "outputs": []
  },
  {
   "cell_type": "code",
   "source": [
    "from torchvision.ops import nms\n",
    "\n",
    "\n",
    "def evaluate(path, model, filter_threshold=0.5, iou_threshold=0.5, device=\"cpu\"):\n",
    "    img = Image.open(path)\n",
    "    w, h = img.width, img.height\n",
    "    x = IMAGE_TRANSFORM(img).unsqueeze(0).to(device)\n",
    "\n",
    "    model.eval().to(device)\n",
    "\n",
    "    with torch.no_grad():\n",
    "        output = model(x)[0]\n",
    "\n",
    "    hi, wi = IMAGE_SIZE\n",
    "    scale = torch.tensor([w / wi, h / hi, w / wi, h / hi])\n",
    "\n",
    "    bboxes = output[\"boxes\"].cpu() * scale\n",
    "    scores = output[\"scores\"].cpu()\n",
    "    sliced = scores > filter_threshold\n",
    "    indices = nms(bboxes[sliced], scores[sliced], iou_threshold=iou_threshold)\n",
    "\n",
    "    draw_boxes(transforms.ToTensor()(img), bboxes[indices])\n",
    "\n",
    "    return dict(bboxes=bboxes[indices], scores=scores[indices])"
   ],
   "metadata": {
    "execution": {
     "iopub.status.busy": "2022-10-26T14:36:28.092198Z",
     "iopub.execute_input": "2022-10-26T14:36:28.092591Z",
     "iopub.status.idle": "2022-10-26T14:36:28.101166Z",
     "shell.execute_reply.started": "2022-10-26T14:36:28.092561Z",
     "shell.execute_reply": "2022-10-26T14:36:28.099951Z"
    },
    "trusted": true
   },
   "execution_count": 103,
   "outputs": []
  },
  {
   "cell_type": "code",
   "source": [
    "test_folder = \"../input/street-view-house-numbers/test/test\"\n",
    "test_images = os.listdir(test_folder)\n",
    "\n",
    "index = 3\n",
    "path = f\"{test_folder}/{test_images[index]}\"\n",
    "\n",
    "evaluate(path, fasterrcnn, filter_threshold=0.5, iou_threshold=0.9, device=\"cuda\")"
   ],
   "metadata": {
    "execution": {
     "iopub.status.busy": "2022-10-26T14:45:32.227578Z",
     "iopub.execute_input": "2022-10-26T14:45:32.228292Z",
     "iopub.status.idle": "2022-10-26T14:45:32.482925Z",
     "shell.execute_reply.started": "2022-10-26T14:45:32.228245Z",
     "shell.execute_reply": "2022-10-26T14:45:32.482034Z"
    },
    "trusted": true
   },
   "execution_count": 109,
   "outputs": [
    {
     "output_type": "display_data",
     "data": {
      "text/plain": "<Figure size 864x648 with 1 Axes>",
      "image/png": "[encoded data removed]"
     },
     "metadata": {
      "needs_background": "light"
     }
    },
    {
     "execution_count": 109,
     "output_type": "execute_result",
     "data": {
      "text/plain": "{'bboxes': tensor([[19.7326,  3.7733, 29.1934, 19.3896],\n         [38.0371,  4.7012, 47.2237, 19.2056],\n         [28.8806,  4.8031, 37.8466, 18.8457],\n         [29.5291,  3.4606, 38.4221, 18.5813],\n         [20.4155,  4.7405, 29.4878, 18.4652],\n         [29.8247,  4.6674, 37.7063, 19.4005],\n         [37.7934,  3.9098, 47.7024, 20.3458],\n         [29.5234,  4.7776, 38.2033, 18.6219],\n         [19.8731,  4.5639, 29.3203, 18.3601],\n         [23.3060,  4.6965, 33.1244, 19.5553]]),\n 'scores': tensor([0.9537, 0.9359, 0.9083, 0.1769, 0.1114, 0.1085, 0.0939, 0.0679, 0.0663,\n         0.0511])}"
     },
     "metadata": {}
    }
   ]
  },
  {
   "cell_type": "code",
   "source": [
    "from typing import List\n",
    "\n",
    "from tqdm import tqdm\n",
    "import torch\n",
    "from torchmetrics.detection.mean_ap import MeanAveragePrecision\n",
    "\n",
    "\n",
    "def mAP(loader, model, thresholds: List[float], device=\"cpu\"):\n",
    "    metric = MeanAveragePrecision(iou_thresholds=thresholds)\n",
    "\n",
    "    model.eval().to(device)\n",
    "\n",
    "    for images, bboxes, labels in tqdm(loader):\n",
    "        targets = [\n",
    "            {\"boxes\": boxes.to(device), \"labels\": label.to(device)} for boxes, label in zip(bboxes, labels)\n",
    "        ]\n",
    "\n",
    "        with torch.no_grad():\n",
    "            outputs = model(images.to(device))\n",
    "\n",
    "        metric.update(outputs, targets)\n",
    "\n",
    "    return metric.compute()"
   ],
   "metadata": {
    "execution": {
     "iopub.status.busy": "2022-10-26T14:45:41.484935Z",
     "iopub.execute_input": "2022-10-26T14:45:41.485624Z",
     "iopub.status.idle": "2022-10-26T14:45:41.492760Z",
     "shell.execute_reply.started": "2022-10-26T14:45:41.485587Z",
     "shell.execute_reply": "2022-10-26T14:45:41.491697Z"
    },
    "trusted": true
   },
   "execution_count": 110,
   "outputs": []
  },
  {
   "cell_type": "code",
   "source": [
    "%%time\n",
    "test_labels = mat73.loadmat(\"../input/street-view-house-numbers/test_digitStruct.mat\")\n",
    "\n",
    "test = DetectionDataset(\n",
    "    folder=\"../input/street-view-house-numbers/test/test\",\n",
    "    labels=test_labels[\"digitStruct\"]\n",
    ")"
   ],
   "metadata": {
    "execution": {
     "iopub.status.busy": "2022-10-26T14:45:44.924248Z",
     "iopub.execute_input": "2022-10-26T14:45:44.924614Z",
     "iopub.status.idle": "2022-10-26T14:47:40.174969Z",
     "shell.execute_reply.started": "2022-10-26T14:45:44.924584Z",
     "shell.execute_reply": "2022-10-26T14:47:40.173899Z"
    },
    "trusted": true
   },
   "execution_count": 111,
   "outputs": [
    {
     "name": "stdout",
     "text": "CPU times: user 1min 53s, sys: 1.49 s, total: 1min 54s\nWall time: 1min 55s\n",
     "output_type": "stream"
    }
   ]
  },
  {
   "cell_type": "code",
   "source": [
    "test_loader = td.DataLoader(test, batch_size=64, collate_fn=train_data_module.collate_fn)\n",
    "\n",
    "mean_ap = mAP(test_loader, fasterrcnn.eval(), device=\"cuda\", thresholds=[0.5, 0.75, 0.9])\n",
    "mean_ap"
   ],
   "metadata": {
    "execution": {
     "iopub.status.busy": "2022-10-26T14:50:44.980650Z",
     "iopub.execute_input": "2022-10-26T14:50:44.981028Z"
    },
    "trusted": true
   },
   "execution_count": 22,
   "outputs": [
    {
     "data": {
      "text/plain": "{'map': tensor(0.3479),\n 'map_50': tensor(0.8082),\n 'map_75': tensor(0.2326),\n 'map_small': tensor(0.1181),\n 'map_medium': tensor(0.2930),\n 'map_large': tensor(0.3832),\n 'mar_1': tensor(0.4277),\n 'mar_10': tensor(0.4663),\n 'mar_100': tensor(0.4664),\n 'mar_small': tensor(0.2047),\n 'mar_medium': tensor(0.4595),\n 'mar_large': tensor(0.5147),\n 'map_per_class': tensor(-1.),\n 'mar_100_per_class': tensor(-1.)}"
     },
     "execution_count": 22,
     "metadata": {},
     "output_type": "execute_result"
    }
   ]
  },
  {
   "cell_type": "code",
   "execution_count": null,
   "outputs": [],
   "source": [
    "from shapely.geometry import box\n",
    "import numpy as np\n",
    "\n",
    "\n",
    "def iou_precision_recall(t: box, p: box):\n",
    "    t = box(*t)\n",
    "    p = box(*p)\n",
    "\n",
    "    inner = p.intersection(t).area\n",
    "    iou = inner / p.union(t).area\n",
    "    precision = inner / p.area\n",
    "    recall = inner / t.area\n",
    "\n",
    "    return iou, precision, recall\n",
    "\n",
    "\n",
    "def precision_recall(loader, model, device=\"cuda\"):\n",
    "    model.eval()\n",
    "\n",
    "    ious = []\n",
    "    precisions = []\n",
    "    recalls = []\n",
    "\n",
    "    for images, bboxes, _ in tqdm(loader):\n",
    "        with torch.no_grad():\n",
    "            outputs = model(images.to(device))\n",
    "\n",
    "        for predicted, target in zip(outputs, bboxes):\n",
    "            target_metrics = []\n",
    "            for t in target:\n",
    "                iou, precision, recall = 0, 0, 0\n",
    "                for p in predicted[\"boxes\"]:\n",
    "                    p = p.cpu()\n",
    "                    _iou, _precision, _recall = iou_precision_recall(t, p)\n",
    "                    if _iou > iou:\n",
    "                        iou = _iou\n",
    "                        precision = _precision\n",
    "                        recall = _recall\n",
    "\n",
    "                target_metrics.append([iou, precision, recall])\n",
    "\n",
    "            ious.append(np.array(target_metrics)[:, 0].mean())\n",
    "            precisions.append(np.array(target_metrics)[:, 1].mean())\n",
    "            recalls.append(np.array(target_metrics)[:, 2].mean())\n",
    "\n",
    "    iou = np.array(ious).mean()\n",
    "    precision = np.array(precisions).mean()\n",
    "    recall = np.array(recalls).mean()\n",
    "\n",
    "    return iou, precision, recall"
   ],
   "metadata": {
    "collapsed": false
   }
  },
  {
   "cell_type": "code",
   "execution_count": null,
   "outputs": [],
   "source": [
    "iou, precision, recall = precision_recall(test_loader, fasterrcnn, device=\"cuda\")"
   ],
   "metadata": {
    "collapsed": false
   }
  },
  {
   "cell_type": "code",
   "execution_count": 23,
   "outputs": [
    {
     "name": "stdout",
     "output_type": "stream",
     "text": [
      "IoU: 0.7361\n",
      "Precision: 0.8334\n",
      "Recall: 0.8763\n"
     ]
    }
   ],
   "source": [
    "print(f\"IoU: {iou:.4f}\")\n",
    "print(f\"Precision: {precision:.4f}\")\n",
    "print(f\"Recall: {recall:.4f}\")"
   ],
   "metadata": {
    "collapsed": false
   }
  }
 ]
}
