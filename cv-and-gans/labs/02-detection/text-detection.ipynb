{
 "metadata": {
  "kernelspec": {
   "language": "python",
   "display_name": "Python 3",
   "name": "python3"
  },
  "language_info": {
   "name": "python",
   "version": "3.7.12",
   "mimetype": "text/x-python",
   "codemirror_mode": {
    "name": "ipython",
    "version": 3
   },
   "pygments_lexer": "ipython3",
   "nbconvert_exporter": "python",
   "file_extension": ".py"
  },
  "colab": {
   "provenance": [],
   "collapsed_sections": []
  },
  "accelerator": "GPU"
 },
 "nbformat_minor": 4,
 "nbformat": 4,
 "cells": [
  {
   "cell_type": "code",
   "source": [
    "import os\n",
    "import pprint\n",
    "from dataclasses import dataclass\n",
    "\n",
    "import numpy as np\n",
    "import pytorch_lightning as pl\n",
    "import scipy.io as io\n",
    "import torch\n",
    "import torch.utils.data as td\n",
    "import torchvision.transforms as transforms\n",
    "from PIL import Image\n",
    "from sklearn.model_selection import train_test_split\n",
    "from torchmetrics.detection.mean_ap import MeanAveragePrecision\n",
    "from torchvision.models.detection import fasterrcnn_mobilenet_v3_large_fpn\n",
    "\n",
    "os.environ[\"CUDA_LAUNCH_BLOCKING\"] = \"1\""
   ],
   "metadata": {
    "id": "Fte-n2JDl2v6",
    "execution": {
     "iopub.status.busy": "2022-10-22T20:31:06.488523Z",
     "iopub.execute_input": "2022-10-22T20:31:06.489819Z",
     "iopub.status.idle": "2022-10-22T20:31:11.767103Z",
     "shell.execute_reply.started": "2022-10-22T20:31:06.489708Z",
     "shell.execute_reply": "2022-10-22T20:31:11.766016Z"
    },
    "trusted": true
   },
   "execution_count": 1,
   "outputs": []
  },
  {
   "cell_type": "code",
   "source": [
    "@dataclass\n",
    "class BBox:\n",
    "    x: int\n",
    "    y: int\n",
    "    w: int\n",
    "    h: int\n",
    "\n",
    "    @staticmethod\n",
    "    def parse_from_mat(label):\n",
    "        xs, ys = label[1][0], label[3][0]\n",
    "\n",
    "        x, y = min(xs), min(ys)\n",
    "        w, h = max(xs) - x, max(ys) - y\n",
    "\n",
    "        return BBox(x, y, w, h)\n",
    "\n",
    "    def to_tensor(self):\n",
    "        return torch.Tensor([self.x, self.y, self.x + self.w, self.y + self.h])\n",
    "    \n",
    "    def is_point(self) -> bool:\n",
    "        return self.w == 0 or self.h == 0\n",
    "\n",
    "\n",
    "def parse_boxes(annotation):\n",
    "    boxes = []\n",
    " \n",
    "    for label in annotation:\n",
    "        box = BBox.parse_from_mat(label)\n",
    "\n",
    "        if box.is_point():\n",
    "            continue\n",
    "\n",
    "        boxes.append(box.to_tensor())\n",
    "\n",
    "    return torch.stack(boxes)"
   ],
   "metadata": {
    "id": "xhR39XF2l2v7",
    "execution": {
     "iopub.status.busy": "2022-10-22T20:31:11.770566Z",
     "iopub.execute_input": "2022-10-22T20:31:11.771661Z",
     "iopub.status.idle": "2022-10-22T20:31:11.782173Z",
     "shell.execute_reply.started": "2022-10-22T20:31:11.771622Z",
     "shell.execute_reply": "2022-10-22T20:31:11.780619Z"
    },
    "trusted": true
   },
   "execution_count": 2,
   "outputs": []
  },
  {
   "cell_type": "code",
   "source": [
    "class Subset(td.Dataset):\n",
    "    def __init__(self, dataset, indices):\n",
    "        self.dataset = dataset\n",
    "        self.indices = indices\n",
    "    \n",
    "    def __getitem__(self, index):\n",
    "        return self.dataset[self.indices[index]]\n",
    "\n",
    "    def __len__(self):\n",
    "        return len(self.indices)\n",
    "    \n",
    "class DetectionDataset(td.Dataset):\n",
    "    def __init__(\n",
    "        self, \n",
    "        images_root, \n",
    "        labels_root = None, \n",
    "        resize=(300, 300)\n",
    "    ):\n",
    "        self.images_root = images_root\n",
    "        self.labels_root = labels_root\n",
    "        self.is_testing  = labels_root is None\n",
    "        self.resize      = resize\n",
    "    \n",
    "        self.files = [f.split(\".\")[0] for f in os.listdir(images_root)]\n",
    "        self.files = [f for f in self.files if len(f) != 0]\n",
    "        \n",
    "        self.transforms = transforms.Compose([\n",
    "            transforms.ToTensor(),\n",
    "            transforms.Resize(self.resize),\n",
    "            transforms.Normalize([0.485, 0.456, 0.406], [0.229, 0.224, 0.225])\n",
    "        ])\n",
    "\n",
    "        \n",
    "    def __getitem__(self, index):\n",
    "        name = self.files[index]\n",
    "        \n",
    "        if os.path.exists(f\"{self.images_root}/{name}.jpg\"):\n",
    "            image = Image.open(f\"{self.images_root}/{name}.jpg\")\n",
    "        else:\n",
    "            image = Image.open(f\"{self.images_root}/{name}.JPG\")\n",
    "            \n",
    "        w, h  = image.width, image.height\n",
    "        image = self.transforms(image)\n",
    "        \n",
    "        if self.is_testing:\n",
    "            return image\n",
    "        \n",
    "        annotation = io.loadmat(f\"{self.labels_root}/gt_{name}.mat\")[\"gt\"]\n",
    "        old_dims   = torch.FloatTensor([w, h, w, h])\n",
    "        boxes      = parse_boxes(annotation)\n",
    "        boxes      = boxes / old_dims\n",
    "        boxes      = boxes * torch.FloatTensor([self.resize[1], self.resize[0], self.resize[1], self.resize[0]])\n",
    "        labels     = torch.LongTensor([1] * len(boxes))\n",
    "            \n",
    "        return image, boxes, labels\n",
    "    \n",
    "    def __len__(self):\n",
    "        return len(self.files)"
   ],
   "metadata": {
    "id": "rT43SYIWl2v7",
    "execution": {
     "iopub.status.busy": "2022-10-22T20:31:11.783931Z",
     "iopub.execute_input": "2022-10-22T20:31:11.784281Z",
     "iopub.status.idle": "2022-10-22T20:31:11.801433Z",
     "shell.execute_reply.started": "2022-10-22T20:31:11.784247Z",
     "shell.execute_reply": "2022-10-22T20:31:11.800561Z"
    },
    "trusted": true
   },
   "execution_count": 3,
   "outputs": []
  },
  {
   "cell_type": "code",
   "source": [
    "def collate_fn(batch):\n",
    "    images, bboxes, labels = [], [], []\n",
    "    \n",
    "    for image, box, label in batch:\n",
    "        images.append(image)\n",
    "        bboxes.append(box)\n",
    "        labels.append(label)\n",
    "    \n",
    "    return torch.stack(images, dim=0), bboxes, labels\n",
    "    \n",
    "\n",
    "class DataModule(pl.LightningDataModule):\n",
    "    def __init__(\n",
    "            self,\n",
    "            dataset: DetectionDataset,\n",
    "            collate_fn = collate_fn,\n",
    "            batch_size: int   = 32,\n",
    "            valid_size: float = 0.2\n",
    "    ):\n",
    "        super().__init__()\n",
    "        \n",
    "        self.dataset    = dataset\n",
    "        self.batch_sz   = batch_size\n",
    "        self.collate_fn = collate_fn\n",
    "        \n",
    "        train, valid = self._train_valid_split(self.dataset, valid_size=valid_size)\n",
    "\n",
    "        self.train = train\n",
    "        self.valid = valid\n",
    "\n",
    "    def _train_valid_split(self, dataset, valid_size: float):\n",
    "        train_indices, valid_indices = train_test_split(np.arange(len(dataset)), test_size=valid_size)\n",
    "        train = Subset(dataset, train_indices)\n",
    "        valid = Subset(dataset, valid_indices)\n",
    "        return train, valid\n",
    "\n",
    "    def train_dataloader(self):\n",
    "        return td.DataLoader(self.train, batch_size=self.batch_sz, shuffle=True, collate_fn=self.collate_fn)\n",
    "\n",
    "    def val_dataloader(self):\n",
    "        return td.DataLoader(self.valid, batch_size=self.batch_sz, collate_fn=self.collate_fn)"
   ],
   "metadata": {
    "execution": {
     "iopub.status.busy": "2022-10-22T20:31:11.804360Z",
     "iopub.execute_input": "2022-10-22T20:31:11.804845Z",
     "iopub.status.idle": "2022-10-22T20:31:11.816712Z",
     "shell.execute_reply.started": "2022-10-22T20:31:11.804812Z",
     "shell.execute_reply": "2022-10-22T20:31:11.815823Z"
    },
    "trusted": true
   },
   "execution_count": 4,
   "outputs": []
  },
  {
   "cell_type": "code",
   "source": [
    "class Detector(pl.LightningModule):\n",
    "    def __init__(self, torch_model):\n",
    "        super().__init__()\n",
    "        \n",
    "        self.model = torch_model\n",
    "        self.valid_map = MeanAveragePrecision(iou_thresholds=[0.5, 0.75, 0.9])\n",
    "        \n",
    "    def training_step(self, batch, _):\n",
    "        images, bboxes, labels = batch\n",
    "         \n",
    "        targets = [\n",
    "            {\"boxes\": boxes, \"labels\": label} for boxes, label in zip(bboxes, labels)\n",
    "        ]\n",
    "        \n",
    "        output = self.model(images, targets)\n",
    "        loss   = output[\"loss_classifier\"] + output[\"loss_box_reg\"] + output[\"loss_objectness\"] + output[\"loss_rpn_box_reg\"]\n",
    "        loss   = loss / 4\n",
    "        \n",
    "        return loss\n",
    "\n",
    "    def validation_step(self, batch, *args, **kwargs):\n",
    "        images, bboxes, labels = batch\n",
    "        \n",
    "        targets = [\n",
    "            {\"boxes\": boxes, \"labels\": label} for boxes, label in zip(bboxes, labels)\n",
    "        ]\n",
    "        \n",
    "        outputs = self.model(images)\n",
    "\n",
    "        self.valid_map.update(outputs, targets)\n",
    "\n",
    "    def validation_epoch_end(self, outputs):\n",
    "        valid_map = self.valid_map.compute()\n",
    "        \n",
    "        self.log(\"map\", valid_map[\"map\"].item())\n",
    "        \n",
    "        pprint.pprint(valid_map)\n",
    "    \n",
    "    def configure_optimizers(self):\n",
    "        return torch.optim.Adam(self.model.parameters(), lr=5e-5)"
   ],
   "metadata": {
    "execution": {
     "iopub.status.busy": "2022-10-22T20:31:11.820061Z",
     "iopub.execute_input": "2022-10-22T20:31:11.820620Z",
     "iopub.status.idle": "2022-10-22T20:31:11.831565Z",
     "shell.execute_reply.started": "2022-10-22T20:31:11.820594Z",
     "shell.execute_reply": "2022-10-22T20:31:11.830708Z"
    },
    "trusted": true
   },
   "execution_count": 5,
   "outputs": []
  },
  {
   "cell_type": "code",
   "source": [
    "train = DetectionDataset(\n",
    "    images_root=\"../input/text-recognition-total-text-dataset/totaltext/Images/Train\",\n",
    "    labels_root=\"../input/text-recognition-total-text-dataset/TT_new_train_GT/Train\"\n",
    ")\n",
    "\n",
    "data_module = DataModule(train, valid_size=0.1)\n",
    "model       = fasterrcnn_mobilenet_v3_large_fpn(pretrained=True, num_classes=2)\n",
    "detector    = Detector(model)\n",
    "\n",
    "callbacks = [\n",
    "    pl.callbacks.EarlyStopping(\n",
    "        monitor=\"map\",\n",
    "        patience=2,\n",
    "        mode=\"max\"\n",
    "    ),\n",
    "    pl.callbacks.ModelCheckpoint(\n",
    "        dirpath=\"checkpoints\",\n",
    "        monitor=\"map\",\n",
    "        mode=\"max\",\n",
    "        filename=\"fasterrcnn_mobilenet_v3_large_fpn-{epoch}-{map:.4f}\"\n",
    "    )\n",
    "]\n",
    "\n",
    "trainer = pl.Trainer(\n",
    "    accelerator=\"gpu\",\n",
    "    devices=1,\n",
    "    max_epochs=10,\n",
    "    callbacks=callbacks\n",
    ")"
   ],
   "metadata": {
    "id": "NXyrsQ1jl2v9",
    "execution": {
     "iopub.status.busy": "2022-10-22T20:31:11.834824Z",
     "iopub.execute_input": "2022-10-22T20:31:11.835106Z",
     "iopub.status.idle": "2022-10-22T20:31:13.514656Z",
     "shell.execute_reply.started": "2022-10-22T20:31:11.835082Z",
     "shell.execute_reply": "2022-10-22T20:31:13.513324Z"
    },
    "trusted": true
   },
   "execution_count": 6,
   "outputs": [
    {
     "name": "stderr",
     "text": "Downloading: \"https://download.pytorch.org/models/mobilenet_v3_large-8738ca79.pth\" to /root/.cache/torch/hub/checkpoints/mobilenet_v3_large-8738ca79.pth\n",
     "output_type": "stream"
    },
    {
     "output_type": "display_data",
     "data": {
      "text/plain": "  0%|          | 0.00/21.1M [00:00<?, ?B/s]",
      "application/vnd.jupyter.widget-view+json": {
       "version_major": 2,
       "version_minor": 0,
       "model_id": "7041cec78b464727ad745dad71b0f354"
      }
     },
     "metadata": {}
    }
   ]
  },
  {
   "cell_type": "code",
   "source": [
    "trainer.fit(detector, data_module)"
   ],
   "metadata": {
    "execution": {
     "iopub.status.busy": "2022-10-22T20:31:13.516821Z",
     "iopub.execute_input": "2022-10-22T20:31:13.517214Z",
     "iopub.status.idle": "2022-10-22T21:08:18.995321Z",
     "shell.execute_reply.started": "2022-10-22T20:31:13.517171Z",
     "shell.execute_reply": "2022-10-22T21:08:18.994323Z"
    },
    "trusted": true
   },
   "execution_count": 7,
   "outputs": [
    {
     "output_type": "display_data",
     "data": {
      "text/plain": "Sanity Checking: 0it [00:00, ?it/s]",
      "application/vnd.jupyter.widget-view+json": {
       "version_major": 2,
       "version_minor": 0,
       "model_id": ""
      }
     },
     "metadata": {}
    },
    {
     "name": "stdout",
     "text": "{'map': tensor(0.0001),\n 'map_50': tensor(0.0003),\n 'map_75': tensor(0.),\n 'map_large': tensor(0.0188),\n 'map_medium': tensor(0.0001),\n 'map_per_class': tensor(-1.),\n 'map_small': tensor(7.2535e-06),\n 'mar_1': tensor(0.),\n 'mar_10': tensor(0.0013),\n 'mar_100': tensor(0.0108),\n 'mar_100_per_class': tensor(-1.),\n 'mar_large': tensor(0.0667),\n 'mar_medium': tensor(0.0207),\n 'mar_small': tensor(0.0021)}\n",
     "output_type": "stream"
    },
    {
     "name": "stderr",
     "text": "/opt/conda/lib/python3.7/site-packages/pytorch_lightning/trainer/trainer.py:1896: PossibleUserWarning: The number of training batches (36) is smaller than the logging interval Trainer(log_every_n_steps=50). Set a lower value for log_every_n_steps if you want to see logs for the training epoch.\n  category=PossibleUserWarning,\n",
     "output_type": "stream"
    },
    {
     "output_type": "display_data",
     "data": {
      "text/plain": "Training: 0it [00:00, ?it/s]",
      "application/vnd.jupyter.widget-view+json": {
       "version_major": 2,
       "version_minor": 0,
       "model_id": "6d40dad431c547eea8c366b83ef0fd46"
      }
     },
     "metadata": {}
    },
    {
     "output_type": "display_data",
     "data": {
      "text/plain": "Validation: 0it [00:00, ?it/s]",
      "application/vnd.jupyter.widget-view+json": {
       "version_major": 2,
       "version_minor": 0,
       "model_id": ""
      }
     },
     "metadata": {}
    },
    {
     "name": "stdout",
     "text": "{'map': tensor(0.0003),\n 'map_50': tensor(0.0010),\n 'map_75': tensor(4.6358e-06),\n 'map_large': tensor(0.0091),\n 'map_medium': tensor(0.0006),\n 'map_per_class': tensor(-1.),\n 'map_small': tensor(0.0001),\n 'mar_1': tensor(0.0004),\n 'mar_10': tensor(0.0042),\n 'mar_100': tensor(0.0333),\n 'mar_100_per_class': tensor(-1.),\n 'mar_large': tensor(0.1091),\n 'mar_medium': tensor(0.0561),\n 'mar_small': tensor(0.0197)}\n",
     "output_type": "stream"
    },
    {
     "output_type": "display_data",
     "data": {
      "text/plain": "Validation: 0it [00:00, ?it/s]",
      "application/vnd.jupyter.widget-view+json": {
       "version_major": 2,
       "version_minor": 0,
       "model_id": ""
      }
     },
     "metadata": {}
    },
    {
     "name": "stdout",
     "text": "{'map': tensor(0.0009),\n 'map_50': tensor(0.0028),\n 'map_75': tensor(1.0281e-05),\n 'map_large': tensor(0.0096),\n 'map_medium': tensor(0.0022),\n 'map_per_class': tensor(-1.),\n 'map_small': tensor(0.0003),\n 'mar_1': tensor(0.0024),\n 'mar_10': tensor(0.0134),\n 'mar_100': tensor(0.0532),\n 'mar_100_per_class': tensor(-1.),\n 'mar_large': tensor(0.1407),\n 'mar_medium': tensor(0.1007),\n 'mar_small': tensor(0.0293)}\n",
     "output_type": "stream"
    },
    {
     "output_type": "display_data",
     "data": {
      "text/plain": "Validation: 0it [00:00, ?it/s]",
      "application/vnd.jupyter.widget-view+json": {
       "version_major": 2,
       "version_minor": 0,
       "model_id": ""
      }
     },
     "metadata": {}
    },
    {
     "name": "stdout",
     "text": "{'map': tensor(0.0056),\n 'map_50': tensor(0.0156),\n 'map_75': tensor(0.0011),\n 'map_large': tensor(0.0181),\n 'map_medium': tensor(0.0095),\n 'map_per_class': tensor(-1.),\n 'map_small': tensor(0.0038),\n 'mar_1': tensor(0.0045),\n 'mar_10': tensor(0.0205),\n 'mar_100': tensor(0.0657),\n 'mar_100_per_class': tensor(-1.),\n 'mar_large': tensor(0.1653),\n 'mar_medium': tensor(0.1311),\n 'mar_small': tensor(0.0340)}\n",
     "output_type": "stream"
    },
    {
     "output_type": "display_data",
     "data": {
      "text/plain": "Validation: 0it [00:00, ?it/s]",
      "application/vnd.jupyter.widget-view+json": {
       "version_major": 2,
       "version_minor": 0,
       "model_id": ""
      }
     },
     "metadata": {}
    },
    {
     "name": "stdout",
     "text": "{'map': tensor(0.0080),\n 'map_50': tensor(0.0222),\n 'map_75': tensor(0.0017),\n 'map_large': tensor(0.0386),\n 'map_medium': tensor(0.0147),\n 'map_per_class': tensor(-1.),\n 'map_small': tensor(0.0041),\n 'mar_1': tensor(0.0063),\n 'mar_10': tensor(0.0283),\n 'mar_100': tensor(0.0789),\n 'mar_100_per_class': tensor(-1.),\n 'mar_large': tensor(0.1854),\n 'mar_medium': tensor(0.1605),\n 'mar_small': tensor(0.0405)}\n",
     "output_type": "stream"
    },
    {
     "output_type": "display_data",
     "data": {
      "text/plain": "Validation: 0it [00:00, ?it/s]",
      "application/vnd.jupyter.widget-view+json": {
       "version_major": 2,
       "version_minor": 0,
       "model_id": ""
      }
     },
     "metadata": {}
    },
    {
     "name": "stdout",
     "text": "{'map': tensor(0.0108),\n 'map_50': tensor(0.0306),\n 'map_75': tensor(0.0017),\n 'map_large': tensor(0.0470),\n 'map_medium': tensor(0.0227),\n 'map_per_class': tensor(-1.),\n 'map_small': tensor(0.0045),\n 'mar_1': tensor(0.0074),\n 'mar_10': tensor(0.0346),\n 'mar_100': tensor(0.0892),\n 'mar_100_per_class': tensor(-1.),\n 'mar_large': tensor(0.2051),\n 'mar_medium': tensor(0.1787),\n 'mar_small': tensor(0.0474)}\n",
     "output_type": "stream"
    },
    {
     "output_type": "display_data",
     "data": {
      "text/plain": "Validation: 0it [00:00, ?it/s]",
      "application/vnd.jupyter.widget-view+json": {
       "version_major": 2,
       "version_minor": 0,
       "model_id": ""
      }
     },
     "metadata": {}
    },
    {
     "name": "stdout",
     "text": "{'map': tensor(0.0146),\n 'map_50': tensor(0.0405),\n 'map_75': tensor(0.0029),\n 'map_large': tensor(0.0513),\n 'map_medium': tensor(0.0302),\n 'map_per_class': tensor(-1.),\n 'map_small': tensor(0.0061),\n 'mar_1': tensor(0.0088),\n 'mar_10': tensor(0.0409),\n 'mar_100': tensor(0.0994),\n 'mar_100_per_class': tensor(-1.),\n 'mar_large': tensor(0.2174),\n 'mar_medium': tensor(0.1961),\n 'mar_small': tensor(0.0548)}\n",
     "output_type": "stream"
    },
    {
     "output_type": "display_data",
     "data": {
      "text/plain": "Validation: 0it [00:00, ?it/s]",
      "application/vnd.jupyter.widget-view+json": {
       "version_major": 2,
       "version_minor": 0,
       "model_id": ""
      }
     },
     "metadata": {}
    },
    {
     "name": "stdout",
     "text": "{'map': tensor(0.0202),\n 'map_50': tensor(0.0496),\n 'map_75': tensor(0.0107),\n 'map_large': tensor(0.0658),\n 'map_medium': tensor(0.0375),\n 'map_per_class': tensor(-1.),\n 'map_small': tensor(0.0097),\n 'mar_1': tensor(0.0101),\n 'mar_10': tensor(0.0469),\n 'mar_100': tensor(0.1088),\n 'mar_100_per_class': tensor(-1.),\n 'mar_large': tensor(0.2377),\n 'mar_medium': tensor(0.2117),\n 'mar_small': tensor(0.0613)}\n",
     "output_type": "stream"
    },
    {
     "output_type": "display_data",
     "data": {
      "text/plain": "Validation: 0it [00:00, ?it/s]",
      "application/vnd.jupyter.widget-view+json": {
       "version_major": 2,
       "version_minor": 0,
       "model_id": ""
      }
     },
     "metadata": {}
    },
    {
     "name": "stdout",
     "text": "{'map': tensor(0.0240),\n 'map_50': tensor(0.0605),\n 'map_75': tensor(0.0115),\n 'map_large': tensor(0.0787),\n 'map_medium': tensor(0.0479),\n 'map_per_class': tensor(-1.),\n 'map_small': tensor(0.0112),\n 'mar_1': tensor(0.0117),\n 'mar_10': tensor(0.0524),\n 'mar_100': tensor(0.1177),\n 'mar_100_per_class': tensor(-1.),\n 'mar_large': tensor(0.2567),\n 'mar_medium': tensor(0.2261),\n 'mar_small': tensor(0.0675)}\n",
     "output_type": "stream"
    },
    {
     "output_type": "display_data",
     "data": {
      "text/plain": "Validation: 0it [00:00, ?it/s]",
      "application/vnd.jupyter.widget-view+json": {
       "version_major": 2,
       "version_minor": 0,
       "model_id": ""
      }
     },
     "metadata": {}
    },
    {
     "name": "stdout",
     "text": "{'map': tensor(0.0279),\n 'map_50': tensor(0.0712),\n 'map_75': tensor(0.0122),\n 'map_large': tensor(0.0874),\n 'map_medium': tensor(0.0562),\n 'map_per_class': tensor(-1.),\n 'map_small': tensor(0.0125),\n 'mar_1': tensor(0.0130),\n 'mar_10': tensor(0.0577),\n 'mar_100': tensor(0.1257),\n 'mar_100_per_class': tensor(-1.),\n 'mar_large': tensor(0.2677),\n 'mar_medium': tensor(0.2403),\n 'mar_small': tensor(0.0731)}\n",
     "output_type": "stream"
    },
    {
     "output_type": "display_data",
     "data": {
      "text/plain": "Validation: 0it [00:00, ?it/s]",
      "application/vnd.jupyter.widget-view+json": {
       "version_major": 2,
       "version_minor": 0,
       "model_id": ""
      }
     },
     "metadata": {}
    },
    {
     "name": "stdout",
     "text": "{'map': tensor(0.0314),\n 'map_50': tensor(0.0808),\n 'map_75': tensor(0.0131),\n 'map_large': tensor(0.1020),\n 'map_medium': tensor(0.0665),\n 'map_per_class': tensor(-1.),\n 'map_small': tensor(0.0138),\n 'mar_1': tensor(0.0143),\n 'mar_10': tensor(0.0626),\n 'mar_100': tensor(0.1325),\n 'mar_100_per_class': tensor(-1.),\n 'mar_large': tensor(0.2847),\n 'mar_medium': tensor(0.2499),\n 'mar_small': tensor(0.0783)}\n",
     "output_type": "stream"
    }
   ]
  },
  {
   "cell_type": "code",
   "source": [
    "torch.save(model, \"fasterrcnn_mobilenet_v3_large_fpn.pth\")"
   ],
   "metadata": {
    "execution": {
     "iopub.status.busy": "2022-10-22T21:16:28.091218Z",
     "iopub.execute_input": "2022-10-22T21:16:28.091601Z",
     "iopub.status.idle": "2022-10-22T21:16:28.271583Z",
     "shell.execute_reply.started": "2022-10-22T21:16:28.091564Z",
     "shell.execute_reply": "2022-10-22T21:16:28.270618Z"
    },
    "trusted": true
   },
   "execution_count": 8,
   "outputs": []
  }
 ]
}
