{
  "cells": [
    {
      "cell_type": "code",
      "source": [
        "!pip install pyvirtualdisplay > /dev/null 2>&1\n",
        "!pip install --upgrade ipykernel google-colab > /dev/null 2>&1"
      ],
      "metadata": {
        "id": "5p_60tXgRxFF"
      },
      "id": "5p_60tXgRxFF",
      "execution_count": 1,
      "outputs": []
    },
    {
      "cell_type": "code",
      "source": [
        "import base64\n",
        "import glob\n",
        "import io\n",
        "import random\n",
        "import shutil\n",
        "from collections import deque, namedtuple\n",
        "from copy import deepcopy\n",
        "\n",
        "import gym\n",
        "\n",
        "import matplotlib.pyplot as plt\n",
        "import numpy as np\n",
        "import torch\n",
        "import torch.nn as nn\n",
        "import torch.nn.functional as F\n",
        "\n",
        "from IPython import display as ipythondisplay\n",
        "from IPython.display import HTML\n",
        "from pyvirtualdisplay import Display\n",
        "from tqdm import trange"
      ],
      "metadata": {
        "id": "lTEFd332Ryif"
      },
      "id": "lTEFd332Ryif",
      "execution_count": 2,
      "outputs": []
    },
    {
      "cell_type": "markdown",
      "source": [
        "*Epsilon-gready strategy class*"
      ],
      "metadata": {
        "id": "Xy7-rfcOc_bi"
      },
      "id": "Xy7-rfcOc_bi"
    },
    {
      "cell_type": "code",
      "source": [
        "class EpsilonStrategy:\n",
        "    def __init__(self, start=1, decay=.999985, min_eps=0.02):\n",
        "        self.eps = start\n",
        "        self.decay = decay\n",
        "        self.start = start\n",
        "        self.min_eps = min_eps\n",
        "\n",
        "    def eps(self):\n",
        "        return self.eps\n",
        "\n",
        "    def decrease(self):\n",
        "        self.eps = max(self.eps * self.decay, self.min_eps)\n",
        "\n",
        "    def check_random_prob(self):\n",
        "        return np.random.random() < self.eps"
      ],
      "metadata": {
        "colab": {
          "base_uri": "https://localhost:8080/"
        },
        "id": "jmjF7y-hc-vt",
        "outputId": "dab9aba9-3ce0-47b2-d79b-b0d412a06c7e"
      },
      "id": "jmjF7y-hc-vt",
      "execution_count": 3,
      "outputs": [
        {
          "output_type": "stream",
          "name": "stderr",
          "text": [
            "/usr/local/lib/python3.10/dist-packages/ipykernel/ipkernel.py:283: DeprecationWarning: `should_run_async` will not call `transform_cell` automatically in the future. Please pass the result to `transformed_cell` argument and any exception that happen during thetransform in `preprocessing_exc_tuple` in IPython 7.17 and above.\n",
            "  and should_run_async(code)\n"
          ]
        }
      ]
    },
    {
      "cell_type": "markdown",
      "source": [
        "*Experience buffer class*"
      ],
      "metadata": {
        "id": "5usrmwmJa25j"
      },
      "id": "5usrmwmJa25j"
    },
    {
      "cell_type": "code",
      "source": [
        "Transition = namedtuple(typename='Transition',\n",
        "                        field_names=['state', 'next_state', 'action', 'reward', 'terminal'])\n",
        "\n",
        "class ExperienceBuffer:\n",
        "    def __init__(self, capacity=10_000, batch_size=32, start_sample_from=10_000):\n",
        "        capacity = int(capacity)\n",
        "        batch_size = int(batch_size)\n",
        "        start_sample_from = int(start_sample_from)\n",
        "\n",
        "        if batch_size > capacity:\n",
        "            raise AssertionError('random sample size should be <= size')\n",
        "\n",
        "        if batch_size > start_sample_from:\n",
        "            raise AssertionError('start sample from should be >= batch_size')\n",
        "\n",
        "        self.buffer = deque(maxlen=capacity)\n",
        "        self.capacity = capacity\n",
        "        self.batch_size = batch_size\n",
        "        self.batch_indices = np.arange(self.batch_size)\n",
        "        self.start_sample_from = start_sample_from\n",
        "\n",
        "    def __len__(self):\n",
        "        return len(self.buffer)\n",
        "\n",
        "    def sample(self):\n",
        "        if not self.is_ready_for_sample():\n",
        "            raise AssertionError('Buffer have is not ready for sample')\n",
        "\n",
        "        indices = np.random.choice(len(self.buffer), self.batch_size, replace=False)\n",
        "        states, next_states, actions, rewards, terminals = zip(*[self.buffer[i] for i in indices])\n",
        "        return (np.array(states),\n",
        "                np.array(next_states),\n",
        "                np.array(actions, dtype=np.int64),\n",
        "                np.array(rewards, dtype=np.float32),\n",
        "                np.array(terminals, dtype=np.uint8))\n",
        "\n",
        "    def push(self, transition: Transition):\n",
        "        self.buffer.append(transition)\n",
        "\n",
        "    def is_ready_for_sample(self):\n",
        "        return len(self.buffer) >= self.start_sample_from"
      ],
      "metadata": {
        "id": "IVS0NkCYcqt9"
      },
      "id": "IVS0NkCYcqt9",
      "execution_count": 4,
      "outputs": []
    },
    {
      "cell_type": "markdown",
      "source": [
        "*Dqn Agent*"
      ],
      "metadata": {
        "id": "5BeGdB0ah1BL"
      },
      "id": "5BeGdB0ah1BL"
    },
    {
      "cell_type": "code",
      "source": [
        "class DqnAgent:\n",
        "    def __init__(\n",
        "        self,\n",
        "        net: nn.Module,\n",
        "        lr: float,\n",
        "        gamma: float,\n",
        "        update_model_freq: int,\n",
        "        buffer: ExperienceBuffer,\n",
        "        eps_strategy: EpsilonStrategy,\n",
        "        device: str = \"cuda\"\n",
        "    ):\n",
        "        self.source_net = deepcopy(net).to(device)\n",
        "        self.target_net = deepcopy(net).to(device).eval()\n",
        "        self.lr = lr\n",
        "        self.gamma = gamma\n",
        "        self.device = device\n",
        "        self.update_model_freq = update_model_freq\n",
        "        self.buffer = buffer\n",
        "        self.eps_strategy = eps_strategy\n",
        "\n",
        "        self.criterion = nn.MSELoss()\n",
        "        self.optimizer = torch.optim.Adam(self.source_net.parameters(), lr=lr)\n",
        "\n",
        "    def eval(self):\n",
        "        self.source_net.eval()\n",
        "\n",
        "    def train(self):\n",
        "        self.source_net.train()\n",
        "\n",
        "    @torch.no_grad()\n",
        "    def act(self, state: np.ndarray) -> int:\n",
        "        self.source_net.eval()\n",
        "        numpy_state  = np.array([state], copy=False)\n",
        "        tensor_state = torch.FloatTensor(numpy_state).to(self.device)\n",
        "        q_values     = self.source_net(tensor_state)\n",
        "        action       = torch.argmax(q_values).item()\n",
        "        self.source_net.train()\n",
        "        return action\n",
        "\n",
        "    def learn(self, env, epochs: int):\n",
        "        progress = trange(epochs, desc=\"Epochs\")\n",
        "\n",
        "        ema_reward = None\n",
        "        rewards = []\n",
        "\n",
        "        step = 0\n",
        "\n",
        "        for epoch in progress:\n",
        "            state = env.reset()\n",
        "            terminal = False\n",
        "            ep_reward = 0\n",
        "\n",
        "            while not terminal:\n",
        "                action = self._epsilon_act(state, env)\n",
        "                next_state, reward, terminal, _, _ = env.step(action)\n",
        "\n",
        "                transition = Transition(\n",
        "                    state=state,\n",
        "                    next_state=next_state,\n",
        "                    action=action,\n",
        "                    reward=reward,\n",
        "                    terminal=terminal\n",
        "                )\n",
        "\n",
        "                self.buffer.push(transition)\n",
        "                self._learn_episode(step)\n",
        "\n",
        "                step += 1\n",
        "                ep_reward += 1\n",
        "                self.eps_strategy.decrease()\n",
        "                state = next_state\n",
        "\n",
        "                if ep_reward == 500:\n",
        "                    break\n",
        "\n",
        "            rewards.append(ep_reward)\n",
        "            if ema_reward is None:\n",
        "                ema_reward = ep_reward\n",
        "            else:\n",
        "                ema_reward = 0.9 * ema_reward + 0.1 * ep_reward\n",
        "\n",
        "            progress.set_postfix({\"EMA reward\": ema_reward})\n",
        "\n",
        "        return rewards\n",
        "\n",
        "    def _learn_episode(self, episode: int):\n",
        "        \"\"\"\n",
        "        Trains Q-function net.\n",
        "        Using fixed target-model to predict target Q-function and q-model to choose actions while training.\n",
        "        \"\"\"\n",
        "        if not self.buffer.is_ready_for_sample():\n",
        "            return\n",
        "\n",
        "        states, next_states, actions, rewards, terminals = self._sample_batch()\n",
        "\n",
        "        q_eval = self.source_net(states)[self.buffer.batch_indices, actions]\n",
        "\n",
        "        with torch.no_grad():\n",
        "            q_future = self.target_net(next_states).max(dim=1).values\n",
        "            q_future[terminals] = 0.0\n",
        "            q_target = rewards + self.gamma * q_future\n",
        "\n",
        "        self._gradient_step(q_eval, q_target)\n",
        "\n",
        "        if episode % self.update_model_freq == 0:\n",
        "            self.target_net.load_state_dict(self.source_net.state_dict())\n",
        "            self.target_net.eval()\n",
        "\n",
        "    def _epsilon_act(self, state: np.ndarray, env) -> int:\n",
        "        \"\"\"\n",
        "        Represents eps-greedy selection according to given eps-strategy.\n",
        "        \"\"\"\n",
        "        if self.eps_strategy.check_random_prob():\n",
        "            return env.action_space.sample()\n",
        "        else:\n",
        "            return self.act(state)\n",
        "\n",
        "    def _sample_batch(self):\n",
        "        \"\"\"\n",
        "        :return: ( [states], [next_states], [actions], [rewards], [is_done] )\n",
        "        \"\"\"\n",
        "        states, next_states, actions, rewards, terminals = self.buffer.sample()\n",
        "        return [\n",
        "            torch.FloatTensor(states).to(self.device),\n",
        "            torch.FloatTensor(next_states).to(self.device),\n",
        "            torch.LongTensor(actions).to(self.device),\n",
        "            torch.FloatTensor(rewards).to(self.device),\n",
        "            torch.BoolTensor(terminals).to(self.device)\n",
        "        ]\n",
        "\n",
        "    def _gradient_step(self, q_eval: torch.Tensor, q_target: torch.Tensor):\n",
        "        loss = self.criterion(q_eval, q_target)\n",
        "        self.optimizer.zero_grad()\n",
        "        loss.backward()\n",
        "        self.optimizer.step()"
      ],
      "metadata": {
        "id": "ZOR5Vw-va2X0"
      },
      "id": "ZOR5Vw-va2X0",
      "execution_count": 5,
      "outputs": []
    },
    {
      "cell_type": "markdown",
      "source": [
        "*Q network*"
      ],
      "metadata": {
        "id": "3srbBzQNh3ni"
      },
      "id": "3srbBzQNh3ni"
    },
    {
      "cell_type": "code",
      "source": [
        "class DenseNet(nn.Module):\n",
        "    def __init__(self, space_dim: int, action_dim: int):\n",
        "        super().__init__()\n",
        "        self.lbr1 = nn.Sequential(\n",
        "            nn.Linear(space_dim, 32),\n",
        "            nn.BatchNorm1d(32),\n",
        "            nn.Tanh()\n",
        "        )\n",
        "        self.lbr2 = nn.Sequential(\n",
        "            nn.Linear(32, 64),\n",
        "            nn.BatchNorm1d(64),\n",
        "            nn.Tanh()\n",
        "        )\n",
        "        self.regressor = nn.Linear(64, action_dim)\n",
        "\n",
        "    def forward(self, x):\n",
        "        x = self.lbr1(x)\n",
        "        x = self.lbr2(x)\n",
        "        x = self.regressor(x)\n",
        "        return x"
      ],
      "metadata": {
        "id": "6CltnoRChvmQ"
      },
      "id": "6CltnoRChvmQ",
      "execution_count": 6,
      "outputs": []
    },
    {
      "cell_type": "markdown",
      "source": [
        "*Compose all together*"
      ],
      "metadata": {
        "id": "PqGVn05bifvq"
      },
      "id": "PqGVn05bifvq"
    },
    {
      "cell_type": "code",
      "source": [
        "buffer = ExperienceBuffer(\n",
        "    capacity=50_000,\n",
        "    batch_size=512,\n",
        "    start_sample_from=1000,\n",
        ")\n",
        "\n",
        "eps_strategy = EpsilonStrategy(\n",
        "    decay=0.9995,\n",
        "    min_eps=0.01\n",
        ")\n",
        "\n",
        "net = DenseNet(space_dim=4, action_dim=2)\n",
        "\n",
        "agent = DqnAgent(\n",
        "    net=net,\n",
        "    lr=1e-4,\n",
        "    gamma=0.99,\n",
        "    update_model_freq=200,\n",
        "    buffer=buffer,\n",
        "    eps_strategy=eps_strategy,\n",
        "    device=\"cuda\"\n",
        ")"
      ],
      "metadata": {
        "id": "GGpDdIsSifQB"
      },
      "id": "GGpDdIsSifQB",
      "execution_count": 7,
      "outputs": []
    },
    {
      "cell_type": "code",
      "source": [
        "env = gym.make(\"CartPole-v1\", new_step_api=True)\n",
        "rewards = agent.learn(env, epochs=300)"
      ],
      "metadata": {
        "colab": {
          "base_uri": "https://localhost:8080/"
        },
        "id": "zSVVNxfWjLLP",
        "outputId": "b0c3639e-d543-40a8-dfb4-c2e6c36104e8"
      },
      "id": "zSVVNxfWjLLP",
      "execution_count": 8,
      "outputs": [
        {
          "output_type": "stream",
          "name": "stderr",
          "text": [
            "Epochs: 100%|██████████| 300/300 [01:43<00:00,  2.91it/s, EMA reward=484]\n"
          ]
        }
      ]
    },
    {
      "cell_type": "code",
      "source": [
        "def ema(x, alpha):\n",
        "    emas = [x[0]]\n",
        "    for v in x[1:]:\n",
        "        emas.append(emas[-1] * (1 - alpha) + alpha * v)\n",
        "\n",
        "    return emas\n",
        "\n",
        "plt.grid()\n",
        "plt.plot(rewards, label=\"Reward\")\n",
        "plt.plot(ema(rewards, 0.05), label=\"EMA reward [alpha=0.05]\")\n",
        "plt.xlabel(\"Epoch\")\n",
        "plt.ylabel(\"Reward\")\n",
        "plt.legend()\n",
        "plt.show()"
      ],
      "metadata": {
        "colab": {
          "base_uri": "https://localhost:8080/",
          "height": 449
        },
        "id": "05kidfXWlvRo",
        "outputId": "d598f033-06c9-4046-8217-1c1112423066"
      },
      "id": "05kidfXWlvRo",
      "execution_count": 9,
      "outputs": [
        {
          "output_type": "display_data",
          "data": {
            "text/plain": [
              "<Figure size 640x480 with 1 Axes>"
            ],
            "image/png": "[encoded data removed]"
          },
          "metadata": {}
        }
      ]
    },
    {
      "cell_type": "markdown",
      "source": [
        "*Show example of final agent controlling*"
      ],
      "metadata": {
        "id": "lQsiF6vunL0T"
      },
      "id": "lQsiF6vunL0T"
    },
    {
      "cell_type": "code",
      "source": [
        "display = Display(visible=0, size=(1400, 900))\n",
        "display.start()\n",
        "\n",
        "def show_video():\n",
        "    mp4list = glob.glob('video/*.mp4')\n",
        "    if len(mp4list) > 0:\n",
        "        mp4 = mp4list[0]\n",
        "        video = io.open(mp4, 'r+b').read()\n",
        "        encoded = base64.b64encode(video)\n",
        "        ipythondisplay.display(HTML(data='''<video alt=\"test\" autoplay\n",
        "                    loop controls style=\"height: 400px;\">\n",
        "                    <source src=\"data:video/mp4;base64,{0}\" type=\"video/mp4\" />\n",
        "                    </video>'''.format(encoded.decode('ascii'))))\n",
        "    else:\n",
        "        print(\"Could not find video\")\n",
        "\n",
        "def play(dqn, enviroment):\n",
        "    enviroment = gym.wrappers.record_video.RecordVideo(enviroment, \"./video\")\n",
        "    state = enviroment.reset()\n",
        "    total = 0\n",
        "    while True:\n",
        "        enviroment.render()\n",
        "        action = dqn.act(state)\n",
        "        next_state, reward, done, _ = enviroment.step(action)\n",
        "        state = next_state\n",
        "        total += reward\n",
        "        if done:\n",
        "            enviroment.close()\n",
        "            show_video()\n",
        "            return total"
      ],
      "metadata": {
        "id": "rxdNDK-am9v5"
      },
      "id": "rxdNDK-am9v5",
      "execution_count": 10,
      "outputs": []
    },
    {
      "cell_type": "code",
      "source": [
        "play(agent, env)"
      ],
      "metadata": {
        "colab": {
          "base_uri": "https://localhost:8080/",
          "height": 780
        },
        "id": "qNttxunpnx0n",
        "outputId": "32a876e0-fd33-41df-cfe9-6ba40ea10467"
      },
      "id": "qNttxunpnx0n",
      "execution_count": 11,
      "outputs": [
        {
          "output_type": "stream",
          "name": "stderr",
          "text": [
            "/usr/local/lib/python3.10/dist-packages/ipykernel/ipkernel.py:283: DeprecationWarning: `should_run_async` will not call `transform_cell` automatically in the future. Please pass the result to `transformed_cell` argument and any exception that happen during thetransform in `preprocessing_exc_tuple` in IPython 7.17 and above.\n",
            "  and should_run_async(code)\n",
            "/usr/local/lib/python3.10/dist-packages/gym/core.py:317: DeprecationWarning: \u001b[33mWARN: Initializing wrapper in old step API which returns one bool instead of two. It is recommended to set `new_step_api=True` to use new step API. This will be the default behaviour in future.\u001b[0m\n",
            "  deprecation(\n",
            "/usr/local/lib/python3.10/dist-packages/gym/wrappers/record_video.py:78: UserWarning: \u001b[33mWARN: Overwriting existing videos at /content/video folder (try specifying a different `video_folder` for the `RecordVideo` wrapper if this is not desired)\u001b[0m\n",
            "  logger.warn(\n",
            "/usr/local/lib/python3.10/dist-packages/gym/wrappers/monitoring/video_recorder.py:78: DeprecationWarning: \u001b[33mWARN: Recording ability for environment CartPole-v1 initialized with `render_mode=None` is marked as deprecated and will be removed in the future.\u001b[0m\n",
            "  logger.deprecation(\n",
            "/usr/local/lib/python3.10/dist-packages/gym/core.py:43: DeprecationWarning: \u001b[33mWARN: The argument mode in render method is deprecated; use render_mode during environment initialization instead.\n",
            "See here for more information: https://www.gymlibrary.ml/content/api/\u001b[0m\n",
            "  deprecation(\n",
            "/usr/local/lib/python3.10/dist-packages/gym/core.py:49: DeprecationWarning: \u001b[33mWARN: You are calling render method, but you didn't specified the argument render_mode at environment initialization. To maintain backward compatibility, the environment will render in human mode.\n",
            "If you want to render in human mode, initialize the environment in this way: gym.make('EnvName', render_mode='human') and don't call the render method.\n",
            "See here for more information: https://www.gymlibrary.ml/content/api/\u001b[0m\n",
            "  deprecation(\n",
            "/usr/local/lib/python3.10/dist-packages/gym/core.py:43: DeprecationWarning: \u001b[33mWARN: The argument mode in render method is deprecated; use render_mode during environment initialization instead.\n",
            "See here for more information: https://www.gymlibrary.ml/content/api/\u001b[0m\n",
            "  deprecation(\n"
          ]
        },
        {
          "output_type": "display_data",
          "data": {
            "text/plain": [
              "<IPython.core.display.HTML object>"
            ],
            "text/html": [
              "<video alt=\"test\" autoplay \n",
              "                    loop controls style=\"height: 400px;\">\n",
              "                    <source src=\"data:video/mp4;base64,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\" type=\"video/mp4\" />\n",
              "                    </video>"
            ]
          },
          "metadata": {}
        },
        {
          "output_type": "execute_result",
          "data": {
            "text/plain": [
              "500.0"
            ]
          },
          "metadata": {},
          "execution_count": 11
        }
      ]
    }
  ],
  "metadata": {
    "kernelspec": {
      "display_name": "Python 3",
      "name": "python3"
    },
    "language_info": {
      "codemirror_mode": {
        "name": "ipython",
        "version": 3
      },
      "file_extension": ".py",
      "mimetype": "text/x-python",
      "name": "python",
      "nbconvert_exporter": "python",
      "pygments_lexer": "ipython3",
      "version": "3.9.6"
    },
    "colab": {
      "provenance": [],
      "gpuType": "T4"
    },
    "accelerator": "GPU"
  },
  "nbformat": 4,
  "nbformat_minor": 5
}