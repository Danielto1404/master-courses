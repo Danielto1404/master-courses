{
 "cells": [
  {
   "cell_type": "code",
   "execution_count": 1,
   "outputs": [],
   "source": [
    "import pandas as pd\n",
    "from sklearn.preprocessing import StandardScaler, LabelEncoder\n",
    "\n",
    "\n",
    "def warn(*args, **kwargs):\n",
    "    pass\n",
    "\n",
    "\n",
    "import warnings\n",
    "\n",
    "warnings.warn = warn"
   ],
   "metadata": {
    "collapsed": false,
    "pycharm": {
     "name": "#%%\n"
    }
   }
  },
  {
   "cell_type": "markdown",
   "source": [
    "### 1. Скачайте архив с наборами данных для задачи классификации или изучите API сайта OpenML.\n",
    "\n",
    "Скачано ~ 1000 наборов данных в формате `arff`"
   ],
   "metadata": {
    "collapsed": false,
    "pycharm": {
     "name": "#%% md\n"
    }
   }
  },
  {
   "cell_type": "code",
   "execution_count": 2,
   "outputs": [
    {
     "data": {
      "text/plain": "          id  length       target\n0   864.arff      60  binaryClass\n1   921.arff     132  binaryClass\n2   999.arff     226  binaryClass\n3   560.arff     252        class\n4  1543.arff    1080        Class",
      "text/html": "<div>\n<style scoped>\n    .dataframe tbody tr th:only-of-type {\n        vertical-align: middle;\n    }\n\n    .dataframe tbody tr th {\n        vertical-align: top;\n    }\n\n    .dataframe thead th {\n        text-align: right;\n    }\n</style>\n<table border=\"1\" class=\"dataframe\">\n  <thead>\n    <tr style=\"text-align: right;\">\n      <th></th>\n      <th>id</th>\n      <th>length</th>\n      <th>target</th>\n    </tr>\n  </thead>\n  <tbody>\n    <tr>\n      <th>0</th>\n      <td>864.arff</td>\n      <td>60</td>\n      <td>binaryClass</td>\n    </tr>\n    <tr>\n      <th>1</th>\n      <td>921.arff</td>\n      <td>132</td>\n      <td>binaryClass</td>\n    </tr>\n    <tr>\n      <th>2</th>\n      <td>999.arff</td>\n      <td>226</td>\n      <td>binaryClass</td>\n    </tr>\n    <tr>\n      <th>3</th>\n      <td>560.arff</td>\n      <td>252</td>\n      <td>class</td>\n    </tr>\n    <tr>\n      <th>4</th>\n      <td>1543.arff</td>\n      <td>1080</td>\n      <td>Class</td>\n    </tr>\n  </tbody>\n</table>\n</div>"
     },
     "execution_count": 2,
     "metadata": {},
     "output_type": "execute_result"
    }
   ],
   "source": [
    "BASE_PATH = \"../../datasets/OpenML\"\n",
    "DATA_PATH = f\"{BASE_PATH}/data\"\n",
    "\n",
    "datasets_meta = pd.read_csv(f\"{BASE_PATH}/meta.csv\")\n",
    "datasets_meta.head()"
   ],
   "metadata": {
    "collapsed": false,
    "pycharm": {
     "name": "#%%\n"
    }
   }
  },
  {
   "cell_type": "code",
   "execution_count": 3,
   "outputs": [
    {
     "name": "stdout",
     "output_type": "stream",
     "text": [
      "1.arff\r\n",
      "10.arff\r\n",
      "1001.arff\r\n",
      "1003.arff\r\n",
      "1005.arff\r\n"
     ]
    }
   ],
   "source": [
    "!ls {DATA_PATH} | head -n 5"
   ],
   "metadata": {
    "collapsed": false,
    "pycharm": {
     "name": "#%%\n"
    }
   }
  },
  {
   "cell_type": "markdown",
   "source": [
    "## 2. Реализуйте несколько мета-признаков из каждой группы: базовые, статистические и структурные.\n",
    "\n",
    "Функции реализованы в моей мини-библиотеке *Metafora*\n",
    "\n",
    "[metafora/meta/](../../metafora/meta)\n",
    "\n",
    "* [general](../../metafora/meta/general) – базовые мета-признаки\n",
    "* [statistics](../../metafora/meta/statistical) – статистические мета-признаки\n",
    "* [structured](../../metafora/meta/structured) – структурные мета-признаки\n",
    "* [pairwise](../../metafora/meta/pairwise) – мета-признаки, описывающие взаимодействия столбцов"
   ],
   "metadata": {
    "collapsed": false,
    "pycharm": {
     "name": "#%% md\n"
    }
   }
  },
  {
   "cell_type": "code",
   "execution_count": 4,
   "outputs": [],
   "source": [
    "from metafora.meta.pipeline import Pipeline\n",
    "from metafora.meta.statistical.numeric import NumericExtractor\n",
    "\n",
    "from metafora.meta.variants import *"
   ],
   "metadata": {
    "collapsed": false,
    "pycharm": {
     "name": "#%%\n"
    }
   }
  },
  {
   "cell_type": "code",
   "execution_count": 5,
   "outputs": [
    {
     "data": {
      "text/plain": "Pipeline(\n\tNumericExtractor(\n\t\tmax => std\n\t\tmax => var\n\t\tmin => std\n\t\tmin => var\n\t\tmedian => std\n\t\tmedian => var\n\t)\n)"
     },
     "execution_count": 5,
     "metadata": {},
     "output_type": "execute_result"
    }
   ],
   "source": [
    "pipe = Pipeline(\n",
    "    NumericExtractor(\n",
    "        columns=[\"A\"],\n",
    "        column_aggregators=[\"max\", \"min\", \"median\"],\n",
    "        post_aggregators=[\"std\", \"var\"],\n",
    "    )\n",
    ")\n",
    "\n",
    "pipe"
   ],
   "metadata": {
    "collapsed": false,
    "pycharm": {
     "name": "#%%\n"
    }
   }
  },
  {
   "cell_type": "markdown",
   "source": [
    "## 3. Выберите один набор данных. Измените в нём порядок строк, столбцов и категорий. Убедитесь, что мета-признаки от этого не изменились.\n",
    "\n",
    "Возьмем набор данных *wine* из пакета *scikit-learn*, затем получим мета–признаки до и после изменения порядка, сравним полученные мета-признаки"
   ],
   "metadata": {
    "collapsed": false,
    "pycharm": {
     "name": "#%% md\n"
    }
   }
  },
  {
   "cell_type": "code",
   "execution_count": 6,
   "outputs": [
    {
     "data": {
      "text/plain": "     alcohol  malic_acid   ash  alcalinity_of_ash  magnesium  total_phenols  \\\n0      14.23        1.71  2.43               15.6      127.0           2.80   \n1      13.20        1.78  2.14               11.2      100.0           2.65   \n2      13.16        2.36  2.67               18.6      101.0           2.80   \n3      14.37        1.95  2.50               16.8      113.0           3.85   \n4      13.24        2.59  2.87               21.0      118.0           2.80   \n..       ...         ...   ...                ...        ...            ...   \n173    13.71        5.65  2.45               20.5       95.0           1.68   \n174    13.40        3.91  2.48               23.0      102.0           1.80   \n175    13.27        4.28  2.26               20.0      120.0           1.59   \n176    13.17        2.59  2.37               20.0      120.0           1.65   \n177    14.13        4.10  2.74               24.5       96.0           2.05   \n\n     flavanoids  nonflavanoid_phenols  proanthocyanins  color_intensity   hue  \\\n0          3.06                  0.28             2.29             5.64  1.04   \n1          2.76                  0.26             1.28             4.38  1.05   \n2          3.24                  0.30             2.81             5.68  1.03   \n3          3.49                  0.24             2.18             7.80  0.86   \n4          2.69                  0.39             1.82             4.32  1.04   \n..          ...                   ...              ...              ...   ...   \n173        0.61                  0.52             1.06             7.70  0.64   \n174        0.75                  0.43             1.41             7.30  0.70   \n175        0.69                  0.43             1.35            10.20  0.59   \n176        0.68                  0.53             1.46             9.30  0.60   \n177        0.76                  0.56             1.35             9.20  0.61   \n\n     od280/od315_of_diluted_wines  proline  \n0                            3.92   1065.0  \n1                            3.40   1050.0  \n2                            3.17   1185.0  \n3                            3.45   1480.0  \n4                            2.93    735.0  \n..                            ...      ...  \n173                          1.74    740.0  \n174                          1.56    750.0  \n175                          1.56    835.0  \n176                          1.62    840.0  \n177                          1.60    560.0  \n\n[178 rows x 13 columns]",
      "text/html": "<div>\n<style scoped>\n    .dataframe tbody tr th:only-of-type {\n        vertical-align: middle;\n    }\n\n    .dataframe tbody tr th {\n        vertical-align: top;\n    }\n\n    .dataframe thead th {\n        text-align: right;\n    }\n</style>\n<table border=\"1\" class=\"dataframe\">\n  <thead>\n    <tr style=\"text-align: right;\">\n      <th></th>\n      <th>alcohol</th>\n      <th>malic_acid</th>\n      <th>ash</th>\n      <th>alcalinity_of_ash</th>\n      <th>magnesium</th>\n      <th>total_phenols</th>\n      <th>flavanoids</th>\n      <th>nonflavanoid_phenols</th>\n      <th>proanthocyanins</th>\n      <th>color_intensity</th>\n      <th>hue</th>\n      <th>od280/od315_of_diluted_wines</th>\n      <th>proline</th>\n    </tr>\n  </thead>\n  <tbody>\n    <tr>\n      <th>0</th>\n      <td>14.23</td>\n      <td>1.71</td>\n      <td>2.43</td>\n      <td>15.6</td>\n      <td>127.0</td>\n      <td>2.80</td>\n      <td>3.06</td>\n      <td>0.28</td>\n      <td>2.29</td>\n      <td>5.64</td>\n      <td>1.04</td>\n      <td>3.92</td>\n      <td>1065.0</td>\n    </tr>\n    <tr>\n      <th>1</th>\n      <td>13.20</td>\n      <td>1.78</td>\n      <td>2.14</td>\n      <td>11.2</td>\n      <td>100.0</td>\n      <td>2.65</td>\n      <td>2.76</td>\n      <td>0.26</td>\n      <td>1.28</td>\n      <td>4.38</td>\n      <td>1.05</td>\n      <td>3.40</td>\n      <td>1050.0</td>\n    </tr>\n    <tr>\n      <th>2</th>\n      <td>13.16</td>\n      <td>2.36</td>\n      <td>2.67</td>\n      <td>18.6</td>\n      <td>101.0</td>\n      <td>2.80</td>\n      <td>3.24</td>\n      <td>0.30</td>\n      <td>2.81</td>\n      <td>5.68</td>\n      <td>1.03</td>\n      <td>3.17</td>\n      <td>1185.0</td>\n    </tr>\n    <tr>\n      <th>3</th>\n      <td>14.37</td>\n      <td>1.95</td>\n      <td>2.50</td>\n      <td>16.8</td>\n      <td>113.0</td>\n      <td>3.85</td>\n      <td>3.49</td>\n      <td>0.24</td>\n      <td>2.18</td>\n      <td>7.80</td>\n      <td>0.86</td>\n      <td>3.45</td>\n      <td>1480.0</td>\n    </tr>\n    <tr>\n      <th>4</th>\n      <td>13.24</td>\n      <td>2.59</td>\n      <td>2.87</td>\n      <td>21.0</td>\n      <td>118.0</td>\n      <td>2.80</td>\n      <td>2.69</td>\n      <td>0.39</td>\n      <td>1.82</td>\n      <td>4.32</td>\n      <td>1.04</td>\n      <td>2.93</td>\n      <td>735.0</td>\n    </tr>\n    <tr>\n      <th>...</th>\n      <td>...</td>\n      <td>...</td>\n      <td>...</td>\n      <td>...</td>\n      <td>...</td>\n      <td>...</td>\n      <td>...</td>\n      <td>...</td>\n      <td>...</td>\n      <td>...</td>\n      <td>...</td>\n      <td>...</td>\n      <td>...</td>\n    </tr>\n    <tr>\n      <th>173</th>\n      <td>13.71</td>\n      <td>5.65</td>\n      <td>2.45</td>\n      <td>20.5</td>\n      <td>95.0</td>\n      <td>1.68</td>\n      <td>0.61</td>\n      <td>0.52</td>\n      <td>1.06</td>\n      <td>7.70</td>\n      <td>0.64</td>\n      <td>1.74</td>\n      <td>740.0</td>\n    </tr>\n    <tr>\n      <th>174</th>\n      <td>13.40</td>\n      <td>3.91</td>\n      <td>2.48</td>\n      <td>23.0</td>\n      <td>102.0</td>\n      <td>1.80</td>\n      <td>0.75</td>\n      <td>0.43</td>\n      <td>1.41</td>\n      <td>7.30</td>\n      <td>0.70</td>\n      <td>1.56</td>\n      <td>750.0</td>\n    </tr>\n    <tr>\n      <th>175</th>\n      <td>13.27</td>\n      <td>4.28</td>\n      <td>2.26</td>\n      <td>20.0</td>\n      <td>120.0</td>\n      <td>1.59</td>\n      <td>0.69</td>\n      <td>0.43</td>\n      <td>1.35</td>\n      <td>10.20</td>\n      <td>0.59</td>\n      <td>1.56</td>\n      <td>835.0</td>\n    </tr>\n    <tr>\n      <th>176</th>\n      <td>13.17</td>\n      <td>2.59</td>\n      <td>2.37</td>\n      <td>20.0</td>\n      <td>120.0</td>\n      <td>1.65</td>\n      <td>0.68</td>\n      <td>0.53</td>\n      <td>1.46</td>\n      <td>9.30</td>\n      <td>0.60</td>\n      <td>1.62</td>\n      <td>840.0</td>\n    </tr>\n    <tr>\n      <th>177</th>\n      <td>14.13</td>\n      <td>4.10</td>\n      <td>2.74</td>\n      <td>24.5</td>\n      <td>96.0</td>\n      <td>2.05</td>\n      <td>0.76</td>\n      <td>0.56</td>\n      <td>1.35</td>\n      <td>9.20</td>\n      <td>0.61</td>\n      <td>1.60</td>\n      <td>560.0</td>\n    </tr>\n  </tbody>\n</table>\n<p>178 rows × 13 columns</p>\n</div>"
     },
     "execution_count": 6,
     "metadata": {},
     "output_type": "execute_result"
    }
   ],
   "source": [
    "import sklearn.datasets as data\n",
    "\n",
    "wine = data.load_wine(as_frame=True).data\n",
    "wine"
   ],
   "metadata": {
    "collapsed": false,
    "pycharm": {
     "name": "#%%\n"
    }
   }
  },
  {
   "cell_type": "code",
   "execution_count": 7,
   "outputs": [],
   "source": [
    "pipe_maker = lambda: NumericExtractor(\n",
    "    wine.columns.tolist(),\n",
    "    column_aggregators=[\"max\", \"min\", \"median\", \"kurtosis\"],\n",
    "    post_aggregators=list(NumericaVariants)\n",
    ")"
   ],
   "metadata": {
    "collapsed": false,
    "pycharm": {
     "name": "#%%\n"
    }
   }
  },
  {
   "cell_type": "code",
   "execution_count": 8,
   "outputs": [
    {
     "data": {
      "text/plain": "MetaFeatures(\n\t('max_sum', 1927.77)\n\t('max_max', 1680.0)\n\t('max_min', 0.66)\n\t('max_std', 462.2572358726975)\n\t('max_mean', 148.29)\n\t('max_median', 5.08)\n\t('max_var', 213681.75211666667)\n\t('max_kurtosis', 12.707359959093013)\n\t('min_sum', 376.62)\n\t('min_max', 278.0)\n\t('min_min', 0.13)\n\t('min_std', 77.19790028033344)\n\t('min_mean', 28.970769230769232)\n\t('min_median', 1.27)\n\t('min_var', 5959.515807692307)\n\t('min_kurtosis', 11.037266905972466)\n\t('median_sum', 823.095)\n\t('median_max', 673.5)\n\t('median_min', 0.34)\n\t('median_std', 185.22393743790244)\n\t('median_mean', 63.315000000000005)\n\t('median_median', 2.36)\n\t('median_var', 34307.90699999999)\n\t('median_kurtosis', 12.327740571107737)\n\t('kurtosis_sum', 0.08765642995098655)\n\t('kurtosis_max', 2.1049913235905557)\n\t('kurtosis_min', -1.0864345274098695)\n\t('kurtosis_std', 0.9348104340882)\n\t('kurtosis_mean', 0.006742802303922042)\n\t('kurtosis_median', -0.24840310614613248)\n\t('kurtosis_var', 0.8738705476801688)\n\t('kurtosis_kurtosis', 0.4988070844761654)\n)"
     },
     "execution_count": 8,
     "metadata": {},
     "output_type": "execute_result"
    }
   ],
   "source": [
    "before_shuffling_features = pipe_maker().fit_transform(wine)\n",
    "before_shuffling_features"
   ],
   "metadata": {
    "collapsed": false,
    "pycharm": {
     "name": "#%%\n"
    }
   }
  },
  {
   "cell_type": "markdown",
   "source": [
    "Сделаем случайные перестановки строк и столбцов"
   ],
   "metadata": {
    "collapsed": false,
    "pycharm": {
     "name": "#%% md\n"
    }
   }
  },
  {
   "cell_type": "code",
   "execution_count": 9,
   "outputs": [],
   "source": [
    "import numpy as np\n",
    "\n",
    "shuffled_columns = np.random.permutation(wine.columns)\n",
    "shuffled_index = np.random.permutation(wine.index)"
   ],
   "metadata": {
    "collapsed": false,
    "pycharm": {
     "name": "#%%\n"
    }
   }
  },
  {
   "cell_type": "code",
   "execution_count": 10,
   "outputs": [
    {
     "data": {
      "text/plain": "(array(['od280/od315_of_diluted_wines', 'proline', 'hue',\n        'proanthocyanins', 'total_phenols'], dtype=object),\n array([ 70,  54, 101, 134, 118]))"
     },
     "execution_count": 10,
     "metadata": {},
     "output_type": "execute_result"
    }
   ],
   "source": [
    "shuffled_columns[:5], shuffled_index[:5]"
   ],
   "metadata": {
    "collapsed": false,
    "pycharm": {
     "name": "#%%\n"
    }
   }
  },
  {
   "cell_type": "code",
   "execution_count": 11,
   "outputs": [
    {
     "data": {
      "text/plain": "    od280/od315_of_diluted_wines  proline    hue  proanthocyanins  \\\n70                          1.82    870.0  0.906             1.46   \n54                          3.20   1060.0  0.920             1.62   \n\n    total_phenols  flavanoids  magnesium  alcalinity_of_ash  alcohol  \\\n70            1.1        1.02      103.0               20.4    12.29   \n54            2.6        2.90      118.0               16.4    13.74   \n\n    malic_acid   ash  nonflavanoid_phenols  color_intensity  \n70        1.61  2.21                  0.37             3.05  \n54        1.67  2.25                  0.21             5.85  ",
      "text/html": "<div>\n<style scoped>\n    .dataframe tbody tr th:only-of-type {\n        vertical-align: middle;\n    }\n\n    .dataframe tbody tr th {\n        vertical-align: top;\n    }\n\n    .dataframe thead th {\n        text-align: right;\n    }\n</style>\n<table border=\"1\" class=\"dataframe\">\n  <thead>\n    <tr style=\"text-align: right;\">\n      <th></th>\n      <th>od280/od315_of_diluted_wines</th>\n      <th>proline</th>\n      <th>hue</th>\n      <th>proanthocyanins</th>\n      <th>total_phenols</th>\n      <th>flavanoids</th>\n      <th>magnesium</th>\n      <th>alcalinity_of_ash</th>\n      <th>alcohol</th>\n      <th>malic_acid</th>\n      <th>ash</th>\n      <th>nonflavanoid_phenols</th>\n      <th>color_intensity</th>\n    </tr>\n  </thead>\n  <tbody>\n    <tr>\n      <th>70</th>\n      <td>1.82</td>\n      <td>870.0</td>\n      <td>0.906</td>\n      <td>1.46</td>\n      <td>1.1</td>\n      <td>1.02</td>\n      <td>103.0</td>\n      <td>20.4</td>\n      <td>12.29</td>\n      <td>1.61</td>\n      <td>2.21</td>\n      <td>0.37</td>\n      <td>3.05</td>\n    </tr>\n    <tr>\n      <th>54</th>\n      <td>3.20</td>\n      <td>1060.0</td>\n      <td>0.920</td>\n      <td>1.62</td>\n      <td>2.6</td>\n      <td>2.90</td>\n      <td>118.0</td>\n      <td>16.4</td>\n      <td>13.74</td>\n      <td>1.67</td>\n      <td>2.25</td>\n      <td>0.21</td>\n      <td>5.85</td>\n    </tr>\n  </tbody>\n</table>\n</div>"
     },
     "execution_count": 11,
     "metadata": {},
     "output_type": "execute_result"
    }
   ],
   "source": [
    "shuffled_wine = wine.iloc[shuffled_index][shuffled_columns]\n",
    "shuffled_wine.head(2)"
   ],
   "metadata": {
    "collapsed": false,
    "pycharm": {
     "name": "#%%\n"
    }
   }
  },
  {
   "cell_type": "code",
   "execution_count": 12,
   "outputs": [
    {
     "data": {
      "text/plain": "   alcohol  malic_acid   ash  alcalinity_of_ash  magnesium  total_phenols  \\\n0    14.23        1.71  2.43               15.6      127.0           2.80   \n1    13.20        1.78  2.14               11.2      100.0           2.65   \n\n   flavanoids  nonflavanoid_phenols  proanthocyanins  color_intensity   hue  \\\n0        3.06                  0.28             2.29             5.64  1.04   \n1        2.76                  0.26             1.28             4.38  1.05   \n\n   od280/od315_of_diluted_wines  proline  \n0                          3.92   1065.0  \n1                          3.40   1050.0  ",
      "text/html": "<div>\n<style scoped>\n    .dataframe tbody tr th:only-of-type {\n        vertical-align: middle;\n    }\n\n    .dataframe tbody tr th {\n        vertical-align: top;\n    }\n\n    .dataframe thead th {\n        text-align: right;\n    }\n</style>\n<table border=\"1\" class=\"dataframe\">\n  <thead>\n    <tr style=\"text-align: right;\">\n      <th></th>\n      <th>alcohol</th>\n      <th>malic_acid</th>\n      <th>ash</th>\n      <th>alcalinity_of_ash</th>\n      <th>magnesium</th>\n      <th>total_phenols</th>\n      <th>flavanoids</th>\n      <th>nonflavanoid_phenols</th>\n      <th>proanthocyanins</th>\n      <th>color_intensity</th>\n      <th>hue</th>\n      <th>od280/od315_of_diluted_wines</th>\n      <th>proline</th>\n    </tr>\n  </thead>\n  <tbody>\n    <tr>\n      <th>0</th>\n      <td>14.23</td>\n      <td>1.71</td>\n      <td>2.43</td>\n      <td>15.6</td>\n      <td>127.0</td>\n      <td>2.80</td>\n      <td>3.06</td>\n      <td>0.28</td>\n      <td>2.29</td>\n      <td>5.64</td>\n      <td>1.04</td>\n      <td>3.92</td>\n      <td>1065.0</td>\n    </tr>\n    <tr>\n      <th>1</th>\n      <td>13.20</td>\n      <td>1.78</td>\n      <td>2.14</td>\n      <td>11.2</td>\n      <td>100.0</td>\n      <td>2.65</td>\n      <td>2.76</td>\n      <td>0.26</td>\n      <td>1.28</td>\n      <td>4.38</td>\n      <td>1.05</td>\n      <td>3.40</td>\n      <td>1050.0</td>\n    </tr>\n  </tbody>\n</table>\n</div>"
     },
     "execution_count": 12,
     "metadata": {},
     "output_type": "execute_result"
    }
   ],
   "source": [
    "wine.head(2)"
   ],
   "metadata": {
    "collapsed": false,
    "pycharm": {
     "name": "#%%\n"
    }
   }
  },
  {
   "cell_type": "code",
   "execution_count": 13,
   "outputs": [
    {
     "data": {
      "text/plain": "MetaFeatures(\n\t('max_sum', 1927.77)\n\t('max_max', 1680.0)\n\t('max_min', 0.66)\n\t('max_std', 462.2572358726975)\n\t('max_mean', 148.29)\n\t('max_median', 5.08)\n\t('max_var', 213681.75211666667)\n\t('max_kurtosis', 12.707359959093013)\n\t('min_sum', 376.62)\n\t('min_max', 278.0)\n\t('min_min', 0.13)\n\t('min_std', 77.19790028033344)\n\t('min_mean', 28.970769230769232)\n\t('min_median', 1.27)\n\t('min_var', 5959.515807692307)\n\t('min_kurtosis', 11.037266905972466)\n\t('median_sum', 823.095)\n\t('median_max', 673.5)\n\t('median_min', 0.34)\n\t('median_std', 185.22393743790244)\n\t('median_mean', 63.315000000000005)\n\t('median_median', 2.36)\n\t('median_var', 34307.90699999999)\n\t('median_kurtosis', 12.327740571107737)\n\t('kurtosis_sum', 0.08765642995098699)\n\t('kurtosis_max', 2.1049913235905557)\n\t('kurtosis_min', -1.0864345274098686)\n\t('kurtosis_std', 0.9348104340881996)\n\t('kurtosis_mean', 0.006742802303922076)\n\t('kurtosis_median', -0.24840310614613248)\n\t('kurtosis_var', 0.8738705476801681)\n\t('kurtosis_kurtosis', 0.49880708447616895)\n)"
     },
     "execution_count": 13,
     "metadata": {},
     "output_type": "execute_result"
    }
   ],
   "source": [
    "after_shuffling_features = pipe_maker().fit_transform(shuffled_wine)\n",
    "after_shuffling_features"
   ],
   "metadata": {
    "collapsed": false,
    "pycharm": {
     "name": "#%%\n"
    }
   }
  },
  {
   "cell_type": "code",
   "execution_count": 14,
   "outputs": [],
   "source": [
    "for (name_0, value_0), (name_1, value_1) in zip(before_shuffling_features.features, after_shuffling_features.features):\n",
    "    assert name_0 == name_1 and round(value_0, 5) == round(value_1,\n",
    "                                                           5), f\"Feature {name_0, value_0} doesn't match to feature {name_1, value_1}\""
   ],
   "metadata": {
    "collapsed": false,
    "pycharm": {
     "name": "#%%\n"
    }
   }
  },
  {
   "cell_type": "markdown",
   "source": [
    "Мета-признаки не изменились!"
   ],
   "metadata": {
    "collapsed": false,
    "pycharm": {
     "name": "#%% md\n"
    }
   }
  },
  {
   "cell_type": "markdown",
   "source": [
    "## 4. Выберите не менее трёх алгоритмов обучения с учителем и меру оценки алгоритма обучения (валидацию)"
   ],
   "metadata": {
    "collapsed": false,
    "pycharm": {
     "name": "#%% md\n"
    }
   }
  },
  {
   "cell_type": "code",
   "execution_count": 15,
   "outputs": [
    {
     "data": {
      "text/plain": "binaryClass    245\nClass           72\nclass           43\nName: target, dtype: int64"
     },
     "execution_count": 15,
     "metadata": {},
     "output_type": "execute_result"
    }
   ],
   "source": [
    "datasets_meta.target.value_counts()"
   ],
   "metadata": {
    "collapsed": false,
    "pycharm": {
     "name": "#%%\n"
    }
   }
  },
  {
   "cell_type": "markdown",
   "source": [
    "Возьмем алгоритмы для решения задачи классификации\n",
    "\n",
    "* _Decision Tree_\n",
    "* _SVM_\n",
    "* _AdaBoost_\n",
    "* _Random forest_\n",
    "\n",
    "В качестве метрики оценки качества работы алгоритма возьмем *F1-Score*"
   ],
   "metadata": {
    "collapsed": false,
    "pycharm": {
     "name": "#%% md\n"
    }
   }
  },
  {
   "cell_type": "markdown",
   "source": [
    "Возьмем наборы данных которые относятся к задаче классификации, так же возьмем те наборы данных, которые содержат меньше 75_000 обучаемых данных"
   ],
   "metadata": {
    "collapsed": false,
    "pycharm": {
     "name": "#%% md\n"
    }
   }
  },
  {
   "cell_type": "code",
   "execution_count": 16,
   "outputs": [
    {
     "data": {
      "text/plain": "count      360.000000\nmean       761.633333\nstd       1748.900805\nmin         10.000000\n25%        100.000000\n50%        250.000000\n75%        528.000000\nmax      10668.000000\nName: length, dtype: float64"
     },
     "execution_count": 16,
     "metadata": {},
     "output_type": "execute_result"
    }
   ],
   "source": [
    "datasets_meta[\"length\"].describe()"
   ],
   "metadata": {
    "collapsed": false,
    "pycharm": {
     "name": "#%%\n"
    }
   }
  },
  {
   "cell_type": "code",
   "execution_count": 17,
   "outputs": [],
   "source": [
    "datasets_meta = datasets_meta[datasets_meta[\"length\"] > 50]"
   ],
   "metadata": {
    "collapsed": false,
    "pycharm": {
     "name": "#%%\n"
    }
   }
  },
  {
   "cell_type": "code",
   "execution_count": 18,
   "outputs": [
    {
     "data": {
      "text/plain": "          id  length       target\n0   864.arff      60  binaryClass\n1   921.arff     132  binaryClass\n2   999.arff     226  binaryClass\n3   560.arff     252        class\n4  1543.arff    1080        Class",
      "text/html": "<div>\n<style scoped>\n    .dataframe tbody tr th:only-of-type {\n        vertical-align: middle;\n    }\n\n    .dataframe tbody tr th {\n        vertical-align: top;\n    }\n\n    .dataframe thead th {\n        text-align: right;\n    }\n</style>\n<table border=\"1\" class=\"dataframe\">\n  <thead>\n    <tr style=\"text-align: right;\">\n      <th></th>\n      <th>id</th>\n      <th>length</th>\n      <th>target</th>\n    </tr>\n  </thead>\n  <tbody>\n    <tr>\n      <th>0</th>\n      <td>864.arff</td>\n      <td>60</td>\n      <td>binaryClass</td>\n    </tr>\n    <tr>\n      <th>1</th>\n      <td>921.arff</td>\n      <td>132</td>\n      <td>binaryClass</td>\n    </tr>\n    <tr>\n      <th>2</th>\n      <td>999.arff</td>\n      <td>226</td>\n      <td>binaryClass</td>\n    </tr>\n    <tr>\n      <th>3</th>\n      <td>560.arff</td>\n      <td>252</td>\n      <td>class</td>\n    </tr>\n    <tr>\n      <th>4</th>\n      <td>1543.arff</td>\n      <td>1080</td>\n      <td>Class</td>\n    </tr>\n  </tbody>\n</table>\n</div>"
     },
     "execution_count": 18,
     "metadata": {},
     "output_type": "execute_result"
    }
   ],
   "source": [
    "datasets_meta.head()"
   ],
   "metadata": {
    "collapsed": false,
    "pycharm": {
     "name": "#%%\n"
    }
   }
  },
  {
   "cell_type": "code",
   "execution_count": 19,
   "outputs": [],
   "source": [
    "def transform_value(v):\n",
    "    if isinstance(v, bytes):\n",
    "        decoded = v.decode(\"UTF-8\")\n",
    "\n",
    "        if decoded == \"?\":\n",
    "            return np.nan\n",
    "\n",
    "        return decoded\n",
    "\n",
    "    return v\n",
    "\n",
    "\n",
    "def df_from_arff(raw_arff):\n",
    "    dataset, meta = raw_arff\n",
    "\n",
    "    dataset = dataset[1:]\n",
    "\n",
    "    df_data = pd.DataFrame(\n",
    "        [[transform_value(v) for v in row] for row in dataset],\n",
    "        columns=meta.names()\n",
    "    )\n",
    "\n",
    "    columns = df_data.columns.tolist()\n",
    "    columns[-1] = \"target_class\"\n",
    "\n",
    "    df_data.columns = columns\n",
    "\n",
    "    numeric_cols_mask = df_data.dtypes == \"float64\"\n",
    "    numeric_cols = df_data.dtypes[numeric_cols_mask].index.tolist()\n",
    "    categorical_cols = df_data.dtypes[~numeric_cols_mask].index.tolist()\n",
    "\n",
    "    return df_data, numeric_cols, categorical_cols"
   ],
   "metadata": {
    "collapsed": false,
    "pycharm": {
     "name": "#%%\n"
    }
   }
  },
  {
   "cell_type": "code",
   "execution_count": 20,
   "outputs": [
    {
     "name": "stderr",
     "output_type": "stream",
     "text": [
      "Loafing datasets..:  33%|███▎      | 111/337 [00:01<00:02, 107.46it/s]/Users/da.korolev/Documents/university/auto-ml/venv/lib/python3.9/site-packages/sklearn/utils/extmath.py:981: RuntimeWarning: invalid value encountered in divide\n",
      "  updated_mean = (last_sum + new_sum) / updated_sample_count\n",
      "/Users/da.korolev/Documents/university/auto-ml/venv/lib/python3.9/site-packages/sklearn/utils/extmath.py:986: RuntimeWarning: invalid value encountered in divide\n",
      "  T = new_sum / new_sample_count\n",
      "/Users/da.korolev/Documents/university/auto-ml/venv/lib/python3.9/site-packages/sklearn/utils/extmath.py:1006: RuntimeWarning: invalid value encountered in divide\n",
      "  new_unnormalized_variance -= correction**2 / new_sample_count\n",
      "Loafing datasets..:  81%|████████  | 272/337 [00:02<00:00, 115.60it/s]/Users/da.korolev/Documents/university/auto-ml/venv/lib/python3.9/site-packages/sklearn/utils/extmath.py:981: RuntimeWarning: invalid value encountered in divide\n",
      "  updated_mean = (last_sum + new_sum) / updated_sample_count\n",
      "/Users/da.korolev/Documents/university/auto-ml/venv/lib/python3.9/site-packages/sklearn/utils/extmath.py:986: RuntimeWarning: invalid value encountered in divide\n",
      "  T = new_sum / new_sample_count\n",
      "/Users/da.korolev/Documents/university/auto-ml/venv/lib/python3.9/site-packages/sklearn/utils/extmath.py:1006: RuntimeWarning: invalid value encountered in divide\n",
      "  new_unnormalized_variance -= correction**2 / new_sample_count\n",
      "Loafing datasets..: 100%|██████████| 337/337 [00:03<00:00, 99.44it/s] \n"
     ]
    },
    {
     "data": {
      "text/plain": "337"
     },
     "execution_count": 20,
     "metadata": {},
     "output_type": "execute_result"
    }
   ],
   "source": [
    "import os\n",
    "from tqdm import tqdm\n",
    "from scipy.io import arff\n",
    "\n",
    "datasets = []\n",
    "\n",
    "for name in tqdm(datasets_meta[\"id\"], desc=\"Loafing datasets..\"):\n",
    "    path = f\"{DATA_PATH}/{name}\"\n",
    "\n",
    "    if os.path.exists(path):\n",
    "        try:\n",
    "            raw_arff = arff.loadarff(path)\n",
    "            df, nums, cats = df_from_arff(raw_arff)\n",
    "\n",
    "            if len(nums) != 0:\n",
    "                scaler = StandardScaler()\n",
    "                df[nums] = scaler.fit_transform(df[nums])\n",
    "\n",
    "            datasets.append((df, nums, cats))\n",
    "        except Exception:\n",
    "            continue\n",
    "\n",
    "len(datasets)"
   ],
   "metadata": {
    "collapsed": false,
    "pycharm": {
     "name": "#%%\n"
    }
   }
  },
  {
   "cell_type": "code",
   "execution_count": 21,
   "outputs": [
    {
     "data": {
      "text/plain": "          id  length       target\n0   864.arff      60  binaryClass\n1   921.arff     132  binaryClass\n2   999.arff     226  binaryClass\n3   560.arff     252        class\n4  1543.arff    1080        Class",
      "text/html": "<div>\n<style scoped>\n    .dataframe tbody tr th:only-of-type {\n        vertical-align: middle;\n    }\n\n    .dataframe tbody tr th {\n        vertical-align: top;\n    }\n\n    .dataframe thead th {\n        text-align: right;\n    }\n</style>\n<table border=\"1\" class=\"dataframe\">\n  <thead>\n    <tr style=\"text-align: right;\">\n      <th></th>\n      <th>id</th>\n      <th>length</th>\n      <th>target</th>\n    </tr>\n  </thead>\n  <tbody>\n    <tr>\n      <th>0</th>\n      <td>864.arff</td>\n      <td>60</td>\n      <td>binaryClass</td>\n    </tr>\n    <tr>\n      <th>1</th>\n      <td>921.arff</td>\n      <td>132</td>\n      <td>binaryClass</td>\n    </tr>\n    <tr>\n      <th>2</th>\n      <td>999.arff</td>\n      <td>226</td>\n      <td>binaryClass</td>\n    </tr>\n    <tr>\n      <th>3</th>\n      <td>560.arff</td>\n      <td>252</td>\n      <td>class</td>\n    </tr>\n    <tr>\n      <th>4</th>\n      <td>1543.arff</td>\n      <td>1080</td>\n      <td>Class</td>\n    </tr>\n  </tbody>\n</table>\n</div>"
     },
     "execution_count": 21,
     "metadata": {},
     "output_type": "execute_result"
    }
   ],
   "source": [
    "datasets_meta.head()"
   ],
   "metadata": {
    "collapsed": false,
    "pycharm": {
     "name": "#%%\n"
    }
   }
  },
  {
   "cell_type": "code",
   "execution_count": 22,
   "outputs": [
    {
     "data": {
      "text/plain": "311"
     },
     "execution_count": 22,
     "metadata": {},
     "output_type": "execute_result"
    }
   ],
   "source": [
    "new_datasets = []\n",
    "\n",
    "for df, num_cols, cat_cols in datasets:\n",
    "    if df[\"target_class\"].dtype == \"float64\":\n",
    "        continue\n",
    "\n",
    "    if (df[\"target_class\"].value_counts() <= 5).sum() > 0:\n",
    "        continue\n",
    "\n",
    "    new_datasets.append((df, num_cols, cat_cols))\n",
    "\n",
    "datasets = new_datasets\n",
    "len(datasets)"
   ],
   "metadata": {
    "collapsed": false,
    "pycharm": {
     "name": "#%%\n"
    }
   }
  },
  {
   "cell_type": "markdown",
   "source": [
    "## 5. Постройте мета-набор данных. Для каждого набора данных определите наилучший алгоритм для него."
   ],
   "metadata": {
    "collapsed": false,
    "pycharm": {
     "name": "#%% md\n"
    }
   }
  },
  {
   "cell_type": "code",
   "execution_count": 23,
   "outputs": [],
   "source": [
    "from metafora.meta import general\n",
    "from metafora.meta.statistical import categorical\n",
    "from metafora.meta.statistical import numeric\n",
    "from metafora.meta import pairwise\n",
    "from metafora.meta import structured\n",
    "from metafora.meta.pipeline import Pipeline\n",
    "from metafora.meta.variants import NumericaVariants, CorrelationVariants, CategoricalVariants\n",
    "\n",
    "\n",
    "def meta_features_extractor(numeric_columns, cat_columns, label):\n",
    "    return Pipeline(\n",
    "        general.SparsityExtractor(post_aggregators=[\"max\", \"std\", \"var\", \"mean\", \"median\"]),\n",
    "        general.ShapeExtractor(),\n",
    "        general.CatNumColumnsRateExtractor(),\n",
    "        general.ClassesNumberExtractor(cat_columns, list(NumericaVariants)),\n",
    "\n",
    "        categorical.CategoricalExtractor(cat_columns, list(CategoricalVariants), list(NumericaVariants)),\n",
    "        numeric.NumericExtractor(numeric_columns, [\"max\", \"min\", \"median\", \"kurtosis\"], list(NumericaVariants)),\n",
    "\n",
    "        pairwise.CorrelationExtractor(numeric_columns, list(CorrelationVariants), list(NumericaVariants)),\n",
    "\n",
    "        structured.SVMExtractor(label, list(NumericaVariants)),\n",
    "        structured.DecisionTreeClassifierExtractor(label, list(NumericaVariants))\n",
    "    )"
   ],
   "metadata": {
    "collapsed": false,
    "pycharm": {
     "name": "#%%\n"
    }
   }
  },
  {
   "cell_type": "code",
   "execution_count": 24,
   "outputs": [
    {
     "name": "stderr",
     "output_type": "stream",
     "text": [
      "100%|██████████| 311/311 [00:35<00:00,  8.66it/s]\n"
     ]
    },
    {
     "data": {
      "text/plain": "311"
     },
     "execution_count": 24,
     "metadata": {},
     "output_type": "execute_result"
    }
   ],
   "source": [
    "meta_dataset = []\n",
    "\n",
    "for (df, numeric_columns, cat_columns) in tqdm(datasets):\n",
    "    pipeline = meta_features_extractor(numeric_columns, cat_columns, label=\"target_class\")\n",
    "    metafeat = pipeline.fit_transform(df)\n",
    "\n",
    "    meta_dataset.append(metafeat)\n",
    "\n",
    "len(meta_dataset)"
   ],
   "metadata": {
    "collapsed": false,
    "pycharm": {
     "name": "#%%\n"
    }
   }
  },
  {
   "cell_type": "code",
   "execution_count": 25,
   "outputs": [],
   "source": [
    "dfs = [pd.DataFrame([meta.values], columns=meta.columns) for meta in meta_dataset]"
   ],
   "metadata": {
    "collapsed": false,
    "pycharm": {
     "name": "#%%\n"
    }
   }
  },
  {
   "cell_type": "code",
   "execution_count": 26,
   "outputs": [
    {
     "data": {
      "text/plain": "(311, 178)"
     },
     "execution_count": 26,
     "metadata": {},
     "output_type": "execute_result"
    }
   ],
   "source": [
    "meta = pd.concat(dfs)\n",
    "meta.shape"
   ],
   "metadata": {
    "collapsed": false,
    "pycharm": {
     "name": "#%%\n"
    }
   }
  },
  {
   "cell_type": "code",
   "execution_count": 27,
   "outputs": [],
   "source": [
    "from sklearn.preprocessing import MinMaxScaler\n",
    "\n",
    "meta[:] = MinMaxScaler().fit_transform(meta[:])"
   ],
   "metadata": {
    "collapsed": false,
    "pycharm": {
     "name": "#%%\n"
    }
   }
  },
  {
   "cell_type": "code",
   "execution_count": 28,
   "outputs": [
    {
     "data": {
      "text/plain": "   sparsity_max  sparsity_std  sparsity_var  sparsity_mean  sparsity_median  \\\n0      0.000000      0.000000      0.000000       0.000000              0.0   \n0      0.000000      0.000000      0.000000       0.000000              0.0   \n0      0.982222      0.284515      0.080949       0.031689              0.0   \n0      0.000000      0.000000      0.000000       0.000000              0.0   \n0      0.000000      0.000000      0.000000       0.000000              0.0   \n\n   features_objects_rate  cat_cols_rate  num_cols_rate  unique_sum  \\\n0               0.035060       0.242500       0.757500    0.008082   \n0               0.007820       0.495000       0.505000    0.004530   \n0               0.080569       1.000000       0.000000    0.086800   \n0               0.000864       0.242500       0.757500    0.000510   \n0               0.010685       0.182381       0.817619    0.024642   \n\n   unique_max  ...  tree_child_left_var  tree_child_left_kurtosis  \\\n0    0.033675  ...             0.001267                  0.442713   \n0    0.022675  ...             0.000879                  0.481335   \n0    0.030887  ...             0.000709                  0.356386   \n0    0.004403  ...             0.066963                  0.351647   \n0    0.180008  ...             0.017707                  0.358409   \n\n   tree_child_right_sum  tree_child_right_max  tree_child_right_min  \\\n0              0.001634              0.035616                   0.0   \n0              0.000983              0.027397                   0.0   \n0              0.000806              0.024658                   0.0   \n0              0.068840              0.257534                   0.0   \n0              0.018572              0.131507                   0.0   \n\n   tree_child_right_std  tree_child_right_mean  tree_child_right_median  \\\n0              0.038060               0.041300                      0.0   \n0              0.028125               0.031338                      0.0   \n0              0.025640               0.028129                      0.0   \n0              0.258903               0.264188                      0.0   \n0              0.132928               0.137510                      0.0   \n\n   tree_child_right_var  tree_child_right_kurtosis  \n0              0.001977                   0.805689  \n0              0.001186                   0.842575  \n0              0.001018                   0.896693  \n0              0.069801                   0.974446  \n0              0.019334                   0.967265  \n\n[5 rows x 178 columns]",
      "text/html": "<div>\n<style scoped>\n    .dataframe tbody tr th:only-of-type {\n        vertical-align: middle;\n    }\n\n    .dataframe tbody tr th {\n        vertical-align: top;\n    }\n\n    .dataframe thead th {\n        text-align: right;\n    }\n</style>\n<table border=\"1\" class=\"dataframe\">\n  <thead>\n    <tr style=\"text-align: right;\">\n      <th></th>\n      <th>sparsity_max</th>\n      <th>sparsity_std</th>\n      <th>sparsity_var</th>\n      <th>sparsity_mean</th>\n      <th>sparsity_median</th>\n      <th>features_objects_rate</th>\n      <th>cat_cols_rate</th>\n      <th>num_cols_rate</th>\n      <th>unique_sum</th>\n      <th>unique_max</th>\n      <th>...</th>\n      <th>tree_child_left_var</th>\n      <th>tree_child_left_kurtosis</th>\n      <th>tree_child_right_sum</th>\n      <th>tree_child_right_max</th>\n      <th>tree_child_right_min</th>\n      <th>tree_child_right_std</th>\n      <th>tree_child_right_mean</th>\n      <th>tree_child_right_median</th>\n      <th>tree_child_right_var</th>\n      <th>tree_child_right_kurtosis</th>\n    </tr>\n  </thead>\n  <tbody>\n    <tr>\n      <th>0</th>\n      <td>0.000000</td>\n      <td>0.000000</td>\n      <td>0.000000</td>\n      <td>0.000000</td>\n      <td>0.0</td>\n      <td>0.035060</td>\n      <td>0.242500</td>\n      <td>0.757500</td>\n      <td>0.008082</td>\n      <td>0.033675</td>\n      <td>...</td>\n      <td>0.001267</td>\n      <td>0.442713</td>\n      <td>0.001634</td>\n      <td>0.035616</td>\n      <td>0.0</td>\n      <td>0.038060</td>\n      <td>0.041300</td>\n      <td>0.0</td>\n      <td>0.001977</td>\n      <td>0.805689</td>\n    </tr>\n    <tr>\n      <th>0</th>\n      <td>0.000000</td>\n      <td>0.000000</td>\n      <td>0.000000</td>\n      <td>0.000000</td>\n      <td>0.0</td>\n      <td>0.007820</td>\n      <td>0.495000</td>\n      <td>0.505000</td>\n      <td>0.004530</td>\n      <td>0.022675</td>\n      <td>...</td>\n      <td>0.000879</td>\n      <td>0.481335</td>\n      <td>0.000983</td>\n      <td>0.027397</td>\n      <td>0.0</td>\n      <td>0.028125</td>\n      <td>0.031338</td>\n      <td>0.0</td>\n      <td>0.001186</td>\n      <td>0.842575</td>\n    </tr>\n    <tr>\n      <th>0</th>\n      <td>0.982222</td>\n      <td>0.284515</td>\n      <td>0.080949</td>\n      <td>0.031689</td>\n      <td>0.0</td>\n      <td>0.080569</td>\n      <td>1.000000</td>\n      <td>0.000000</td>\n      <td>0.086800</td>\n      <td>0.030887</td>\n      <td>...</td>\n      <td>0.000709</td>\n      <td>0.356386</td>\n      <td>0.000806</td>\n      <td>0.024658</td>\n      <td>0.0</td>\n      <td>0.025640</td>\n      <td>0.028129</td>\n      <td>0.0</td>\n      <td>0.001018</td>\n      <td>0.896693</td>\n    </tr>\n    <tr>\n      <th>0</th>\n      <td>0.000000</td>\n      <td>0.000000</td>\n      <td>0.000000</td>\n      <td>0.000000</td>\n      <td>0.0</td>\n      <td>0.000864</td>\n      <td>0.242500</td>\n      <td>0.757500</td>\n      <td>0.000510</td>\n      <td>0.004403</td>\n      <td>...</td>\n      <td>0.066963</td>\n      <td>0.351647</td>\n      <td>0.068840</td>\n      <td>0.257534</td>\n      <td>0.0</td>\n      <td>0.258903</td>\n      <td>0.264188</td>\n      <td>0.0</td>\n      <td>0.069801</td>\n      <td>0.974446</td>\n    </tr>\n    <tr>\n      <th>0</th>\n      <td>0.000000</td>\n      <td>0.000000</td>\n      <td>0.000000</td>\n      <td>0.000000</td>\n      <td>0.0</td>\n      <td>0.010685</td>\n      <td>0.182381</td>\n      <td>0.817619</td>\n      <td>0.024642</td>\n      <td>0.180008</td>\n      <td>...</td>\n      <td>0.017707</td>\n      <td>0.358409</td>\n      <td>0.018572</td>\n      <td>0.131507</td>\n      <td>0.0</td>\n      <td>0.132928</td>\n      <td>0.137510</td>\n      <td>0.0</td>\n      <td>0.019334</td>\n      <td>0.967265</td>\n    </tr>\n  </tbody>\n</table>\n<p>5 rows × 178 columns</p>\n</div>"
     },
     "execution_count": 28,
     "metadata": {},
     "output_type": "execute_result"
    }
   ],
   "source": [
    "meta.head()"
   ],
   "metadata": {
    "collapsed": false,
    "pycharm": {
     "name": "#%%\n"
    }
   }
  },
  {
   "cell_type": "code",
   "execution_count": 29,
   "outputs": [],
   "source": [
    "from sklearn.ensemble import RandomForestClassifier\n",
    "from sklearn.ensemble import AdaBoostClassifier\n",
    "from sklearn.tree import DecisionTreeClassifier\n",
    "from sklearn.svm import LinearSVC\n",
    "from sklearn.model_selection import cross_val_score\n",
    "\n",
    "\n",
    "def build_models():\n",
    "    return [\n",
    "        (\"SVC\", LinearSVC(max_iter=2500, tol=1e-3, C=2)),\n",
    "        (\"Forest\", RandomForestClassifier(n_estimators=75, max_depth=6)),\n",
    "        (\"AdaBoost\", AdaBoostClassifier(n_estimators=100, learning_rate=0.1)),\n",
    "        (\"DT\", DecisionTreeClassifier(min_samples_leaf=5, min_samples_split=3, max_depth=10))\n",
    "    ]\n",
    "\n",
    "\n",
    "def train(x, y):\n",
    "    models = build_models()\n",
    "    scores = []\n",
    "\n",
    "    for model_name, model in models:\n",
    "        score = cross_val_score(model, x, y, cv=5, scoring='f1_weighted').mean()\n",
    "        scores.append(score)\n",
    "\n",
    "    best_algo_index = np.array(scores).argmax()\n",
    "\n",
    "    return models[best_algo_index][0]"
   ],
   "metadata": {
    "collapsed": false,
    "pycharm": {
     "name": "#%%\n"
    }
   }
  },
  {
   "cell_type": "code",
   "execution_count": 30,
   "outputs": [
    {
     "name": "stderr",
     "output_type": "stream",
     "text": [
      "100%|██████████| 311/311 [04:29<00:00,  1.15it/s]\n"
     ]
    }
   ],
   "source": [
    "algos = []\n",
    "\n",
    "for df, _, _ in tqdm(datasets):\n",
    "    X = df.drop(columns=[\"target_class\"]).fillna(-1)\n",
    "    X = pd.get_dummies(X)\n",
    "    y = LabelEncoder().fit_transform(df[\"target_class\"])\n",
    "\n",
    "    best_algo = train(X, y)\n",
    "\n",
    "    algos.append(best_algo)"
   ],
   "metadata": {
    "collapsed": false,
    "pycharm": {
     "name": "#%%\n"
    }
   }
  },
  {
   "cell_type": "code",
   "execution_count": 31,
   "outputs": [
    {
     "data": {
      "text/plain": "Forest      102\nSVC          96\nAdaBoost     61\nDT           52\nName: target_algo, dtype: int64"
     },
     "execution_count": 31,
     "metadata": {},
     "output_type": "execute_result"
    }
   ],
   "source": [
    "meta[\"target_algo\"] = algos\n",
    "meta[\"target_algo\"].value_counts()"
   ],
   "metadata": {
    "collapsed": false,
    "pycharm": {
     "name": "#%%\n"
    }
   }
  },
  {
   "cell_type": "markdown",
   "source": [
    "## 6. Визуализируйте мета-набор данных проекцией на двумерном графике. Используйте разные цвета для разных мета-классов."
   ],
   "metadata": {
    "collapsed": false,
    "pycharm": {
     "name": "#%% md\n"
    }
   }
  },
  {
   "cell_type": "code",
   "execution_count": 275,
   "outputs": [
    {
     "data": {
      "text/plain": "<matplotlib.collections.PathCollection at 0x2b4363250>"
     },
     "execution_count": 275,
     "metadata": {},
     "output_type": "execute_result"
    },
    {
     "data": {
      "text/plain": "<Figure size 640x480 with 1 Axes>",
      "image/png": "[encoded data removed]"
     },
     "metadata": {},
     "output_type": "display_data"
    }
   ],
   "source": [
    "from sklearn.manifold import TSNE\n",
    "import matplotlib.pyplot as plt\n",
    "\n",
    "\n",
    "def get_color(model_name):\n",
    "    if model_name == \"Forest\":\n",
    "        return \"green\"\n",
    "    elif model_name == \"SVC\":\n",
    "        return \"red\"\n",
    "    elif model_name == \"AdaBoost\":\n",
    "        return \"blue\"\n",
    "    else:\n",
    "        return \"yellow\"\n",
    "\n",
    "\n",
    "\n",
    "tsne = TSNE(n_components=2, init=\"random\", learning_rate=\"auto\")\n",
    "\n",
    "embeddings = tsne.fit_transform(meta.drop(columns=[\"target_algo\"]).fillna(-1))\n",
    "\n",
    "plt.scatter(embeddings[:, 0], embeddings[:, 1], c=meta[\"target_algo\"].apply(get_color))"
   ],
   "metadata": {
    "collapsed": false,
    "pycharm": {
     "name": "#%%\n"
    }
   }
  },
  {
   "cell_type": "markdown",
   "source": [
    "## 7. Протестируйте несколько алгоритмов обучения с учителем (включая наивный алгоритм) на полученном наборе данных."
   ],
   "metadata": {
    "collapsed": false,
    "pycharm": {
     "name": "#%% md\n"
    }
   }
  },
  {
   "cell_type": "code",
   "execution_count": 265,
   "outputs": [
    {
     "name": "stdout",
     "output_type": "stream",
     "text": [
      "Training on fold [0/8]\n",
      "\n",
      "bestTest = 0.4558435485\n",
      "bestIteration = 11\n",
      "\n",
      "Training on fold [1/8]\n",
      "\n",
      "bestTest = 0.4579481284\n",
      "bestIteration = 15\n",
      "\n",
      "Training on fold [2/8]\n",
      "\n",
      "bestTest = 0.4077597517\n",
      "bestIteration = 4\n",
      "\n",
      "Training on fold [3/8]\n",
      "\n",
      "bestTest = 0.4819661491\n",
      "bestIteration = 96\n",
      "\n",
      "Training on fold [4/8]\n",
      "\n",
      "bestTest = 0.4066884521\n",
      "bestIteration = 70\n",
      "\n",
      "Training on fold [5/8]\n",
      "\n",
      "bestTest = 0.5449548648\n",
      "bestIteration = 18\n",
      "\n",
      "Training on fold [6/8]\n",
      "\n",
      "bestTest = 0.47402788\n",
      "bestIteration = 27\n",
      "\n",
      "Training on fold [7/8]\n",
      "\n",
      "bestTest = 0.5002323569\n",
      "bestIteration = 36\n",
      "\n"
     ]
    }
   ],
   "source": [
    "from catboost import Pool\n",
    "from catboost import cv\n",
    "from sklearn.metrics import f1_score, precision_score, recall_score\n",
    "from sklearn.model_selection import train_test_split\n",
    "\n",
    "params = dict(\n",
    "    learning_rate=0.05,\n",
    "    iterations=100,\n",
    "    verbose=0,\n",
    "    loss_function=\"MultiClassOneVsAll\",\n",
    "    eval_metric=\"TotalF1\",\n",
    "    train_dir=\"./train\",\n",
    "    l2_leaf_reg=1e-3,\n",
    "    leaf_estimation_iterations=15,\n",
    "    max_ctr_complexity=5,\n",
    "    nan_mode=\"Max\",\n",
    "    auto_class_weights=\"Balanced\",\n",
    "    use_best_model=True\n",
    ")\n",
    "\n",
    "X, y = meta.drop(columns=[\"target_algo\"]), meta[\"target_algo\"]\n",
    "\n",
    "encoder = LabelEncoder().fit(y)\n",
    "y = encoder.transform(y)\n",
    "\n",
    "X_train, X_test, y_train, y_test = train_test_split(X, y, test_size=0.1, stratify=y)\n",
    "\n",
    "pool = Pool(X_train, y_train)\n",
    "\n",
    "cross = cv(\n",
    "    pool=pool,\n",
    "    params=params,\n",
    "    nfold=8,\n",
    "    return_models=True\n",
    ")"
   ],
   "metadata": {
    "collapsed": false,
    "pycharm": {
     "name": "#%%\n"
    }
   }
  },
  {
   "cell_type": "code",
   "execution_count": 266,
   "outputs": [],
   "source": [
    "_, models = cross"
   ],
   "metadata": {
    "collapsed": false,
    "pycharm": {
     "name": "#%%\n"
    }
   }
  },
  {
   "cell_type": "code",
   "execution_count": 267,
   "outputs": [],
   "source": [
    "preds = [model.predict(X_test, prediction_type=\"Probability\") for model in models]"
   ],
   "metadata": {
    "collapsed": false,
    "pycharm": {
     "name": "#%%\n"
    }
   }
  },
  {
   "cell_type": "code",
   "execution_count": 268,
   "outputs": [
    {
     "data": {
      "text/plain": "(32,)"
     },
     "execution_count": 268,
     "metadata": {},
     "output_type": "execute_result"
    }
   ],
   "source": [
    "import numpy as np\n",
    "\n",
    "preds = np.stack(preds).mean(axis=0).argmax(1)\n",
    "preds.shape"
   ],
   "metadata": {
    "collapsed": false,
    "pycharm": {
     "name": "#%%\n"
    }
   }
  },
  {
   "cell_type": "code",
   "execution_count": 269,
   "outputs": [
    {
     "name": "stdout",
     "output_type": "stream",
     "text": [
      "0.5654761904761905\n",
      "0.6587787212787213\n",
      "0.59375\n"
     ]
    }
   ],
   "source": [
    "print(f1_score(y_test, preds, average=\"weighted\"))\n",
    "print(precision_score(y_test, preds, average=\"weighted\"))\n",
    "print(recall_score(y_test, preds, average=\"weighted\"))"
   ],
   "metadata": {
    "collapsed": false,
    "pycharm": {
     "name": "#%%\n"
    }
   }
  },
  {
   "cell_type": "code",
   "execution_count": 270,
   "outputs": [
    {
     "data": {
      "text/plain": "<sklearn.metrics._plot.confusion_matrix.ConfusionMatrixDisplay at 0x2b30e90a0>"
     },
     "execution_count": 270,
     "metadata": {},
     "output_type": "execute_result"
    },
    {
     "data": {
      "text/plain": "<Figure size 640x480 with 2 Axes>",
      "image/png": "[encoded data removed]"
     },
     "metadata": {},
     "output_type": "display_data"
    }
   ],
   "source": [
    "from sklearn.metrics import confusion_matrix, ConfusionMatrixDisplay\n",
    "\n",
    "matrix = confusion_matrix(y_test, preds)\n",
    "\n",
    "ConfusionMatrixDisplay(matrix, display_labels=encoder.classes_).plot(cmap=\"inferno\")"
   ],
   "metadata": {
    "collapsed": false,
    "pycharm": {
     "name": "#%%\n"
    }
   }
  }
 ],
 "metadata": {
  "kernelspec": {
   "display_name": "Python 3",
   "language": "python",
   "name": "python3"
  },
  "language_info": {
   "codemirror_mode": {
    "name": "ipython",
    "version": 2
   },
   "file_extension": ".py",
   "mimetype": "text/x-python",
   "name": "python",
   "nbconvert_exporter": "python",
   "pygments_lexer": "ipython2",
   "version": "2.7.6"
  }
 },
 "nbformat": 4,
 "nbformat_minor": 0
}