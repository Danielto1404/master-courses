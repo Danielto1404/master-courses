{
  "nbformat": 4,
  "nbformat_minor": 0,
  "metadata": {
    "colab": {
      "provenance": [],
      "collapsed_sections": []
    },
    "kernelspec": {
      "name": "python3",
      "display_name": "Python 3"
    },
    "accelerator": "GPU"
  },
  "cells": [
    {
      "cell_type": "code",
      "metadata": {
        "id": "IgaeEy67Kvfz"
      },
      "source": [
        "%%writefile requirements.txt\n",
        "torch\n",
        "numpy\n",
        "pandas\n",
        "scikit-learn\n",
        "razdel\n",
        "ipymarkup"
      ],
      "execution_count": null,
      "outputs": []
    },
    {
      "cell_type": "code",
      "metadata": {
        "id": "eHX5WftcK-Gu"
      },
      "source": [
        "!pip install --upgrade -r requirements.txt"
      ],
      "execution_count": null,
      "outputs": []
    },
    {
      "cell_type": "code",
      "metadata": {
        "id": "NC3lrynfPTNY"
      },
      "source": [
        "!wget https://web.archive.org/web/20220331225529/http://ai-center.botik.ru/Airec/ai-resources/Persons-1000.zip\n",
        "!unzip Persons-1000.zip"
      ],
      "execution_count": null,
      "outputs": []
    },
    {
      "cell_type": "code",
      "metadata": {
        "id": "YUw0n2_VPiCn"
      },
      "source": [
        "!cat Persons-1000/collection/001/anno.markup.xml  "
      ],
      "execution_count": null,
      "outputs": []
    },
    {
      "cell_type": "markdown",
      "metadata": {
        "id": "to1AyngFhO4P"
      },
      "source": [
        "# NER"
      ]
    },
    {
      "cell_type": "markdown",
      "metadata": {
        "id": "lVj6iocPhpqN"
      },
      "source": [
        "## Датасет"
      ]
    },
    {
      "cell_type": "markdown",
      "metadata": {
        "id": "lxNSz3DyhWzH"
      },
      "source": [
        "Named Entity Recognition - распознавание именных сущностей. Выделяем в тексте спаны PER, LOC, ORG.\n",
        "\n",
        "В случае с Persons-1000 только PER. "
      ]
    },
    {
      "cell_type": "code",
      "metadata": {
        "id": "ev7wne1KQF9a"
      },
      "source": [
        "import os\n",
        "import xml.etree.ElementTree as ET\n",
        "from ipymarkup import show_box_markup\n",
        "from ipymarkup.palette import palette, BLUE, RED, GREEN\n",
        "\n",
        "directory = \"Persons-1000/collection/\"\n",
        "\n",
        "def read_text_with_markup(directory):\n",
        "    markup_file_name = os.path.join(directory, \"anno.markup.xml\")\n",
        "    text_file_name = os.path.join(directory, \"text.txt\")\n",
        "    with open(text_file_name, \"r\", encoding=\"windows-1251\") as r:\n",
        "        text = r.read()\n",
        "    text = text.replace(\"\\n\", \"\\r\\n\")\n",
        "    root = ET.parse(markup_file_name).getroot()\n",
        "    spans = []\n",
        "    for entry in root.findall(\"entry\"):\n",
        "        start_pos = int(entry.find(\"offset\").text)\n",
        "        end_pos = start_pos + int(entry.find(\"length\").text)\n",
        "        tag = entry.find(\"class\").text\n",
        "        spans.append((start_pos, end_pos, \"PER\"))\n",
        "    return text, spans\n",
        "\n",
        "data = []\n",
        "for sample_name in os.listdir(directory):\n",
        "    sample_path = os.path.join(directory, sample_name)\n",
        "    data.append(read_text_with_markup(sample_path))"
      ],
      "execution_count": null,
      "outputs": []
    },
    {
      "cell_type": "markdown",
      "metadata": {
        "id": "wVf4thMLhw6e"
      },
      "source": [
        "ipymarkup - модуль для вывода NER разметки в ipynb"
      ]
    },
    {
      "cell_type": "code",
      "metadata": {
        "id": "5L6tXNHjhvsZ",
        "outputId": "596020d5-4136-423f-ff76-72915657bf2d",
        "colab": {
          "base_uri": "https://localhost:8080/",
          "height": 731
        }
      },
      "source": [
        "show_box_markup(data[0][0], data[0][1], palette=palette(PER=GREEN, ORG=BLUE, LOC=RED))"
      ],
      "execution_count": null,
      "outputs": [
        {
          "output_type": "display_data",
          "data": {
            "text/plain": [
              "<IPython.core.display.HTML object>"
            ],
            "text/html": [
              "<div class=\"tex2jax_ignore\" style=\"white-space: pre-wrap\">Назначен ряд ключевых сотрудников объединенной биржи ММВБ-РТС.\r\n",
              "\r\n",
              "Руководство бирж ММВБ и РТС по согласованию с советами директоров обеих бирж назначило ключевых сотрудников будущей объединенной биржи, которая возникнет в результате слияния двух структур. Как говорится в совместном сообщении ММВБ и РТС, объединенная команда, состоящая из сотрудников обеих бирж, в ближайшее время выработает единые философию, миссию и ценности, которые будут способствовать формированию и дальнейшему развитию объединенной биржи.\r\n",
              "\r\n",
              "Как сообщалось ранее, президентом, председателем правления объединенной биржи назначен нынешний глава ММВБ <span style=\"padding: 2px; border-radius: 4px; border: 1px solid #c8e6c9; background: #e8f5e9\">Рубен Аганбегян<span style=\"vertical-align: middle; margin-left: 2px; font-size: 0.7em; color: #66bb6a;\">PER</span></span>. На новой должности он будет отвечать за общее управление компанией, а также за стратегию развития биржи и построение биржевой инфраструктуры, необходимой для создания в России международного финансового центра. Первым заместителем председателя правления и старшим управляющим директором назначается президент РТС <span style=\"padding: 2px; border-radius: 4px; border: 1px solid #c8e6c9; background: #e8f5e9\">Роман Горюнов<span style=\"vertical-align: middle; margin-left: 2px; font-size: 0.7em; color: #66bb6a;\">PER</span></span>. Он будет отвечать за развитие рынков объединенной биржи.\r\n",
              "\r\n",
              "На должность управляющего IT-директора объединенной бирже назначен <span style=\"padding: 2px; border-radius: 4px; border: 1px solid #c8e6c9; background: #e8f5e9\">Ваган Варданян<span style=\"vertical-align: middle; margin-left: 2px; font-size: 0.7em; color: #66bb6a;\">PER</span></span>. В зоне его ответственности будут находиться департамент корпоративных, аналитических и расчетно-депозитарных систем, департамент эксплуатации, департамент обеспечения офисной инфраструктуры и информационной безопасности и департамент сетевой архитектуры.\r\n",
              "\r\n",
              "Управляющим директором по международному развитию станет <span style=\"padding: 2px; border-radius: 4px; border: 1px solid #c8e6c9; background: #e8f5e9\">Максим Волков<span style=\"vertical-align: middle; margin-left: 2px; font-size: 0.7em; color: #66bb6a;\">PER</span></span>. Он будет отвечать за бизнес-дивизион &quot;Региональное и международное развитие&quot; и &quot;Дочерние компании на зарубежных рынках&quot;.\r\n",
              "\r\n",
              "Управляющим директором корпоративного центра станет <span style=\"padding: 2px; border-radius: 4px; border: 1px solid #c8e6c9; background: #e8f5e9\">Владимир Гусаков<span style=\"vertical-align: middle; margin-left: 2px; font-size: 0.7em; color: #66bb6a;\">PER</span></span>.\r\n",
              "\r\n",
              "В качестве управляющего директора по коммуникациям на объединенной бирже будет работать <span style=\"padding: 2px; border-radius: 4px; border: 1px solid #c8e6c9; background: #e8f5e9\">Варвара Иноземцева<span style=\"vertical-align: middle; margin-left: 2px; font-size: 0.7em; color: #66bb6a;\">PER</span></span>.\r\n",
              "\r\n",
              "Управляющим директором по формированию первичного рынка назначается <span style=\"padding: 2px; border-radius: 4px; border: 1px solid #c8e6c9; background: #e8f5e9\">Екатерина Новокрещеных<span style=\"vertical-align: middle; margin-left: 2px; font-size: 0.7em; color: #66bb6a;\">PER</span></span>. В ее непосредственном подчинении будут находиться департамент привлечения эмитентов и облигаций и департамент листинга.\r\n",
              "\r\n",
              "<span style=\"padding: 2px; border-radius: 4px; border: 1px solid #c8e6c9; background: #e8f5e9\">Андрей Салащенко<span style=\"vertical-align: middle; margin-left: 2px; font-size: 0.7em; color: #66bb6a;\">PER</span></span> назначается управляющим директором по взаимодействию с органами власти.\r\n",
              "\r\n",
              "<span style=\"padding: 2px; border-radius: 4px; border: 1px solid #c8e6c9; background: #e8f5e9\">Вадим Субботин<span style=\"vertical-align: middle; margin-left: 2px; font-size: 0.7em; color: #66bb6a;\">PER</span></span> назначается управляющим директором по финансам.\r\n",
              "\r\n",
              "Перечисленные сотрудники будут работать под непосредственным руководством <span style=\"padding: 2px; border-radius: 4px; border: 1px solid #c8e6c9; background: #e8f5e9\">Р.Аганбегяна<span style=\"vertical-align: middle; margin-left: 2px; font-size: 0.7em; color: #66bb6a;\">PER</span></span>. Также в его прямом подчинении будут находиться департамент стратегии, HR-департамент, департамент внутреннего контроля, департамент безопасности, юридический департамент, депозитарная и расчетная инфраструктура и бухгалтерия.\r\n",
              "\r\n",
              "Управляющим директором объединенной биржи, которая будет отвечать за развитие бизнес-дивизиона &quot;Спот-рынок&quot; назначена <span style=\"padding: 2px; border-radius: 4px; border: 1px solid #c8e6c9; background: #e8f5e9\">Марина Медведева<span style=\"vertical-align: middle; margin-left: 2px; font-size: 0.7em; color: #66bb6a;\">PER</span></span>. В зоне ее ответственности будут находиться бизнес-направления &quot;Денежный рынок&quot;, &quot;Акции&quot;, а также департамент клиентской поддержки.\r\n",
              "\r\n",
              "Направление &quot;Акции&quot; в роли исполнительного директора с подчинением <span style=\"padding: 2px; border-radius: 4px; border: 1px solid #c8e6c9; background: #e8f5e9\">М.Медведевой<span style=\"vertical-align: middle; margin-left: 2px; font-size: 0.7em; color: #66bb6a;\">PER</span></span> будет курировать <span style=\"padding: 2px; border-radius: 4px; border: 1px solid #c8e6c9; background: #e8f5e9\">Анна Кузнецова<span style=\"vertical-align: middle; margin-left: 2px; font-size: 0.7em; color: #66bb6a;\">PER</span></span>. За направление &quot;Денежный рынок&quot; в качестве исполнительного директора будет отвечать <span style=\"padding: 2px; border-radius: 4px; border: 1px solid #c8e6c9; background: #e8f5e9\">Игорь Марич<span style=\"vertical-align: middle; margin-left: 2px; font-size: 0.7em; color: #66bb6a;\">PER</span></span>. <span style=\"padding: 2px; border-radius: 4px; border: 1px solid #c8e6c9; background: #e8f5e9\">Сергей Харитонов<span style=\"vertical-align: middle; margin-left: 2px; font-size: 0.7em; color: #66bb6a;\">PER</span></span> будет занимать пост управляющего директора бизнес-инкубатора. <span style=\"padding: 2px; border-radius: 4px; border: 1px solid #c8e6c9; background: #e8f5e9\">Евгений Сердюков<span style=\"vertical-align: middle; margin-left: 2px; font-size: 0.7em; color: #66bb6a;\">PER</span></span> на должности управляющего директора бизнес-дивизиона &quot;Срочный рынок&quot; будет отвечать за развитие деривативов. <span style=\"padding: 2px; border-radius: 4px; border: 1px solid #c8e6c9; background: #e8f5e9\">Евгений Эллинский<span style=\"vertical-align: middle; margin-left: 2px; font-size: 0.7em; color: #66bb6a;\">PER</span></span> назначается на должность исполнительного директора бизнес-дивизиона &quot;Государственные закупки&quot;. <span style=\"padding: 2px; border-radius: 4px; border: 1px solid #c8e6c9; background: #e8f5e9\">Сергей Замолоцких<span style=\"vertical-align: middle; margin-left: 2px; font-size: 0.7em; color: #66bb6a;\">PER</span></span> назначается управляющим директором по технологическому развитию. <span style=\"padding: 2px; border-radius: 4px; border: 1px solid #c8e6c9; background: #e8f5e9\">Александр Шляппо<span style=\"vertical-align: middle; margin-left: 2px; font-size: 0.7em; color: #66bb6a;\">PER</span></span> также станет управляющим директором по технологическому развитию.\r\n",
              "\r\n",
              "Указанная группа сотрудников будет работать в подничении <span style=\"padding: 2px; border-radius: 4px; border: 1px solid #c8e6c9; background: #e8f5e9\">Р.Горюнова<span style=\"vertical-align: middle; margin-left: 2px; font-size: 0.7em; color: #66bb6a;\">PER</span></span>.\r\n",
              "\r\n",
              "Также сформировано правление объединенной биржи, в состав которого войдут <span style=\"padding: 2px; border-radius: 4px; border: 1px solid #c8e6c9; background: #e8f5e9\">Р.Аганбегян<span style=\"vertical-align: middle; margin-left: 2px; font-size: 0.7em; color: #66bb6a;\">PER</span></span>, <span style=\"padding: 2px; border-radius: 4px; border: 1px solid #c8e6c9; background: #e8f5e9\">Р.Горюнов<span style=\"vertical-align: middle; margin-left: 2px; font-size: 0.7em; color: #66bb6a;\">PER</span></span>, <span style=\"padding: 2px; border-radius: 4px; border: 1px solid #c8e6c9; background: #e8f5e9\">В.Субботин<span style=\"vertical-align: middle; margin-left: 2px; font-size: 0.7em; color: #66bb6a;\">PER</span></span>, <span style=\"padding: 2px; border-radius: 4px; border: 1px solid #c8e6c9; background: #e8f5e9\">Е.Новокрещеных<span style=\"vertical-align: middle; margin-left: 2px; font-size: 0.7em; color: #66bb6a;\">PER</span></span> и <span style=\"padding: 2px; border-radius: 4px; border: 1px solid #c8e6c9; background: #e8f5e9\">В.Варданян<span style=\"vertical-align: middle; margin-left: 2px; font-size: 0.7em; color: #66bb6a;\">PER</span></span>.</div>"
            ]
          },
          "metadata": {}
        }
      ]
    },
    {
      "cell_type": "markdown",
      "metadata": {
        "id": "pt-NHuy6h3Nn"
      },
      "source": [
        "## BIO\n",
        "\n",
        "BIO разметка: B - begin, I - inner, O - outer. Преобразуем задачу разметки спанов в задачу классификации каждого слова."
      ]
    },
    {
      "cell_type": "code",
      "metadata": {
        "outputId": "7788513f-333a-43f7-b834-99e6d48e270d",
        "id": "5YL2kf97Cn9F",
        "colab": {
          "base_uri": "https://localhost:8080/",
          "height": 785
        }
      },
      "source": [
        "from razdel import tokenize\n",
        "from collections import namedtuple\n",
        "\n",
        "Sample = namedtuple(\"Sample\", \"text,tokens,spans,labels\")\n",
        "\n",
        "samples = []\n",
        "for text, spans in data:\n",
        "    labels = []\n",
        "    tokens = list(tokenize(text))\n",
        "    for token in tokens:\n",
        "        label = 0\n",
        "        for span in spans:\n",
        "            if token.start == span[0]:\n",
        "                label = 1\n",
        "            elif token.start > span[0] and token.stop <= span[1]:\n",
        "                label = 2\n",
        "        labels.append(label)\n",
        "    sample = Sample(text, tokens, spans, labels)\n",
        "    samples.append(sample)\n",
        "\n",
        "show_box_markup(samples[0].text, samples[0].spans, palette=palette(PER=BLUE, ORG=RED, LOC=GREEN))\n",
        "print(samples[0].labels)\n",
        "print(len(samples))"
      ],
      "execution_count": null,
      "outputs": [
        {
          "output_type": "display_data",
          "data": {
            "text/plain": [
              "<IPython.core.display.HTML object>"
            ],
            "text/html": [
              "<div class=\"tex2jax_ignore\" style=\"white-space: pre-wrap\">Назначен ряд ключевых сотрудников объединенной биржи ММВБ-РТС.\r\n",
              "\r\n",
              "Руководство бирж ММВБ и РТС по согласованию с советами директоров обеих бирж назначило ключевых сотрудников будущей объединенной биржи, которая возникнет в результате слияния двух структур. Как говорится в совместном сообщении ММВБ и РТС, объединенная команда, состоящая из сотрудников обеих бирж, в ближайшее время выработает единые философию, миссию и ценности, которые будут способствовать формированию и дальнейшему развитию объединенной биржи.\r\n",
              "\r\n",
              "Как сообщалось ранее, президентом, председателем правления объединенной биржи назначен нынешний глава ММВБ <span style=\"padding: 2px; border-radius: 4px; border: 1px solid #bbdefb; background: #e3f2fd\">Рубен Аганбегян<span style=\"vertical-align: middle; margin-left: 2px; font-size: 0.7em; color: #64b5f6;\">PER</span></span>. На новой должности он будет отвечать за общее управление компанией, а также за стратегию развития биржи и построение биржевой инфраструктуры, необходимой для создания в России международного финансового центра. Первым заместителем председателя правления и старшим управляющим директором назначается президент РТС <span style=\"padding: 2px; border-radius: 4px; border: 1px solid #bbdefb; background: #e3f2fd\">Роман Горюнов<span style=\"vertical-align: middle; margin-left: 2px; font-size: 0.7em; color: #64b5f6;\">PER</span></span>. Он будет отвечать за развитие рынков объединенной биржи.\r\n",
              "\r\n",
              "На должность управляющего IT-директора объединенной бирже назначен <span style=\"padding: 2px; border-radius: 4px; border: 1px solid #bbdefb; background: #e3f2fd\">Ваган Варданян<span style=\"vertical-align: middle; margin-left: 2px; font-size: 0.7em; color: #64b5f6;\">PER</span></span>. В зоне его ответственности будут находиться департамент корпоративных, аналитических и расчетно-депозитарных систем, департамент эксплуатации, департамент обеспечения офисной инфраструктуры и информационной безопасности и департамент сетевой архитектуры.\r\n",
              "\r\n",
              "Управляющим директором по международному развитию станет <span style=\"padding: 2px; border-radius: 4px; border: 1px solid #bbdefb; background: #e3f2fd\">Максим Волков<span style=\"vertical-align: middle; margin-left: 2px; font-size: 0.7em; color: #64b5f6;\">PER</span></span>. Он будет отвечать за бизнес-дивизион &quot;Региональное и международное развитие&quot; и &quot;Дочерние компании на зарубежных рынках&quot;.\r\n",
              "\r\n",
              "Управляющим директором корпоративного центра станет <span style=\"padding: 2px; border-radius: 4px; border: 1px solid #bbdefb; background: #e3f2fd\">Владимир Гусаков<span style=\"vertical-align: middle; margin-left: 2px; font-size: 0.7em; color: #64b5f6;\">PER</span></span>.\r\n",
              "\r\n",
              "В качестве управляющего директора по коммуникациям на объединенной бирже будет работать <span style=\"padding: 2px; border-radius: 4px; border: 1px solid #bbdefb; background: #e3f2fd\">Варвара Иноземцева<span style=\"vertical-align: middle; margin-left: 2px; font-size: 0.7em; color: #64b5f6;\">PER</span></span>.\r\n",
              "\r\n",
              "Управляющим директором по формированию первичного рынка назначается <span style=\"padding: 2px; border-radius: 4px; border: 1px solid #bbdefb; background: #e3f2fd\">Екатерина Новокрещеных<span style=\"vertical-align: middle; margin-left: 2px; font-size: 0.7em; color: #64b5f6;\">PER</span></span>. В ее непосредственном подчинении будут находиться департамент привлечения эмитентов и облигаций и департамент листинга.\r\n",
              "\r\n",
              "<span style=\"padding: 2px; border-radius: 4px; border: 1px solid #bbdefb; background: #e3f2fd\">Андрей Салащенко<span style=\"vertical-align: middle; margin-left: 2px; font-size: 0.7em; color: #64b5f6;\">PER</span></span> назначается управляющим директором по взаимодействию с органами власти.\r\n",
              "\r\n",
              "<span style=\"padding: 2px; border-radius: 4px; border: 1px solid #bbdefb; background: #e3f2fd\">Вадим Субботин<span style=\"vertical-align: middle; margin-left: 2px; font-size: 0.7em; color: #64b5f6;\">PER</span></span> назначается управляющим директором по финансам.\r\n",
              "\r\n",
              "Перечисленные сотрудники будут работать под непосредственным руководством <span style=\"padding: 2px; border-radius: 4px; border: 1px solid #bbdefb; background: #e3f2fd\">Р.Аганбегяна<span style=\"vertical-align: middle; margin-left: 2px; font-size: 0.7em; color: #64b5f6;\">PER</span></span>. Также в его прямом подчинении будут находиться департамент стратегии, HR-департамент, департамент внутреннего контроля, департамент безопасности, юридический департамент, депозитарная и расчетная инфраструктура и бухгалтерия.\r\n",
              "\r\n",
              "Управляющим директором объединенной биржи, которая будет отвечать за развитие бизнес-дивизиона &quot;Спот-рынок&quot; назначена <span style=\"padding: 2px; border-radius: 4px; border: 1px solid #bbdefb; background: #e3f2fd\">Марина Медведева<span style=\"vertical-align: middle; margin-left: 2px; font-size: 0.7em; color: #64b5f6;\">PER</span></span>. В зоне ее ответственности будут находиться бизнес-направления &quot;Денежный рынок&quot;, &quot;Акции&quot;, а также департамент клиентской поддержки.\r\n",
              "\r\n",
              "Направление &quot;Акции&quot; в роли исполнительного директора с подчинением <span style=\"padding: 2px; border-radius: 4px; border: 1px solid #bbdefb; background: #e3f2fd\">М.Медведевой<span style=\"vertical-align: middle; margin-left: 2px; font-size: 0.7em; color: #64b5f6;\">PER</span></span> будет курировать <span style=\"padding: 2px; border-radius: 4px; border: 1px solid #bbdefb; background: #e3f2fd\">Анна Кузнецова<span style=\"vertical-align: middle; margin-left: 2px; font-size: 0.7em; color: #64b5f6;\">PER</span></span>. За направление &quot;Денежный рынок&quot; в качестве исполнительного директора будет отвечать <span style=\"padding: 2px; border-radius: 4px; border: 1px solid #bbdefb; background: #e3f2fd\">Игорь Марич<span style=\"vertical-align: middle; margin-left: 2px; font-size: 0.7em; color: #64b5f6;\">PER</span></span>. <span style=\"padding: 2px; border-radius: 4px; border: 1px solid #bbdefb; background: #e3f2fd\">Сергей Харитонов<span style=\"vertical-align: middle; margin-left: 2px; font-size: 0.7em; color: #64b5f6;\">PER</span></span> будет занимать пост управляющего директора бизнес-инкубатора. <span style=\"padding: 2px; border-radius: 4px; border: 1px solid #bbdefb; background: #e3f2fd\">Евгений Сердюков<span style=\"vertical-align: middle; margin-left: 2px; font-size: 0.7em; color: #64b5f6;\">PER</span></span> на должности управляющего директора бизнес-дивизиона &quot;Срочный рынок&quot; будет отвечать за развитие деривативов. <span style=\"padding: 2px; border-radius: 4px; border: 1px solid #bbdefb; background: #e3f2fd\">Евгений Эллинский<span style=\"vertical-align: middle; margin-left: 2px; font-size: 0.7em; color: #64b5f6;\">PER</span></span> назначается на должность исполнительного директора бизнес-дивизиона &quot;Государственные закупки&quot;. <span style=\"padding: 2px; border-radius: 4px; border: 1px solid #bbdefb; background: #e3f2fd\">Сергей Замолоцких<span style=\"vertical-align: middle; margin-left: 2px; font-size: 0.7em; color: #64b5f6;\">PER</span></span> назначается управляющим директором по технологическому развитию. <span style=\"padding: 2px; border-radius: 4px; border: 1px solid #bbdefb; background: #e3f2fd\">Александр Шляппо<span style=\"vertical-align: middle; margin-left: 2px; font-size: 0.7em; color: #64b5f6;\">PER</span></span> также станет управляющим директором по технологическому развитию.\r\n",
              "\r\n",
              "Указанная группа сотрудников будет работать в подничении <span style=\"padding: 2px; border-radius: 4px; border: 1px solid #bbdefb; background: #e3f2fd\">Р.Горюнова<span style=\"vertical-align: middle; margin-left: 2px; font-size: 0.7em; color: #64b5f6;\">PER</span></span>.\r\n",
              "\r\n",
              "Также сформировано правление объединенной биржи, в состав которого войдут <span style=\"padding: 2px; border-radius: 4px; border: 1px solid #bbdefb; background: #e3f2fd\">Р.Аганбегян<span style=\"vertical-align: middle; margin-left: 2px; font-size: 0.7em; color: #64b5f6;\">PER</span></span>, <span style=\"padding: 2px; border-radius: 4px; border: 1px solid #bbdefb; background: #e3f2fd\">Р.Горюнов<span style=\"vertical-align: middle; margin-left: 2px; font-size: 0.7em; color: #64b5f6;\">PER</span></span>, <span style=\"padding: 2px; border-radius: 4px; border: 1px solid #bbdefb; background: #e3f2fd\">В.Субботин<span style=\"vertical-align: middle; margin-left: 2px; font-size: 0.7em; color: #64b5f6;\">PER</span></span>, <span style=\"padding: 2px; border-radius: 4px; border: 1px solid #bbdefb; background: #e3f2fd\">Е.Новокрещеных<span style=\"vertical-align: middle; margin-left: 2px; font-size: 0.7em; color: #64b5f6;\">PER</span></span> и <span style=\"padding: 2px; border-radius: 4px; border: 1px solid #bbdefb; background: #e3f2fd\">В.Варданян<span style=\"vertical-align: middle; margin-left: 2px; font-size: 0.7em; color: #64b5f6;\">PER</span></span>.</div>"
            ]
          },
          "metadata": {}
        },
        {
          "output_type": "stream",
          "name": "stdout",
          "text": [
            "[0, 0, 0, 0, 0, 0, 0, 0, 0, 0, 0, 0, 0, 0, 0, 0, 0, 0, 0, 0, 0, 0, 0, 0, 0, 0, 0, 0, 0, 0, 0, 0, 0, 0, 0, 0, 0, 0, 0, 0, 0, 0, 0, 0, 0, 0, 0, 0, 0, 0, 0, 0, 0, 0, 0, 0, 0, 0, 0, 0, 0, 0, 0, 0, 0, 0, 0, 0, 0, 0, 0, 0, 0, 0, 0, 0, 0, 0, 0, 0, 0, 0, 0, 0, 0, 0, 0, 0, 1, 2, 0, 0, 0, 0, 0, 0, 0, 0, 0, 0, 0, 0, 0, 0, 0, 0, 0, 0, 0, 0, 0, 0, 0, 0, 0, 0, 0, 0, 0, 0, 0, 0, 0, 0, 0, 0, 0, 0, 0, 0, 0, 0, 0, 1, 2, 0, 0, 0, 0, 0, 0, 0, 0, 0, 0, 0, 0, 0, 0, 0, 0, 0, 1, 2, 0, 0, 0, 0, 0, 0, 0, 0, 0, 0, 0, 0, 0, 0, 0, 0, 0, 0, 0, 0, 0, 0, 0, 0, 0, 0, 0, 0, 0, 0, 0, 0, 0, 0, 0, 0, 1, 2, 0, 0, 0, 0, 0, 0, 0, 0, 0, 0, 0, 0, 0, 0, 0, 0, 0, 0, 0, 0, 0, 0, 0, 0, 0, 0, 1, 2, 0, 0, 0, 0, 0, 0, 0, 0, 0, 0, 0, 0, 1, 2, 0, 0, 0, 0, 0, 0, 0, 0, 1, 2, 0, 0, 0, 0, 0, 0, 0, 0, 0, 0, 0, 0, 0, 0, 0, 0, 1, 2, 0, 0, 0, 0, 0, 0, 0, 0, 0, 1, 2, 0, 0, 0, 0, 0, 0, 0, 0, 0, 0, 0, 0, 0, 1, 2, 2, 0, 0, 0, 0, 0, 0, 0, 0, 0, 0, 0, 0, 0, 0, 0, 0, 0, 0, 0, 0, 0, 0, 0, 0, 0, 0, 0, 0, 0, 0, 0, 0, 0, 0, 0, 0, 0, 0, 0, 0, 0, 0, 0, 0, 0, 1, 2, 0, 0, 0, 0, 0, 0, 0, 0, 0, 0, 0, 0, 0, 0, 0, 0, 0, 0, 0, 0, 0, 0, 0, 0, 0, 0, 0, 0, 0, 0, 0, 0, 0, 1, 2, 2, 0, 0, 1, 2, 0, 0, 0, 0, 0, 0, 0, 0, 0, 0, 0, 0, 0, 1, 2, 0, 1, 2, 0, 0, 0, 0, 0, 0, 0, 1, 2, 0, 0, 0, 0, 0, 0, 0, 0, 0, 0, 0, 0, 0, 0, 0, 1, 2, 0, 0, 0, 0, 0, 0, 0, 0, 0, 0, 0, 1, 2, 0, 0, 0, 0, 0, 0, 0, 1, 2, 0, 0, 0, 0, 0, 0, 0, 0, 0, 0, 0, 0, 0, 0, 0, 1, 2, 2, 0, 0, 0, 0, 0, 0, 0, 0, 0, 0, 0, 1, 2, 2, 0, 1, 2, 2, 0, 1, 2, 2, 0, 1, 2, 2, 0, 1, 2, 2, 0]\n",
            "1000\n"
          ]
        }
      ]
    },
    {
      "cell_type": "markdown",
      "metadata": {
        "id": "07Vhppz4iF7K"
      },
      "source": [
        "Бьём на выборки"
      ]
    },
    {
      "cell_type": "code",
      "metadata": {
        "id": "IwyMhmAaE_CY"
      },
      "source": [
        "import random\n",
        "random.shuffle(samples)\n",
        "\n",
        "train = samples[:700]\n",
        "val = samples[700:850]\n",
        "test = samples[850:]"
      ],
      "execution_count": null,
      "outputs": []
    },
    {
      "cell_type": "code",
      "metadata": {
        "id": "JEWpoWt6CkP1",
        "outputId": "e9c39e07-bd10-42e3-9769-36e1a38922a2",
        "colab": {
          "base_uri": "https://localhost:8080/"
        }
      },
      "source": [
        "char_set = [\"<pad>\", \"<unk>\"] + list({ch for sample in samples for token in sample.tokens for ch in token.text})\n",
        "print(char_set)"
      ],
      "execution_count": null,
      "outputs": [
        {
          "output_type": "stream",
          "name": "stdout",
          "text": [
            "['<pad>', '<unk>', 'I', '»', ',', 'Ъ', 'G', 'c', 'Т', \"'\", 'н', '!', '4', 'ц', 'Л', '3', 'x', 'Ф', '[', 'ж', 'T', '(', ':', 'Ы', 'о', 'z', 'K', '\\xad', 'р', '0', '$', '&', 'S', '2', 'l', '«', '—', 'p', 'О', 'r', 'Э', 'V', 'Р', 'o', 'D', 'e', 'B', 'g', 'Б', 'O', 'Я', 'X', '=', '?', 'ф', 'М', 'З', '#', 't', '–', 'б', 'H', 'Ь', 'С', 'м', 'й', '>', 'ъ', '“', '…', 'm', 'ы', 'к', 'д', 'Й', '+', '*', '<', 'Г', ')', 'щ', 'п', 'л', 'Н', '1', 'у', '©', 'в', 'W', '/', 'ю', '-', 'u', '_', 'A', 'ч', 'R', 'Y', 'i', 'y', 'ь', '.', 'с', 'L', 'и', 'Ч', 'n', 'г', 'U', '5', 'я', 'E', '€', '6', 'J', 'F', 'f', 'b', '7', '8', '9', 'Д', 'Щ', '|', 'k', '”', '\"', 'P', 'х', 'd', 'Ш', 'Ю', '•', 'П', 'w', 'Ё', 'Е', ';', 'Ц', 'Ж', 'Q', 'v', 'q', 's', 'N', 'А', 'з', 'И', 'Х', 'э', ']', 'ш', '%', 'j', 'ё', 'a', 'У', 'т', 'C', 'е', '№', 'К', 'Z', 'і', 'В', 'M', 'h', 'а']\n"
          ]
        }
      ]
    },
    {
      "cell_type": "markdown",
      "metadata": {
        "id": "Bl0XXI9_iNJQ"
      },
      "source": [
        "Для каждого слова сохраняем его символьный состав, а в остальном старый добрый пайплайн"
      ]
    },
    {
      "cell_type": "code",
      "metadata": {
        "id": "p8tvvFJDEQin"
      },
      "source": [
        "import torch\n",
        "import torch.nn as nn\n",
        "import torch.optim as optim\n",
        "import time\n",
        "import numpy as np\n",
        "\n",
        "def get_next_gen_batch(samples, max_seq_len=500, max_char_seq_len=40, batch_size=32):\n",
        "    indices = np.arange(len(samples))\n",
        "    np.random.shuffle(indices)\n",
        "    batch_begin = 0\n",
        "    while batch_begin < len(samples):\n",
        "        batch_indices = indices[batch_begin: batch_begin + batch_size]\n",
        "        batch = []\n",
        "        batch_labels = []\n",
        "        batch_max_len = 0\n",
        "        for data_ind in batch_indices:\n",
        "            sample = samples[data_ind]\n",
        "            inputs = []\n",
        "            for token in sample.tokens[:max_seq_len]:\n",
        "                chars = [char_set.index(ch) if ch in char_set else char_set.index(\"<unk>\") for ch in token.text][:max_char_seq_len]\n",
        "                chars += [0] * (max_char_seq_len - len(chars))\n",
        "                inputs.append(chars)\n",
        "            batch_max_len = max(batch_max_len, len(inputs))\n",
        "            inputs += [[0]*max_char_seq_len] * (max_seq_len - len(inputs))\n",
        "            batch.append(inputs)\n",
        "            labels = sample.labels[:max_seq_len]\n",
        "            labels += [0] * (max_seq_len - len(labels))\n",
        "            batch_labels.append(labels)\n",
        "        batch_begin += batch_size\n",
        "        batch = torch.cuda.LongTensor(batch)[:, :batch_max_len]\n",
        "        labels = torch.cuda.LongTensor(batch_labels)[:, :batch_max_len]\n",
        "        yield batch_indices, batch, labels\n",
        "\n",
        "\n",
        "def train_gen_model(model, train_samples, val_samples, epochs_count=10, \n",
        "                    loss_every_nsteps=1000, lr=0.01, save_path=\"model.pt\", device_name=\"cuda\",\n",
        "                    early_stopping=True):\n",
        "    params_count = sum(p.numel() for p in model.parameters() if p.requires_grad)\n",
        "    print(\"Trainable params: {}\".format(params_count))\n",
        "    device = torch.device(device_name)\n",
        "    model = model.to(device)\n",
        "    total_loss = 0\n",
        "    start_time = time.time()\n",
        "    optimizer = optim.Adam(model.parameters(), lr=lr)\n",
        "    loss_function = nn.CrossEntropyLoss().cuda()\n",
        "    prev_avg_val_loss = None\n",
        "    for epoch in range(epochs_count):\n",
        "        model.train()\n",
        "        for step, (_, batch, batch_labels) in enumerate(get_next_gen_batch(train)):\n",
        "            logits = model(batch) # Прямой проход\n",
        "            logits = logits.transpose(1, 2)\n",
        "            loss = loss_function(logits, batch_labels) # Подсчёт ошибки\n",
        "            loss.backward() # Подсчёт градиентов dL/dw\n",
        "            optimizer.step() # Градиентный спуск или его модификации (в данном случае Adam)\n",
        "            optimizer.zero_grad() # Зануление градиентов, чтобы их спокойно менять на следующей итерации\n",
        "            total_loss += loss.item()\n",
        "        val_total_loss = 0\n",
        "        val_batch_count = 0\n",
        "        model.eval()\n",
        "        for _, (_, batch, batch_labels) in enumerate(get_next_gen_batch(val)):\n",
        "            logits = model(batch) # Прямой проход\n",
        "            logits = logits.transpose(1, 2)\n",
        "            val_total_loss += loss_function(logits, batch_labels) # Подсчёт ошибки\n",
        "            val_batch_count += 1\n",
        "        avg_val_loss = val_total_loss/val_batch_count\n",
        "        print(\"Epoch = {}, Avg Train Loss = {:.4f}, Avg val loss = {:.4f}, Time = {:.2f}s\".format(epoch, total_loss / loss_every_nsteps, avg_val_loss, time.time() - start_time))\n",
        "        total_loss = 0\n",
        "        start_time = time.time()\n",
        "\n",
        "        if early_stopping and prev_avg_val_loss is not None and avg_val_loss > prev_avg_val_loss:\n",
        "            model.load_state_dict(torch.load(save_path))\n",
        "            model.eval()\n",
        "            break\n",
        "        prev_avg_val_loss = avg_val_loss\n",
        "        torch.save(model.state_dict(), save_path)"
      ],
      "execution_count": null,
      "outputs": []
    },
    {
      "cell_type": "markdown",
      "metadata": {
        "id": "5-rBnhPsiVZ2"
      },
      "source": [
        "## Бесконтекстная модель"
      ]
    },
    {
      "cell_type": "code",
      "metadata": {
        "id": "CcyI1PUaHScl",
        "outputId": "39a9ed03-44e2-4f7d-fc03-f2a9739e3ee6",
        "colab": {
          "base_uri": "https://localhost:8080/"
        }
      },
      "source": [
        "import torch\n",
        "from torch import nn\n",
        "\n",
        "class SuperSimpleModel(nn.Module):\n",
        "    def __init__(self, char_set_size, char_embedding_dim=16, classes_count=3, char_max_seq_len=40):\n",
        "        super().__init__()\n",
        "        \n",
        "        self.embeddings_layer = nn.Embedding(char_set_size, char_embedding_dim)\n",
        "        self.out_layer = nn.Linear(char_max_seq_len * char_embedding_dim, classes_count)\n",
        "\n",
        "    def forward(self, inputs):\n",
        "        projections = self.embeddings_layer.forward(inputs)\n",
        "        projections = projections.reshape(projections.size(0), projections.size(1), -1)\n",
        "        output = self.out_layer.forward(projections)\n",
        "        return output\n",
        "\n",
        "\n",
        "model = SuperSimpleModel(len(char_set))\n",
        "train_gen_model(model, train, val, epochs_count=50, early_stopping=False, lr=0.02)"
      ],
      "execution_count": null,
      "outputs": [
        {
          "output_type": "stream",
          "name": "stdout",
          "text": [
            "Trainable params: 4611\n",
            "Epoch = 0, Avg Train Loss = 0.0276, Avg val loss = 0.3948, Time = 5.20s\n",
            "Epoch = 1, Avg Train Loss = 0.0052, Avg val loss = 0.1412, Time = 5.12s\n",
            "Epoch = 2, Avg Train Loss = 0.0023, Avg val loss = 0.0912, Time = 5.15s\n",
            "Epoch = 3, Avg Train Loss = 0.0019, Avg val loss = 0.0834, Time = 5.13s\n",
            "Epoch = 4, Avg Train Loss = 0.0018, Avg val loss = 0.0810, Time = 5.17s\n",
            "Epoch = 5, Avg Train Loss = 0.0017, Avg val loss = 0.0776, Time = 5.13s\n",
            "Epoch = 6, Avg Train Loss = 0.0017, Avg val loss = 0.0757, Time = 5.16s\n",
            "Epoch = 7, Avg Train Loss = 0.0016, Avg val loss = 0.0751, Time = 5.23s\n",
            "Epoch = 8, Avg Train Loss = 0.0016, Avg val loss = 0.0755, Time = 5.06s\n",
            "Epoch = 9, Avg Train Loss = 0.0016, Avg val loss = 0.0743, Time = 5.12s\n",
            "Epoch = 10, Avg Train Loss = 0.0015, Avg val loss = 0.0732, Time = 6.25s\n",
            "Epoch = 11, Avg Train Loss = 0.0016, Avg val loss = 0.0733, Time = 5.12s\n",
            "Epoch = 12, Avg Train Loss = 0.0015, Avg val loss = 0.0725, Time = 5.22s\n",
            "Epoch = 13, Avg Train Loss = 0.0015, Avg val loss = 0.0743, Time = 5.19s\n",
            "Epoch = 14, Avg Train Loss = 0.0015, Avg val loss = 0.0729, Time = 5.14s\n",
            "Epoch = 15, Avg Train Loss = 0.0015, Avg val loss = 0.0757, Time = 5.18s\n",
            "Epoch = 16, Avg Train Loss = 0.0015, Avg val loss = 0.0719, Time = 5.14s\n",
            "Epoch = 17, Avg Train Loss = 0.0015, Avg val loss = 0.0752, Time = 5.14s\n",
            "Epoch = 18, Avg Train Loss = 0.0015, Avg val loss = 0.0711, Time = 5.17s\n",
            "Epoch = 19, Avg Train Loss = 0.0015, Avg val loss = 0.0720, Time = 6.13s\n",
            "Epoch = 20, Avg Train Loss = 0.0015, Avg val loss = 0.0750, Time = 5.14s\n",
            "Epoch = 21, Avg Train Loss = 0.0015, Avg val loss = 0.0710, Time = 5.16s\n",
            "Epoch = 22, Avg Train Loss = 0.0015, Avg val loss = 0.0720, Time = 5.17s\n",
            "Epoch = 23, Avg Train Loss = 0.0015, Avg val loss = 0.0716, Time = 5.18s\n",
            "Epoch = 24, Avg Train Loss = 0.0015, Avg val loss = 0.0748, Time = 5.19s\n",
            "Epoch = 25, Avg Train Loss = 0.0014, Avg val loss = 0.0711, Time = 5.20s\n",
            "Epoch = 26, Avg Train Loss = 0.0014, Avg val loss = 0.0713, Time = 5.16s\n",
            "Epoch = 27, Avg Train Loss = 0.0014, Avg val loss = 0.0726, Time = 5.20s\n",
            "Epoch = 28, Avg Train Loss = 0.0014, Avg val loss = 0.0721, Time = 5.20s\n",
            "Epoch = 29, Avg Train Loss = 0.0014, Avg val loss = 0.0696, Time = 5.19s\n",
            "Epoch = 30, Avg Train Loss = 0.0014, Avg val loss = 0.0703, Time = 5.16s\n",
            "Epoch = 31, Avg Train Loss = 0.0014, Avg val loss = 0.0699, Time = 5.15s\n",
            "Epoch = 32, Avg Train Loss = 0.0014, Avg val loss = 0.0697, Time = 5.17s\n",
            "Epoch = 33, Avg Train Loss = 0.0014, Avg val loss = 0.0717, Time = 5.17s\n",
            "Epoch = 34, Avg Train Loss = 0.0014, Avg val loss = 0.0690, Time = 5.20s\n",
            "Epoch = 35, Avg Train Loss = 0.0015, Avg val loss = 0.0693, Time = 5.20s\n",
            "Epoch = 36, Avg Train Loss = 0.0014, Avg val loss = 0.0727, Time = 5.17s\n",
            "Epoch = 37, Avg Train Loss = 0.0014, Avg val loss = 0.0767, Time = 5.10s\n",
            "Epoch = 38, Avg Train Loss = 0.0014, Avg val loss = 0.0718, Time = 5.24s\n",
            "Epoch = 39, Avg Train Loss = 0.0014, Avg val loss = 0.0744, Time = 6.11s\n",
            "Epoch = 40, Avg Train Loss = 0.0014, Avg val loss = 0.0729, Time = 5.21s\n",
            "Epoch = 41, Avg Train Loss = 0.0014, Avg val loss = 0.0752, Time = 5.24s\n",
            "Epoch = 42, Avg Train Loss = 0.0014, Avg val loss = 0.0749, Time = 5.18s\n",
            "Epoch = 43, Avg Train Loss = 0.0014, Avg val loss = 0.0718, Time = 5.21s\n",
            "Epoch = 44, Avg Train Loss = 0.0014, Avg val loss = 0.0710, Time = 5.22s\n",
            "Epoch = 45, Avg Train Loss = 0.0014, Avg val loss = 0.0724, Time = 5.15s\n",
            "Epoch = 46, Avg Train Loss = 0.0014, Avg val loss = 0.0729, Time = 6.11s\n",
            "Epoch = 47, Avg Train Loss = 0.0014, Avg val loss = 0.0725, Time = 5.15s\n",
            "Epoch = 48, Avg Train Loss = 0.0014, Avg val loss = 0.0695, Time = 5.11s\n",
            "Epoch = 49, Avg Train Loss = 0.0015, Avg val loss = 0.0711, Time = 5.16s\n"
          ]
        }
      ]
    },
    {
      "cell_type": "markdown",
      "metadata": {
        "id": "gwqxW33cifrd"
      },
      "source": [
        "## Метрики\n",
        "\n",
        "Можно использовать как классические мультиклассификационнные метрики, так и метрики специально для NER.\n",
        "\n",
        "Например, число точных и частичных совпадений спанов, пропущшенных и лишних спанов."
      ]
    },
    {
      "cell_type": "code",
      "metadata": {
        "id": "KgjCy2C6JdLg"
      },
      "source": [
        "def get_spans(labels, tokens):\n",
        "    spans = []\n",
        "    for i, label in enumerate(labels):\n",
        "        if label == 1:\n",
        "            spans.append((tokens[i].start, tokens[i].stop, \"PER\"))\n",
        "        elif label == 2:\n",
        "            spans[-1] = (spans[-1][0], tokens[i].stop, spans[-1][-1])\n",
        "    return spans\n",
        "\n",
        "\n",
        "def calc_metrics(true_labels, predicted_labels, samples):\n",
        "    one_tp = 0\n",
        "    one_fp = 0\n",
        "    one_fn = 0\n",
        "    for true, predicted in zip(true_labels, predicted_labels):\n",
        "        for l1, l2 in zip(true, predicted):\n",
        "            if l1 == 1 and l2 == 1:\n",
        "                one_tp += 1\n",
        "            elif l1 != 1 and l2 == 1:\n",
        "                one_fp += 1\n",
        "            elif l1 == 1 and l2 !=1:\n",
        "                one_fn += 1\n",
        "    if one_tp + one_fp == 0:\n",
        "        print(\"No positives!\")\n",
        "    else:\n",
        "        print(\"1 Precision: {}, 1 Recall: {}\".format(float(one_tp)/(one_tp + one_fp), float(one_tp)/(one_tp + one_fn)))\n",
        "\n",
        "    exact = 0\n",
        "    partial = 0\n",
        "    missing = 0\n",
        "    spurius = 0\n",
        "    for (true, predicted), sample in zip(zip(true_labels, predicted_labels), samples):\n",
        "        true_spans = get_spans(true, sample.tokens)\n",
        "        predicted_spans = get_spans(predicted, sample.tokens)\n",
        "        for true_span in true_spans:\n",
        "            is_missing = True\n",
        "            for predicted_span in predicted_spans:\n",
        "                if true_span == predicted_span:\n",
        "                    exact += 1\n",
        "                    is_missing = False\n",
        "                    break\n",
        "                ts = true_span[0]\n",
        "                te = true_span[1]\n",
        "                ps = predicted_span[0]\n",
        "                pe = predicted_span[1]\n",
        "                # ts te ps pe\n",
        "                # ps pe ts te\n",
        "                if ts <= te <= ps <= pe or ps <= pe <= ts <= te:\n",
        "                    continue\n",
        "                is_missing = False\n",
        "                partial += 1\n",
        "                break\n",
        "            if is_missing:\n",
        "                missing += 1\n",
        "        for predicted_span in predicted_spans:\n",
        "            is_missing = True\n",
        "            for true_span in true_spans:\n",
        "                if true_span == predicted_span:\n",
        "                    is_missing = False\n",
        "                    break\n",
        "                ts = true_span[0]\n",
        "                te = true_span[1]\n",
        "                ps = predicted_span[0]\n",
        "                pe = predicted_span[1]\n",
        "                if ts <= te <= ps <= pe or ps <= pe <= ts <= te:\n",
        "                    continue\n",
        "                is_missing = False\n",
        "                break\n",
        "            if is_missing:\n",
        "                spurius += 1\n",
        "    print(\"Exact: {}, partial: {}, missing: {}, spurius: {}\".format(exact, partial, missing, spurius))\n",
        "            \n",
        "\n",
        "\n",
        "def predict(model, samples):\n",
        "    model.eval()\n",
        "    true_labels = []\n",
        "    predicted_labels = []\n",
        "    all_indices = []\n",
        "    for _, (indices, batch, batch_labels) in enumerate(get_next_gen_batch(samples)):\n",
        "        logits = model(batch)\n",
        "        plabels = logits.max(dim=2)[1]\n",
        "        # Убираем неконсистентность\n",
        "        for sample_num, sample in enumerate(plabels):\n",
        "            for word_num, label in enumerate(sample):\n",
        "                if label != 2:\n",
        "                    continue\n",
        "                if word_num == 0:\n",
        "                    plabels[sample_num][word_num] = 0\n",
        "                    continue\n",
        "                if sample[word_num - 1] != 1:\n",
        "                    plabels[sample_num][word_num] = 0\n",
        "        true_labels.extend(batch_labels)\n",
        "        predicted_labels.extend(plabels)\n",
        "        all_indices.extend(indices)\n",
        "    samples = [samples[index] for index in all_indices]\n",
        "    calc_metrics(true_labels, predicted_labels, samples)\n",
        "    show_box_markup(samples[0].text, get_spans(predicted_labels[0], samples[0].tokens), palette=palette(PER=BLUE, ORG=RED, LOC=GREEN))"
      ],
      "execution_count": null,
      "outputs": []
    },
    {
      "cell_type": "code",
      "metadata": {
        "id": "aM0F-KrQUX4n",
        "outputId": "a351221d-5e26-44c0-d0b3-3719a62ab219",
        "colab": {
          "base_uri": "https://localhost:8080/",
          "height": 561
        }
      },
      "source": [
        "predict(model, test)"
      ],
      "execution_count": null,
      "outputs": [
        {
          "output_type": "stream",
          "name": "stdout",
          "text": [
            "1 Precision: 0.6549391069012178, 1 Recall: 0.660300136425648\n",
            "Exact: 467, partial: 569, missing: 430, spurius: 258\n"
          ]
        },
        {
          "output_type": "display_data",
          "data": {
            "text/plain": [
              "<IPython.core.display.HTML object>"
            ],
            "text/html": [
              "<div class=\"tex2jax_ignore\" style=\"white-space: pre-wrap\"><span style=\"padding: 2px; border-radius: 4px; border: 1px solid #bbdefb; background: #e3f2fd\">А<span style=\"vertical-align: middle; margin-left: 2px; font-size: 0.7em; color: #64b5f6;\">PER</span></span>.Сердюков передал С.Шойгу &quot;ядерный чемоданчик&quot;\r\n",
              "<span style=\"padding: 2px; border-radius: 4px; border: 1px solid #bbdefb; background: #e3f2fd\">А<span style=\"vertical-align: middle; margin-left: 2px; font-size: 0.7em; color: #64b5f6;\">PER</span></span>.Сердюков передал С.Шойгу &quot;ядерный чемоданчик&quot;\r\n",
              "\r\n",
              "Бывший министр чрезвычайных ситуаций, экс-губернатор Московской области, новый министр обороны России <span style=\"padding: 2px; border-radius: 4px; border: 1px solid #bbdefb; background: #e3f2fd\">Сергей Шойгу<span style=\"vertical-align: middle; margin-left: 2px; font-size: 0.7em; color: #64b5f6;\">PER</span></span> принял у своего предшественника <span style=\"padding: 2px; border-radius: 4px; border: 1px solid #bbdefb; background: #e3f2fd\">Анатолия Сердюкова<span style=\"vertical-align: middle; margin-left: 2px; font-size: 0.7em; color: #64b5f6;\">PER</span></span> управление ядерными силами страны. Об этом РБК сообщила пресс-секретарь главы военного ведомства <span style=\"padding: 2px; border-radius: 4px; border: 1px solid #bbdefb; background: #e3f2fd\">Ирина Ковальчук<span style=\"vertical-align: middle; margin-left: 2px; font-size: 0.7em; color: #64b5f6;\">PER</span></span>.\r\n",
              "\r\n",
              "&quot;С.Шойгу приступил к приему дел и должности министра обороны. В частности, сегодня утром ему переданы все органы военного управления Министерства обороны РФ и устройство связи с боевыми расчетами Ракетных войск стратегического назначения&quot;, - заявила пресс-секретарь. Речь идёт о так называемом &quot;ядерном чемоданчике&quot;.\r\n",
              "\r\n",
              "Накануне президент России <span style=\"padding: 2px; border-radius: 4px; border: 1px solid #bbdefb; background: #e3f2fd\">Владимир Путин<span style=\"vertical-align: middle; margin-left: 2px; font-size: 0.7em; color: #64b5f6;\">PER</span></span> отправил в отставку <span style=\"padding: 2px; border-radius: 4px; border: 1px solid #bbdefb; background: #e3f2fd\">А<span style=\"vertical-align: middle; margin-left: 2px; font-size: 0.7em; color: #64b5f6;\">PER</span></span>.Сердюкова, подчиненные которого оказались замешаны в громком коррупционном скандале, связанном с продажей имущества Минобороны.\r\n",
              "\r\n",
              "Новым главой оборонного ведомства был назначен бывший глава МЧС и губернатор Подмосковья С.Шойгу. Сегодня президент РФ <span style=\"padding: 2px; border-radius: 4px; border: 1px solid #bbdefb; background: #e3f2fd\">Владимир Путин<span style=\"vertical-align: middle; margin-left: 2px; font-size: 0.7em; color: #64b5f6;\">PER</span></span> восстановил министра обороны РФ <span style=\"padding: 2px; border-radius: 4px; border: 1px solid #bbdefb; background: #e3f2fd\">Сергея Шойгу<span style=\"vertical-align: middle; margin-left: 2px; font-size: 0.7em; color: #64b5f6;\">PER</span></span> на военной службе в звании генерала армии.\r\n",
              "\r\n",
              "<span style=\"padding: 2px; border-radius: 4px; border: 1px solid #bbdefb; background: #e3f2fd\">А<span style=\"vertical-align: middle; margin-left: 2px; font-size: 0.7em; color: #64b5f6;\">PER</span></span>.Сердюков возглавлял Минобороны РФ с февраля 2007г. До этого он руководил Федеральной налоговой службой. Его назначение на пост главы оборонного ведомства связывали с необходимостью наведения порядка в сфере финансирования и расходования средств военного бюджета. <span style=\"padding: 2px; border-radius: 4px; border: 1px solid #bbdefb; background: #e3f2fd\">А<span style=\"vertical-align: middle; margin-left: 2px; font-size: 0.7em; color: #64b5f6;\">PER</span></span>.Сердюков стал куратором масштабной реформы Вооруженных сил России.\r\n",
              "\r\n",
              "Сегодня премьер-министр России <span style=\"padding: 2px; border-radius: 4px; border: 1px solid #bbdefb; background: #e3f2fd\">Дмитрий Медведев<span style=\"vertical-align: middle; margin-left: 2px; font-size: 0.7em; color: #64b5f6;\">PER</span></span> назвал ключевые задачи, которые будут стоять перед новым министром в ближайшей перспективе. По словам главы правительства, С.Шойгу необходимо продолжить реформы в армии. Глава кабмина выразил уверенность, что экс-губернатор Подмосковья справится с поставленной задачей. Такое заявление <span style=\"padding: 2px; border-radius: 4px; border: 1px solid #bbdefb; background: #e3f2fd\">Д<span style=\"vertical-align: middle; margin-left: 2px; font-size: 0.7em; color: #64b5f6;\">PER</span></span>.Медведев сделал в ходе состоявшейся в Ханое пресс-конференции.\r\n",
              "\r\n",
              "&quot;Я считаю, что он умелый министр, он сможет этого добиться&quot;, - сказал премьер. Накануне глава кабмина заявил, что <span style=\"padding: 2px; border-radius: 4px; border: 1px solid #bbdefb; background: #e3f2fd\">А<span style=\"vertical-align: middle; margin-left: 2px; font-size: 0.7em; color: #64b5f6;\">PER</span></span>.Сердюков был эффективным министром.\r\n",
              "\r\n",
              "&quot;Мне кажется, что вариант с С.Шойгу - это в настоящий момент оптимальный вариант, потому что у нового министра обороны есть очень хороший министерский опыт&quot;, - добавил <span style=\"padding: 2px; border-radius: 4px; border: 1px solid #bbdefb; background: #e3f2fd\">Д<span style=\"vertical-align: middle; margin-left: 2px; font-size: 0.7em; color: #64b5f6;\">PER</span></span>.Медведев.\r\n",
              "\r\n",
              "Премьер-министр напомнил, что С.Шойгу в своем время создал высокоэффективное Министерство по делам чрезвычайных ситуаций. Помимо этого, новый министр умеет эффективно исполнять поручения, что также важно в новой работе.\r\n",
              "\r\n",
              "&quot;Ему нужно продолжать преобразования, которые были начаты при прежнем министре обороны, и довести их до конца. Это критически важно&quot;, - заключил <span style=\"padding: 2px; border-radius: 4px; border: 1px solid #bbdefb; background: #e3f2fd\">Д<span style=\"vertical-align: middle; margin-left: 2px; font-size: 0.7em; color: #64b5f6;\">PER</span></span>.Медведев.\r\n",
              "</div>"
            ]
          },
          "metadata": {}
        }
      ]
    },
    {
      "cell_type": "markdown",
      "metadata": {
        "id": "5qtZdRbsi7e8"
      },
      "source": [
        "## Контекстная модель: LSTM \n"
      ]
    },
    {
      "cell_type": "code",
      "metadata": {
        "id": "6aJ4m4FIMKB7",
        "outputId": "45a7784f-13a9-4bc4-a94e-c9a1e1e6c484",
        "colab": {
          "base_uri": "https://localhost:8080/"
        }
      },
      "source": [
        "import torch\n",
        "from torch import nn\n",
        "\n",
        "class LstmModel(nn.Module):\n",
        "    def __init__(self, char_set_size, char_embedding_dim=4, classes_count=3, lstm_embedding_dim=8, char_max_seq_len=40):\n",
        "        super().__init__()\n",
        "        \n",
        "        self.embeddings_layer = nn.Embedding(char_set_size, char_embedding_dim)\n",
        "        self.dropout = nn.Dropout(0.4)\n",
        "        self.lstm_layer = nn.LSTM(char_embedding_dim * char_max_seq_len, lstm_embedding_dim // 2, batch_first=True, bidirectional=True)\n",
        "        self.out_layer = nn.Linear(lstm_embedding_dim, classes_count)\n",
        "\n",
        "    def forward(self, inputs):\n",
        "        batch_size = inputs.size(0)\n",
        "        seq_len = inputs.size(1)\n",
        "        projections = self.embeddings_layer.forward(inputs)\n",
        "        projections = projections.reshape(projections.size(0), projections.size(1), -1)\n",
        "        output, _= self.lstm_layer(projections)\n",
        "        output = self.dropout(output)\n",
        "        output = self.out_layer.forward(output)\n",
        "        return output\n",
        "\n",
        "model = LstmModel(len(char_set))\n",
        "train_gen_model(model, train, val, epochs_count=50, early_stopping=False, lr=0.02)"
      ],
      "execution_count": null,
      "outputs": [
        {
          "output_type": "stream",
          "name": "stdout",
          "text": [
            "Trainable params: 6011\n",
            "Epoch = 0, Avg Train Loss = 0.0123, Avg val loss = 0.2192, Time = 5.31s\n",
            "Epoch = 1, Avg Train Loss = 0.0057, Avg val loss = 0.2011, Time = 5.28s\n",
            "Epoch = 2, Avg Train Loss = 0.0054, Avg val loss = 0.2041, Time = 6.14s\n",
            "Epoch = 3, Avg Train Loss = 0.0052, Avg val loss = 0.1938, Time = 5.45s\n",
            "Epoch = 4, Avg Train Loss = 0.0051, Avg val loss = 0.1922, Time = 5.34s\n",
            "Epoch = 5, Avg Train Loss = 0.0049, Avg val loss = 0.1863, Time = 5.28s\n",
            "Epoch = 6, Avg Train Loss = 0.0045, Avg val loss = 0.1745, Time = 5.31s\n",
            "Epoch = 7, Avg Train Loss = 0.0042, Avg val loss = 0.1611, Time = 6.34s\n",
            "Epoch = 8, Avg Train Loss = 0.0040, Avg val loss = 0.1491, Time = 5.39s\n",
            "Epoch = 9, Avg Train Loss = 0.0040, Avg val loss = 0.1464, Time = 5.26s\n",
            "Epoch = 10, Avg Train Loss = 0.0039, Avg val loss = 0.1431, Time = 5.29s\n",
            "Epoch = 11, Avg Train Loss = 0.0039, Avg val loss = 0.1463, Time = 5.30s\n",
            "Epoch = 12, Avg Train Loss = 0.0039, Avg val loss = 0.1388, Time = 5.28s\n",
            "Epoch = 13, Avg Train Loss = 0.0039, Avg val loss = 0.1455, Time = 5.27s\n",
            "Epoch = 14, Avg Train Loss = 0.0038, Avg val loss = 0.1380, Time = 5.29s\n",
            "Epoch = 15, Avg Train Loss = 0.0038, Avg val loss = 0.1401, Time = 6.21s\n",
            "Epoch = 16, Avg Train Loss = 0.0038, Avg val loss = 0.1388, Time = 5.25s\n",
            "Epoch = 17, Avg Train Loss = 0.0038, Avg val loss = 0.1379, Time = 5.24s\n",
            "Epoch = 18, Avg Train Loss = 0.0038, Avg val loss = 0.1458, Time = 5.29s\n",
            "Epoch = 19, Avg Train Loss = 0.0038, Avg val loss = 0.1385, Time = 5.36s\n",
            "Epoch = 20, Avg Train Loss = 0.0037, Avg val loss = 0.1344, Time = 5.30s\n",
            "Epoch = 21, Avg Train Loss = 0.0034, Avg val loss = 0.1144, Time = 5.35s\n",
            "Epoch = 22, Avg Train Loss = 0.0030, Avg val loss = 0.1018, Time = 5.30s\n",
            "Epoch = 23, Avg Train Loss = 0.0028, Avg val loss = 0.0965, Time = 5.39s\n",
            "Epoch = 24, Avg Train Loss = 0.0027, Avg val loss = 0.0942, Time = 5.23s\n",
            "Epoch = 25, Avg Train Loss = 0.0026, Avg val loss = 0.0906, Time = 5.34s\n",
            "Epoch = 26, Avg Train Loss = 0.0025, Avg val loss = 0.0893, Time = 5.22s\n",
            "Epoch = 27, Avg Train Loss = 0.0025, Avg val loss = 0.0931, Time = 5.34s\n",
            "Epoch = 28, Avg Train Loss = 0.0026, Avg val loss = 0.0856, Time = 5.46s\n",
            "Epoch = 29, Avg Train Loss = 0.0025, Avg val loss = 0.0843, Time = 5.25s\n",
            "Epoch = 30, Avg Train Loss = 0.0025, Avg val loss = 0.0829, Time = 5.33s\n",
            "Epoch = 31, Avg Train Loss = 0.0024, Avg val loss = 0.0817, Time = 5.31s\n",
            "Epoch = 32, Avg Train Loss = 0.0024, Avg val loss = 0.0815, Time = 5.31s\n",
            "Epoch = 33, Avg Train Loss = 0.0024, Avg val loss = 0.0813, Time = 5.62s\n",
            "Epoch = 34, Avg Train Loss = 0.0025, Avg val loss = 0.0831, Time = 6.02s\n",
            "Epoch = 35, Avg Train Loss = 0.0023, Avg val loss = 0.0732, Time = 5.32s\n",
            "Epoch = 36, Avg Train Loss = 0.0021, Avg val loss = 0.0668, Time = 5.32s\n",
            "Epoch = 37, Avg Train Loss = 0.0019, Avg val loss = 0.0599, Time = 5.33s\n",
            "Epoch = 38, Avg Train Loss = 0.0017, Avg val loss = 0.0525, Time = 5.26s\n",
            "Epoch = 39, Avg Train Loss = 0.0016, Avg val loss = 0.0490, Time = 5.25s\n",
            "Epoch = 40, Avg Train Loss = 0.0015, Avg val loss = 0.0449, Time = 5.28s\n",
            "Epoch = 41, Avg Train Loss = 0.0014, Avg val loss = 0.0453, Time = 5.31s\n",
            "Epoch = 42, Avg Train Loss = 0.0014, Avg val loss = 0.0431, Time = 6.27s\n",
            "Epoch = 43, Avg Train Loss = 0.0013, Avg val loss = 0.0398, Time = 5.27s\n",
            "Epoch = 44, Avg Train Loss = 0.0013, Avg val loss = 0.0409, Time = 5.18s\n",
            "Epoch = 45, Avg Train Loss = 0.0013, Avg val loss = 0.0408, Time = 5.23s\n",
            "Epoch = 46, Avg Train Loss = 0.0013, Avg val loss = 0.0398, Time = 5.26s\n",
            "Epoch = 47, Avg Train Loss = 0.0013, Avg val loss = 0.0400, Time = 5.30s\n",
            "Epoch = 48, Avg Train Loss = 0.0012, Avg val loss = 0.0353, Time = 5.23s\n",
            "Epoch = 49, Avg Train Loss = 0.0012, Avg val loss = 0.0332, Time = 5.28s\n"
          ]
        }
      ]
    },
    {
      "cell_type": "code",
      "metadata": {
        "id": "ifCu8FlKHvBT",
        "outputId": "0c0d4689-0a69-4118-f67b-605be0ec9bf2",
        "colab": {
          "base_uri": "https://localhost:8080/",
          "height": 323
        }
      },
      "source": [
        "  predict(model, test)"
      ],
      "execution_count": null,
      "outputs": [
        {
          "output_type": "stream",
          "name": "stdout",
          "text": [
            "1 Precision: 0.8445945945945946, 1 Recall: 0.767394270122783\n",
            "Exact: 810, partial: 366, missing: 290, spurius: 127\n"
          ]
        },
        {
          "output_type": "display_data",
          "data": {
            "text/plain": [
              "<IPython.core.display.HTML object>"
            ],
            "text/html": [
              "<div class=\"tex2jax_ignore\" style=\"white-space: pre-wrap\">Региональное отделение &quot;Народного фронта&quot; создано в Томской области\r\n",
              " Региональное отделение общероссийского общественного движения &quot;Народный фронт &quot;За Россию&quot; создано в Томске, его сопредседателями стали три человека.\r\n",
              "\r\n",
              "Согласно решению участников конференции сопредседателями регионального штаба фронта избраны <span style=\"padding: 2px; border-radius: 4px; border: 1px solid #bbdefb; background: #e3f2fd\">Елена Петрова<span style=\"vertical-align: middle; margin-left: 2px; font-size: 0.7em; color: #64b5f6;\">PER</span></span>, руководитель благотворительного фонда имени <span style=\"padding: 2px; border-radius: 4px; border: 1px solid #bbdefb; background: #e3f2fd\">Алены Петровой<span style=\"vertical-align: middle; margin-left: 2px; font-size: 0.7em; color: #64b5f6;\">PER</span></span>, помогающего детям с онкозаболеваниями, директор медицинского объединения &quot;Здоровье&quot; <span style=\"padding: 2px; border-radius: 4px; border: 1px solid #bbdefb; background: #e3f2fd\">Татьяна Соломатина<span style=\"vertical-align: middle; margin-left: 2px; font-size: 0.7em; color: #64b5f6;\">PER</span></span> и областной депутат, президент Томской торгово-промышленной палаты <span style=\"padding: 2px; border-radius: 4px; border: 1px solid #bbdefb; background: #e3f2fd\">Аркадий Эксин<span style=\"vertical-align: middle; margin-left: 2px; font-size: 0.7em; color: #64b5f6;\">PER</span></span>.\r\n",
              "\r\n",
              "Председателем ревизионной комиссии стал завкафедрой оперативной хирургии Сибирского государственного медуниверситета, создатель и директор единственного в России института реконструктивной и пластической хирургии <span style=\"padding: 2px; border-radius: 4px; border: 1px solid #bbdefb; background: #e3f2fd\">Владимир Байтингер<span style=\"vertical-align: middle; margin-left: 2px; font-size: 0.7em; color: #64b5f6;\">PER</span></span>.\r\n",
              "\r\n",
              "Решение о создании движения &quot;Народный фронт &quot;За Россию&quot; было принято на учредительном съезде в День России, 12 июня, на базе Общероссийского народного фронта (ОНФ). Лидером был избран президент РФ <span style=\"padding: 2px; border-radius: 4px; border: 1px solid #bbdefb; background: #e3f2fd\">Владимир Путин<span style=\"vertical-align: middle; margin-left: 2px; font-size: 0.7em; color: #64b5f6;\">PER</span></span>. В состав центрального штаба вошли более 50 человек — режиссер <span style=\"padding: 2px; border-radius: 4px; border: 1px solid #bbdefb; background: #e3f2fd\">Станислав Говорухин<span style=\"vertical-align: middle; margin-left: 2px; font-size: 0.7em; color: #64b5f6;\">PER</span></span>, депутат Госдумы <span style=\"padding: 2px; border-radius: 4px; border: 1px solid #bbdefb; background: #e3f2fd\">Ольга Тимофеева<span style=\"vertical-align: middle; margin-left: 2px; font-size: 0.7em; color: #64b5f6;\">PER</span></span> и сопредседатель &quot;Деловой России&quot; <span style=\"padding: 2px; border-radius: 4px; border: 1px solid #bbdefb; background: #e3f2fd\">Александр Галушка<span style=\"vertical-align: middle; margin-left: 2px; font-size: 0.7em; color: #64b5f6;\">PER</span></span>.\r\n",
              "\r\n",
              "В начале июля сообщалось, что &quot;Народный фронт &quot;За Россию&quot; приступает к созданию региональных отделений движения и планирует за два месяца открыть около 50 отделений. Это необходимо для регистрации организации в Минюсте.</div>"
            ]
          },
          "metadata": {}
        }
      ]
    },
    {
      "cell_type": "markdown",
      "metadata": {
        "id": "olMklIKEjCR7"
      },
      "source": [
        "## Контекстная модель: LSTM над CharFF"
      ]
    },
    {
      "cell_type": "markdown",
      "metadata": {
        "id": "cTgm-B_eldMm"
      },
      "source": [
        "полносвзяный слой с активацией над конкатенацией символьных эмбедов"
      ]
    },
    {
      "cell_type": "code",
      "metadata": {
        "id": "-2ujztBqZYXT",
        "outputId": "c41a8a32-054c-4d2d-8c87-d97abff600aa",
        "colab": {
          "base_uri": "https://localhost:8080/"
        }
      },
      "source": [
        "from torch import nn\n",
        "\n",
        "class CharFFLstmModel(nn.Module):\n",
        "    def __init__(self, char_set_size, char_embedding_dim=4, classes_count=3, word_embedding_dim=16, lstm_embedding_dim=16, char_max_seq_len=40):\n",
        "        super().__init__()\n",
        "        \n",
        "        self.embeddings_layer = nn.Embedding(char_set_size, char_embedding_dim)\n",
        "        self.dropout = nn.Dropout(0.3)\n",
        "        self.linear = nn.Linear(char_embedding_dim * char_max_seq_len, word_embedding_dim)\n",
        "        self.relu = nn.ReLU()\n",
        "        self.lstm_layer = nn.LSTM(word_embedding_dim, lstm_embedding_dim // 2, batch_first=True, bidirectional=True)\n",
        "        self.out_layer = nn.Linear(lstm_embedding_dim, classes_count)\n",
        "\n",
        "    def forward(self, inputs):\n",
        "        projections = self.embeddings_layer.forward(inputs)\n",
        "        projections = projections.reshape(projections.size(0), projections.size(1), -1)\n",
        "        projections = self.relu(self.linear(projections))\n",
        "        projections = self.dropout(projections)\n",
        "        output, _= self.lstm_layer(projections)\n",
        "        output = self.dropout(output)\n",
        "        output = self.out_layer.forward(output)\n",
        "        return output\n",
        "\n",
        "model = CharFFLstmModel(len(char_set))\n",
        "train_gen_model(model, train, val, epochs_count=50, early_stopping=False, lr=0.03)"
      ],
      "execution_count": null,
      "outputs": [
        {
          "output_type": "stream",
          "name": "stdout",
          "text": [
            "Trainable params: 4963\n",
            "Epoch = 0, Avg Train Loss = 0.0065, Avg val loss = 0.1987, Time = 6.36s\n",
            "Epoch = 1, Avg Train Loss = 0.0048, Avg val loss = 0.1988, Time = 5.26s\n",
            "Epoch = 2, Avg Train Loss = 0.0047, Avg val loss = 0.1956, Time = 5.29s\n",
            "Epoch = 3, Avg Train Loss = 0.0047, Avg val loss = 0.1946, Time = 5.26s\n",
            "Epoch = 4, Avg Train Loss = 0.0046, Avg val loss = 0.1968, Time = 5.25s\n",
            "Epoch = 5, Avg Train Loss = 0.0043, Avg val loss = 0.1778, Time = 5.31s\n",
            "Epoch = 6, Avg Train Loss = 0.0032, Avg val loss = 0.1118, Time = 5.25s\n",
            "Epoch = 7, Avg Train Loss = 0.0023, Avg val loss = 0.0905, Time = 5.25s\n",
            "Epoch = 8, Avg Train Loss = 0.0020, Avg val loss = 0.0819, Time = 5.27s\n",
            "Epoch = 9, Avg Train Loss = 0.0018, Avg val loss = 0.0730, Time = 6.15s\n",
            "Epoch = 10, Avg Train Loss = 0.0015, Avg val loss = 0.0497, Time = 5.30s\n",
            "Epoch = 11, Avg Train Loss = 0.0012, Avg val loss = 0.0430, Time = 5.35s\n",
            "Epoch = 12, Avg Train Loss = 0.0011, Avg val loss = 0.0387, Time = 5.26s\n",
            "Epoch = 13, Avg Train Loss = 0.0010, Avg val loss = 0.0351, Time = 5.27s\n",
            "Epoch = 14, Avg Train Loss = 0.0010, Avg val loss = 0.0350, Time = 5.29s\n",
            "Epoch = 15, Avg Train Loss = 0.0010, Avg val loss = 0.0367, Time = 5.24s\n",
            "Epoch = 16, Avg Train Loss = 0.0009, Avg val loss = 0.0373, Time = 5.30s\n",
            "Epoch = 17, Avg Train Loss = 0.0009, Avg val loss = 0.0346, Time = 5.27s\n",
            "Epoch = 18, Avg Train Loss = 0.0008, Avg val loss = 0.0333, Time = 5.24s\n",
            "Epoch = 19, Avg Train Loss = 0.0008, Avg val loss = 0.0319, Time = 5.28s\n",
            "Epoch = 20, Avg Train Loss = 0.0008, Avg val loss = 0.0322, Time = 5.25s\n",
            "Epoch = 21, Avg Train Loss = 0.0008, Avg val loss = 0.0300, Time = 5.29s\n",
            "Epoch = 22, Avg Train Loss = 0.0008, Avg val loss = 0.0288, Time = 5.29s\n",
            "Epoch = 23, Avg Train Loss = 0.0008, Avg val loss = 0.0286, Time = 5.33s\n",
            "Epoch = 24, Avg Train Loss = 0.0007, Avg val loss = 0.0282, Time = 5.27s\n",
            "Epoch = 25, Avg Train Loss = 0.0007, Avg val loss = 0.0285, Time = 5.32s\n",
            "Epoch = 26, Avg Train Loss = 0.0007, Avg val loss = 0.0275, Time = 6.33s\n",
            "Epoch = 27, Avg Train Loss = 0.0007, Avg val loss = 0.0305, Time = 5.24s\n",
            "Epoch = 28, Avg Train Loss = 0.0007, Avg val loss = 0.0286, Time = 5.35s\n",
            "Epoch = 29, Avg Train Loss = 0.0007, Avg val loss = 0.0291, Time = 5.24s\n",
            "Epoch = 30, Avg Train Loss = 0.0007, Avg val loss = 0.0301, Time = 5.26s\n",
            "Epoch = 31, Avg Train Loss = 0.0007, Avg val loss = 0.0293, Time = 5.22s\n",
            "Epoch = 32, Avg Train Loss = 0.0007, Avg val loss = 0.0276, Time = 6.20s\n",
            "Epoch = 33, Avg Train Loss = 0.0007, Avg val loss = 0.0274, Time = 5.25s\n",
            "Epoch = 34, Avg Train Loss = 0.0006, Avg val loss = 0.0275, Time = 5.31s\n",
            "Epoch = 35, Avg Train Loss = 0.0007, Avg val loss = 0.0288, Time = 6.13s\n",
            "Epoch = 36, Avg Train Loss = 0.0006, Avg val loss = 0.0268, Time = 5.35s\n",
            "Epoch = 37, Avg Train Loss = 0.0007, Avg val loss = 0.0255, Time = 5.25s\n",
            "Epoch = 38, Avg Train Loss = 0.0007, Avg val loss = 0.0283, Time = 5.29s\n",
            "Epoch = 39, Avg Train Loss = 0.0006, Avg val loss = 0.0287, Time = 5.30s\n",
            "Epoch = 40, Avg Train Loss = 0.0006, Avg val loss = 0.0289, Time = 5.31s\n",
            "Epoch = 41, Avg Train Loss = 0.0006, Avg val loss = 0.0279, Time = 5.30s\n",
            "Epoch = 42, Avg Train Loss = 0.0006, Avg val loss = 0.0284, Time = 5.18s\n",
            "Epoch = 43, Avg Train Loss = 0.0006, Avg val loss = 0.0290, Time = 5.24s\n",
            "Epoch = 44, Avg Train Loss = 0.0006, Avg val loss = 0.0268, Time = 5.26s\n",
            "Epoch = 45, Avg Train Loss = 0.0006, Avg val loss = 0.0267, Time = 5.30s\n",
            "Epoch = 46, Avg Train Loss = 0.0006, Avg val loss = 0.0278, Time = 5.27s\n",
            "Epoch = 47, Avg Train Loss = 0.0006, Avg val loss = 0.0276, Time = 5.26s\n",
            "Epoch = 48, Avg Train Loss = 0.0006, Avg val loss = 0.0286, Time = 5.25s\n",
            "Epoch = 49, Avg Train Loss = 0.0006, Avg val loss = 0.0283, Time = 5.23s\n"
          ]
        }
      ]
    },
    {
      "cell_type": "code",
      "metadata": {
        "id": "J2zXKkvFbeQo",
        "outputId": "6b660372-9b14-40f3-e928-2a9eec925498",
        "colab": {
          "base_uri": "https://localhost:8080/",
          "height": 442
        }
      },
      "source": [
        "predict(model, test)"
      ],
      "execution_count": null,
      "outputs": [
        {
          "output_type": "stream",
          "name": "stdout",
          "text": [
            "1 Precision: 0.9060955518945635, 1 Recall: 0.7503410641200545\n",
            "Exact: 826, partial: 298, missing: 342, spurius: 89\n"
          ]
        },
        {
          "output_type": "display_data",
          "data": {
            "text/plain": [
              "<IPython.core.display.HTML object>"
            ],
            "text/html": [
              "<div class=\"tex2jax_ignore\" style=\"white-space: pre-wrap\"><span style=\"padding: 2px; border-radius: 4px; border: 1px solid #bbdefb; background: #e3f2fd\">С.<span style=\"vertical-align: middle; margin-left: 2px; font-size: 0.7em; color: #64b5f6;\">PER</span></span>Богданчикову предложили стать министром\r\n",
              "\r\n",
              "Уже ближайшей осенью под давлением нефтяников может смениться министр энергетики России, пишет &quot;РБК daily&quot;.\r\n",
              "\r\n",
              "Как рассказал источник издания в одной из нефтяных компаний, нефтяники недовольны тем, что <span style=\"padding: 2px; border-radius: 4px; border: 1px solid #bbdefb; background: #e3f2fd\">С.<span style=\"vertical-align: middle; margin-left: 2px; font-size: 0.7em; color: #64b5f6;\">PER</span></span>Шматко фактически не решает ключевые вопросы подконтрольной ему отрасли. По мнению нефтяников, министр выполняет лишь представительские функции, но не принимает участия в реальном решении проблем отрасли, а все серьезные проблемы решаются на совещаниях у премьер-министра <span style=\"padding: 2px; border-radius: 4px; border: 1px solid #bbdefb; background: #e3f2fd\">Владимира Путина<span style=\"vertical-align: middle; margin-left: 2px; font-size: 0.7em; color: #64b5f6;\">PER</span></span>, его заместителя <span style=\"padding: 2px; border-radius: 4px; border: 1px solid #bbdefb; background: #e3f2fd\">Игоря Сечина<span style=\"vertical-align: middle; margin-left: 2px; font-size: 0.7em; color: #64b5f6;\">PER</span></span> или рассматриваются лично президентом <span style=\"padding: 2px; border-radius: 4px; border: 1px solid #bbdefb; background: #e3f2fd\">Дмитрием Медведевым<span style=\"vertical-align: middle; margin-left: 2px; font-size: 0.7em; color: #64b5f6;\">PER</span></span>.\r\n",
              "\r\n",
              "В правительстве и администрации президента уже заняты поиском нового министра. Одним из первых предложение возглавить Минэнерго получил глава ЛУКОЙЛа <span style=\"padding: 2px; border-radius: 4px; border: 1px solid #bbdefb; background: #e3f2fd\">Вагит Алекперов<span style=\"vertical-align: middle; margin-left: 2px; font-size: 0.7em; color: #64b5f6;\">PER</span></span>, рассказал источник в правительстве. Но <span style=\"padding: 2px; border-radius: 4px; border: 1px solid #bbdefb; background: #e3f2fd\">В.<span style=\"vertical-align: middle; margin-left: 2px; font-size: 0.7em; color: #64b5f6;\">PER</span></span>Алекперов отказался, не желая жертвовать оперативным управлением своей компанией.\r\n",
              "\r\n",
              "Аналогичное предложение президент России сделал и президенту &quot;Роснефти&quot; <span style=\"padding: 2px; border-radius: 4px; border: 1px solid #bbdefb; background: #e3f2fd\">Сергею Богданчикову<span style=\"vertical-align: middle; margin-left: 2px; font-size: 0.7em; color: #64b5f6;\">PER</span></span>. По словам источников, в окружении <span style=\"padding: 2px; border-radius: 4px; border: 1px solid #bbdefb; background: #e3f2fd\">Д.<span style=\"vertical-align: middle; margin-left: 2px; font-size: 0.7em; color: #64b5f6;\">PER</span></span>Медведева недовольны тем, что <span style=\"padding: 2px; border-radius: 4px; border: 1px solid #bbdefb; background: #e3f2fd\">И.<span style=\"vertical-align: middle; margin-left: 2px; font-size: 0.7em; color: #64b5f6;\">PER</span></span>Сечин &quot;замкнул&quot; весь ТЭК на себе, и хотят назначить на пост министра лояльного президенту человека.\r\n",
              "\r\n",
              "В этой связи издание отмечает, что с июля <span style=\"padding: 2px; border-radius: 4px; border: 1px solid #bbdefb; background: #e3f2fd\">С.<span style=\"vertical-align: middle; margin-left: 2px; font-size: 0.7em; color: #64b5f6;\">PER</span></span>Богданчиков является исполняющим обязанности президента компании, контракт с ним не продлен.\r\n",
              "\r\n",
              "По словам другого источника, наиболее вероятный кандидат на министерский пост - экс-глава &quot;Стройтрансгаза&quot; <span style=\"padding: 2px; border-radius: 4px; border: 1px solid #bbdefb; background: #e3f2fd\">Александр Рязанов<span style=\"vertical-align: middle; margin-left: 2px; font-size: 0.7em; color: #64b5f6;\">PER</span></span>.\r\n",
              "\r\n",
              "&quot;Уход <span style=\"padding: 2px; border-radius: 4px; border: 1px solid #bbdefb; background: #e3f2fd\">Сергея Шматко<span style=\"vertical-align: middle; margin-left: 2px; font-size: 0.7em; color: #64b5f6;\">PER</span></span> - это удар по <span style=\"padding: 2px; border-radius: 4px; border: 1px solid #bbdefb; background: #e3f2fd\">Игорю Сечину<span style=\"vertical-align: middle; margin-left: 2px; font-size: 0.7em; color: #64b5f6;\">PER</span></span>, который лоббировал его назначение&quot;, - считают аналитики. &quot;<span style=\"padding: 2px; border-radius: 4px; border: 1px solid #bbdefb; background: #e3f2fd\">Игорь Сечин<span style=\"vertical-align: middle; margin-left: 2px; font-size: 0.7em; color: #64b5f6;\">PER</span></span> не ладит с <span style=\"padding: 2px; border-radius: 4px; border: 1px solid #bbdefb; background: #e3f2fd\">Сергеем Богданчиковым<span style=\"vertical-align: middle; margin-left: 2px; font-size: 0.7em; color: #64b5f6;\">PER</span></span>, а у <span style=\"padding: 2px; border-radius: 4px; border: 1px solid #bbdefb; background: #e3f2fd\">Александра Рязанова<span style=\"vertical-align: middle; margin-left: 2px; font-size: 0.7em; color: #64b5f6;\">PER</span></span> сложные отношения с &quot;Газпромом&quot;. Даже если кто-то из них займет это место, то долго продержаться не сможет&quot;, - уверен эксперт Центра политической конъюнктуры <span style=\"padding: 2px; border-radius: 4px; border: 1px solid #bbdefb; background: #e3f2fd\">Дмитрий Абзалов<span style=\"vertical-align: middle; margin-left: 2px; font-size: 0.7em; color: #64b5f6;\">PER</span></span>.\r\n",
              "\r\n",
              "26 августа 2010г. </div>"
            ]
          },
          "metadata": {}
        }
      ]
    },
    {
      "cell_type": "code",
      "source": [],
      "metadata": {
        "id": "u3KfoG5M8tan"
      },
      "execution_count": null,
      "outputs": []
    }
  ]
}