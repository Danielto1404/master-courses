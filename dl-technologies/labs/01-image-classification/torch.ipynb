{
 "cells": [
  {
   "cell_type": "code",
   "execution_count": 1,
   "id": "2bb4ec97-ee25-4e4f-8af6-cd666a749329",
   "metadata": {},
   "outputs": [],
   "source": [
    "import typing as tp\n",
    "\n",
    "import matplotlib.pyplot as plt\n",
    "import torch\n",
    "import torch.nn as nn\n",
    "import torch.optim as to\n",
    "import torch.utils.data as td\n",
    "import torchvision as tv\n",
    "import tqdm\n",
    "from sklearn.metrics import f1_score, precision_score, recall_score"
   ]
  },
  {
   "cell_type": "code",
   "execution_count": 2,
   "id": "4c312b5b-3a58-4998-9586-f8066bb19cf9",
   "metadata": {},
   "outputs": [],
   "source": [
    "train_transform = tv.transforms.Compose([\n",
    "    tv.transforms.ToTensor(),\n",
    "    tv.transforms.RandomHorizontalFlip(p=0.5),\n",
    "    tv.transforms.Resize((256, 256)),\n",
    "    tv.transforms.Normalize([0.485, 0.456, 0.406], [0.229, 0.224, 0.225])\n",
    "])\n",
    "\n",
    "valid_transform = tv.transforms.Compose([\n",
    "    tv.transforms.ToTensor(),\n",
    "    tv.transforms.Resize((256, 256)),\n",
    "    tv.transforms.Normalize([0.485, 0.456, 0.406], [0.229, 0.224, 0.225])\n",
    "])\n",
    "\n",
    "train_ds = tv.datasets.ImageFolder(\"car_data/car_data/train/\", transform=train_transform)\n",
    "valid_ds = tv.datasets.ImageFolder(\"car_data/car_data/test/\", transform=valid_transform)"
   ]
  },
  {
   "cell_type": "code",
   "execution_count": 3,
   "id": "af293916-7d6b-42f1-8c20-195d2faf911e",
   "metadata": {},
   "outputs": [],
   "source": [
    "class AlexNet(nn.Module):\n",
    "    def __init__(self, num_classes: int = 1000, dropout: float = 0.5) -> None:\n",
    "        super().__init__()\n",
    "        self.features = nn.Sequential(\n",
    "            nn.Conv2d(3, 64, kernel_size=11, stride=4, padding=2),\n",
    "            nn.ReLU(inplace=True),\n",
    "            nn.MaxPool2d(kernel_size=3, stride=2),\n",
    "            nn.Conv2d(64, 192, kernel_size=5, padding=2),\n",
    "            nn.ReLU(inplace=True),\n",
    "            nn.MaxPool2d(kernel_size=3, stride=2),\n",
    "            nn.Conv2d(192, 384, kernel_size=3, padding=1),\n",
    "            nn.ReLU(inplace=True),\n",
    "            nn.Conv2d(384, 256, kernel_size=3, padding=1),\n",
    "            nn.ReLU(inplace=True),\n",
    "            nn.Conv2d(256, 256, kernel_size=3, padding=1),\n",
    "            nn.ReLU(inplace=True),\n",
    "            nn.MaxPool2d(kernel_size=3, stride=2),\n",
    "        )\n",
    "        self.avgpool = nn.AdaptiveAvgPool2d((6, 6))\n",
    "        self.classifier = nn.Sequential(\n",
    "            nn.Dropout(p=dropout),\n",
    "            nn.Linear(256 * 6 * 6, 4096),\n",
    "            nn.ReLU(inplace=True),\n",
    "            nn.Dropout(p=dropout),\n",
    "            nn.Linear(4096, 4096),\n",
    "            nn.ReLU(inplace=True),\n",
    "            nn.Linear(4096, num_classes),\n",
    "        )\n",
    "\n",
    "    def forward(self, x: torch.Tensor) -> torch.Tensor:\n",
    "        x = self.features(x)\n",
    "        x = self.avgpool(x)\n",
    "        x = torch.flatten(x, 1)\n",
    "        x = self.classifier(x)\n",
    "        return x"
   ]
  },
  {
   "cell_type": "code",
   "execution_count": 4,
   "id": "32bae7bb-0c82-4025-8288-596fac9d186d",
   "metadata": {},
   "outputs": [],
   "source": [
    "@torch.no_grad()\n",
    "def evaluate(\n",
    "        classifier: nn.Module,\n",
    "        criterion: tp.Callable[[torch.Tensor, torch.Tensor], torch.Tensor],\n",
    "        loader: td.DataLoader,\n",
    "        device: str = \"cuda:0\"\n",
    ") -> float:\n",
    "    classifier.eval()\n",
    "    loss = 0\n",
    "    progress = tqdm.tqdm(loader, desc=\"validation\")\n",
    "\n",
    "    for images, classes in progress:\n",
    "        logits = classifier(images.to(device))\n",
    "        l_val = criterion(logits, classes.to(device)).cpu().item()\n",
    "        loss += l_val\n",
    "\n",
    "        progress.set_postfix_str(f\"loss={l_val:.5f}\")\n",
    "\n",
    "    return loss / len(loader)\n",
    "\n",
    "\n",
    "def train(\n",
    "        classifier: nn.Module,\n",
    "        criterion: tp.Callable[[torch.Tensor, torch.Tensor], torch.Tensor],\n",
    "        loader: td.DataLoader,\n",
    "        optimizer: to.Optimizer,\n",
    "        device: str = \"cuda:0\"\n",
    ") -> float:\n",
    "    classifier.train()\n",
    "    loss_value = 0\n",
    "    progress = tqdm.tqdm(loader, desc=\"training\")\n",
    "\n",
    "    for images, classes in progress:\n",
    "        optimizer.zero_grad()\n",
    "        logits = classifier(images.to(device))\n",
    "        loss = criterion(logits, classes.to(device))\n",
    "        l_val = loss.detach().cpu().item()\n",
    "\n",
    "        loss.backward()\n",
    "        optimizer.step()\n",
    "\n",
    "        loss_value += l_val\n",
    "        progress.set_postfix_str(f\"loss={l_val:.5f}\")\n",
    "\n",
    "    return loss_value / len(loader)"
   ]
  },
  {
   "cell_type": "code",
   "execution_count": 5,
   "id": "724b3050-6784-4c73-8097-5836c73ccdad",
   "metadata": {},
   "outputs": [
    {
     "data": {
      "text/plain": [
       "(196, 196)"
      ]
     },
     "execution_count": 5,
     "metadata": {},
     "output_type": "execute_result"
    }
   ],
   "source": [
    "len(valid_ds.classes), len(train_ds.classes)"
   ]
  },
  {
   "cell_type": "code",
   "execution_count": 6,
   "id": "60858b7d-94dd-4f05-9f46-90c34f2c7f19",
   "metadata": {},
   "outputs": [],
   "source": [
    "from adasmooth import AdaSmooth\n",
    "\n",
    "DEVICE = \"cuda:0\"\n",
    "EPOCHS = 10\n",
    "BATCH_SZ = 1024\n",
    "CLASSES = 196\n",
    "\n",
    "adam_losses = []\n",
    "adas_losses = []\n",
    "\n",
    "adam_model = AlexNet(num_classes=CLASSES)\n",
    "ada_smooth_model = AlexNet(num_classes=CLASSES)\n",
    "\n",
    "adam_optim = to.Adam(adam_model.parameters(), lr=1e-4)\n",
    "ada_smooth = AdaSmooth(ada_smooth_model.parameters(), lr=1e-4, betas=(0.5, 0.99))\n",
    "\n",
    "criterion = nn.CrossEntropyLoss()\n",
    "\n",
    "train_loader = td.DataLoader(train_ds, batch_size=BATCH_SZ, shuffle=True)\n",
    "valid_loader = td.DataLoader(valid_ds, batch_size=BATCH_SZ, shuffle=False)"
   ]
  },
  {
   "cell_type": "code",
   "execution_count": 7,
   "id": "138f2d6e-7824-4f76-addb-c7fffa18c675",
   "metadata": {},
   "outputs": [
    {
     "name": "stderr",
     "output_type": "stream",
     "text": [
      "training: 100%|██████████████████████████████████████████████████████████████████| 8/8 [02:42<00:00, 20.30s/it, loss=5.22099]\n",
      "validation: 100%|████████████████████████████████████████████████████████████████| 8/8 [02:27<00:00, 18.50s/it, loss=5.24472]\n",
      "training: 100%|██████████████████████████████████████████████████████████████████| 8/8 [02:32<00:00, 19.09s/it, loss=4.92798]\n",
      "validation: 100%|████████████████████████████████████████████████████████████████| 8/8 [02:26<00:00, 18.27s/it, loss=5.03722]\n",
      "training: 100%|██████████████████████████████████████████████████████████████████| 8/8 [02:32<00:00, 19.03s/it, loss=4.25691]\n",
      "validation: 100%|████████████████████████████████████████████████████████████████| 8/8 [02:21<00:00, 17.65s/it, loss=4.40837]\n",
      "training: 100%|██████████████████████████████████████████████████████████████████| 8/8 [02:30<00:00, 18.87s/it, loss=3.52789]\n",
      "validation: 100%|████████████████████████████████████████████████████████████████| 8/8 [02:24<00:00, 18.05s/it, loss=3.98964]\n",
      "training: 100%|██████████████████████████████████████████████████████████████████| 8/8 [02:37<00:00, 19.64s/it, loss=2.93442]\n",
      "validation: 100%|████████████████████████████████████████████████████████████████| 8/8 [02:29<00:00, 18.69s/it, loss=3.52878]\n",
      "training: 100%|██████████████████████████████████████████████████████████████████| 8/8 [02:31<00:00, 18.93s/it, loss=2.44107]\n",
      "validation: 100%|████████████████████████████████████████████████████████████████| 8/8 [02:29<00:00, 18.65s/it, loss=3.30041]\n",
      "training: 100%|██████████████████████████████████████████████████████████████████| 8/8 [02:30<00:00, 18.85s/it, loss=1.89293]\n",
      "validation: 100%|████████████████████████████████████████████████████████████████| 8/8 [02:28<00:00, 18.52s/it, loss=3.03020]\n",
      "training: 100%|██████████████████████████████████████████████████████████████████| 8/8 [02:31<00:00, 18.91s/it, loss=1.51969]\n",
      "validation: 100%|████████████████████████████████████████████████████████████████| 8/8 [02:27<00:00, 18.39s/it, loss=2.97738]\n",
      "training: 100%|██████████████████████████████████████████████████████████████████| 8/8 [02:30<00:00, 18.78s/it, loss=1.26847]\n",
      "validation: 100%|████████████████████████████████████████████████████████████████| 8/8 [02:25<00:00, 18.25s/it, loss=2.93291]\n",
      "training: 100%|██████████████████████████████████████████████████████████████████| 8/8 [02:32<00:00, 19.03s/it, loss=0.90884]\n",
      "validation: 100%|████████████████████████████████████████████████████████████████| 8/8 [02:26<00:00, 18.35s/it, loss=2.94704]"
     ]
    },
    {
     "name": "stdout",
     "output_type": "stream",
     "text": [
      "CPU times: user 1d 7h 39min 37s, sys: 7d 4h 5min 19s, total: 8d 11h 44min 56s\n",
      "Wall time: 49min 58s\n"
     ]
    },
    {
     "name": "stderr",
     "output_type": "stream",
     "text": [
      "\n"
     ]
    }
   ],
   "source": [
    "best = None\n",
    "\n",
    "for e in range(EPOCHS):\n",
    "    train_loss = train(adam_model, criterion, train_loader, adam_optim, DEVICE)\n",
    "    valid_loss = evaluate(adam_model, criterion, valid_loader, DEVICE)\n",
    "    adam_losses.append((train_loss, valid_loss))"
   ]
  },
  {
   "cell_type": "code",
   "execution_count": 8,
   "id": "951c46bf-04f2-4f69-9c7f-bb2f7a406c6a",
   "metadata": {},
   "outputs": [
    {
     "name": "stderr",
     "output_type": "stream",
     "text": [
      "training: 100%|██████████████████████████████████████████████████████████████████| 8/8 [02:30<00:00, 18.85s/it, loss=5.52362]\n",
      "validation: 100%|████████████████████████████████████████████████████████████████| 8/8 [02:26<00:00, 18.25s/it, loss=5.42221]\n",
      "training: 100%|██████████████████████████████████████████████████████████████████| 8/8 [02:31<00:00, 18.90s/it, loss=5.55766]\n",
      "validation: 100%|████████████████████████████████████████████████████████████████| 8/8 [02:28<00:00, 18.55s/it, loss=5.42033]\n",
      "training: 100%|██████████████████████████████████████████████████████████████████| 8/8 [02:31<00:00, 18.90s/it, loss=5.52538]\n",
      "validation: 100%|████████████████████████████████████████████████████████████████| 8/8 [02:28<00:00, 18.55s/it, loss=5.41837]\n",
      "training: 100%|██████████████████████████████████████████████████████████████████| 8/8 [02:31<00:00, 18.91s/it, loss=5.52088]\n",
      "validation: 100%|████████████████████████████████████████████████████████████████| 8/8 [03:55<00:00, 29.40s/it, loss=5.41644]\n",
      "training: 100%|██████████████████████████████████████████████████████████████████| 8/8 [03:42<00:00, 27.85s/it, loss=5.51427]\n",
      "validation: 100%|████████████████████████████████████████████████████████████████| 8/8 [02:25<00:00, 18.16s/it, loss=5.41456]\n",
      "training: 100%|██████████████████████████████████████████████████████████████████| 8/8 [02:29<00:00, 18.75s/it, loss=5.50278]\n",
      "validation: 100%|████████████████████████████████████████████████████████████████| 8/8 [02:20<00:00, 17.51s/it, loss=5.41275]\n",
      "training: 100%|██████████████████████████████████████████████████████████████████| 8/8 [02:19<00:00, 17.46s/it, loss=5.54611]\n",
      "validation: 100%|████████████████████████████████████████████████████████████████| 8/8 [02:15<00:00, 16.94s/it, loss=5.41089]\n",
      "training: 100%|██████████████████████████████████████████████████████████████████| 8/8 [02:21<00:00, 17.64s/it, loss=5.49530]\n",
      "validation: 100%|████████████████████████████████████████████████████████████████| 8/8 [02:21<00:00, 17.69s/it, loss=5.40907]\n",
      "training: 100%|██████████████████████████████████████████████████████████████████| 8/8 [02:24<00:00, 18.05s/it, loss=5.50718]\n",
      "validation: 100%|████████████████████████████████████████████████████████████████| 8/8 [02:13<00:00, 16.68s/it, loss=5.40726]\n",
      "training: 100%|██████████████████████████████████████████████████████████████████| 8/8 [02:21<00:00, 17.67s/it, loss=5.47788]\n",
      "validation: 100%|████████████████████████████████████████████████████████████████| 8/8 [02:17<00:00, 17.18s/it, loss=5.40543]"
     ]
    },
    {
     "name": "stdout",
     "output_type": "stream",
     "text": [
      "CPU times: user 1d 5h 44min 6s, sys: 7d 5min 15s, total: 8d 5h 49min 22s\n",
      "Wall time: 50min 56s\n"
     ]
    },
    {
     "name": "stderr",
     "output_type": "stream",
     "text": [
      "\n"
     ]
    }
   ],
   "source": [
    "best = None\n",
    "\n",
    "for e in range(EPOCHS):\n",
    "    train_loss = train(ada_smooth_model, criterion, train_loader, ada_smooth, DEVICE)\n",
    "    valid_loss = evaluate(ada_smooth_model, criterion, valid_loader, DEVICE)\n",
    "    adas_losses.append((train_loss, valid_loss))"
   ]
  },
  {
   "cell_type": "code",
   "execution_count": 9,
   "id": "438350cf-568c-4a7f-82e1-136bbc44ac22",
   "metadata": {},
   "outputs": [
    {
     "data": {
      "text/plain": [
       "<matplotlib.legend.Legend at 0x7fa83a004f50>"
      ]
     },
     "execution_count": 9,
     "metadata": {},
     "output_type": "execute_result"
    },
    {
     "data": {
      "image/png": "[encoded data removed]",
      "text/plain": [
       "<Figure size 432x288 with 1 Axes>"
      ]
     },
     "metadata": {
      "needs_background": "light"
     },
     "output_type": "display_data"
    }
   ],
   "source": [
    "adam_train_losses = [l[0] for l in adam_losses]\n",
    "adam_valid_losses = [l[1] for l in adam_losses]\n",
    "\n",
    "plt.plot(adam_train_losses, label=\"Adam train\")\n",
    "plt.plot(adam_valid_losses, label=\"Adam valid\")\n",
    "plt.legend()"
   ]
  },
  {
   "cell_type": "code",
   "execution_count": 10,
   "id": "589783ed-7eab-407d-9a3a-6927379bcfb0",
   "metadata": {},
   "outputs": [],
   "source": [
    "import numpy as np\n",
    "\n",
    "\n",
    "@torch.no_grad()\n",
    "def calc_metrics(\n",
    "        classifier: nn.Module,\n",
    "        loader: td.DataLoader,\n",
    "        device: str = \"cuda:0\"\n",
    ") -> tp.Tuple[np.ndarray, np.ndarray]:\n",
    "    true = []\n",
    "    pred = []\n",
    "    classifier.eval()\n",
    "\n",
    "    for images, classes in tqdm.tqdm(loader):\n",
    "        logits = classifier(images.to(device))\n",
    "        preds = logits.argmax(dim=1).detach().cpu()\n",
    "\n",
    "        pred.append(preds)\n",
    "        true.append(classes)\n",
    "\n",
    "    return torch.cat(true, dim=0).numpy(), torch.cat(pred, dim=0).numpy()"
   ]
  },
  {
   "cell_type": "code",
   "execution_count": 11,
   "id": "48ce6ad8-78cb-4be9-96c2-903567118080",
   "metadata": {},
   "outputs": [
    {
     "name": "stderr",
     "output_type": "stream",
     "text": [
      "100%|██████████████████████████████████████████████████████████████████████████████████████████| 8/8 [02:12<00:00, 16.59s/it]\n"
     ]
    },
    {
     "data": {
      "text/plain": [
       "(0.3518562253190232, 0.35576615130994016, 0.37206099977321155)"
      ]
     },
     "execution_count": 11,
     "metadata": {},
     "output_type": "execute_result"
    }
   ],
   "source": [
    "true, pred = calc_metrics(adam_model, valid_loader)\n",
    "f1_score(true, pred, average=\"macro\"), recall_score(true, pred, average=\"macro\"), precision_score(true, pred,\n",
    "                                                                                                  average=\"macro\")"
   ]
  },
  {
   "cell_type": "code",
   "execution_count": 12,
   "id": "13e5557c-e973-44b8-a896-d3fd30aa0f41",
   "metadata": {},
   "outputs": [
    {
     "name": "stderr",
     "output_type": "stream",
     "text": [
      "100%|██████████████████████████████████████████████████████████████████████████████████████████| 8/8 [02:13<00:00, 16.63s/it]\n",
      "/opt/conda/lib/python3.7/site-packages/sklearn/metrics/_classification.py:1318: UndefinedMetricWarning: Precision is ill-defined and being set to 0.0 in labels with no predicted samples. Use `zero_division` parameter to control this behavior.\n",
      "  _warn_prf(average, modifier, msg_start, len(result))\n"
     ]
    },
    {
     "data": {
      "text/plain": [
       "(0.0019125628286866603, 0.003417573504435532, 0.0019073100186732751)"
      ]
     },
     "execution_count": 12,
     "metadata": {},
     "output_type": "execute_result"
    }
   ],
   "source": [
    "true, pred = calc_metrics(ada_smooth_model, valid_loader)\n",
    "\n",
    "f1_score(true, pred, average=\"macro\"), recall_score(true, pred, average=\"macro\"), precision_score(true, pred,\n",
    "                                                                                                  average=\"macro\")"
   ]
  },
  {
   "cell_type": "code",
   "execution_count": 18,
   "id": "47b743f1-3b75-480b-91e4-d1d073fc0b44",
   "metadata": {},
   "outputs": [
    {
     "data": {
      "text/plain": [
       "<matplotlib.legend.Legend at 0x7fa81f3e8610>"
      ]
     },
     "execution_count": 18,
     "metadata": {},
     "output_type": "execute_result"
    },
    {
     "data": {
      "image/png": "[encoded data removed]",
      "text/plain": [
       "<Figure size 432x288 with 1 Axes>"
      ]
     },
     "metadata": {
      "needs_background": "light"
     },
     "output_type": "display_data"
    }
   ],
   "source": [
    "adam_train_losses = [l[0] for l in adam_losses]\n",
    "adam_valid_losses = [l[1] for l in adam_losses]\n",
    "\n",
    "adas_train_losses = [l[0] for l in adas_losses]\n",
    "adas_valid_losses = [l[1] for l in adas_losses]\n",
    "\n",
    "plt.plot(adam_train_losses, label=\"Adam\")\n",
    "plt.plot(adas_train_losses, label=\"Ada Smooth\")\n",
    "plt.legend()"
   ]
  },
  {
   "cell_type": "code",
   "execution_count": 17,
   "id": "6bfadbdc-aef0-4326-83f1-80fcead253aa",
   "metadata": {},
   "outputs": [
    {
     "data": {
      "text/plain": [
       "<matplotlib.legend.Legend at 0x7fa820dfe390>"
      ]
     },
     "execution_count": 17,
     "metadata": {},
     "output_type": "execute_result"
    },
    {
     "data": {
      "image/png": "[encoded data removed]",
      "text/plain": [
       "<Figure size 432x288 with 1 Axes>"
      ]
     },
     "metadata": {
      "needs_background": "light"
     },
     "output_type": "display_data"
    }
   ],
   "source": [
    "plt.plot(adam_valid_losses, label=\"Adam\")\n",
    "plt.plot(adas_valid_losses, label=\"Ada Smooth\")\n",
    "plt.legend()"
   ]
  }
 ],
 "metadata": {
  "kernelspec": {
   "display_name": "Python 3 (ipykernel)",
   "language": "python",
   "name": "python3"
  },
  "language_info": {
   "codemirror_mode": {
    "name": "ipython",
    "version": 3
   },
   "file_extension": ".py",
   "mimetype": "text/x-python",
   "name": "python",
   "nbconvert_exporter": "python",
   "pygments_lexer": "ipython3",
   "version": "3.7.12"
  }
 },
 "nbformat": 4,
 "nbformat_minor": 5
}
