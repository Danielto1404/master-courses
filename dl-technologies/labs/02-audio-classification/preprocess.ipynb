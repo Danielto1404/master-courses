{
 "cells": [
  {
   "cell_type": "code",
   "execution_count": 1,
   "id": "c55b07af-fbb7-453e-9045-21601294524e",
   "metadata": {},
   "outputs": [
    {
     "name": "stderr",
     "output_type": "stream",
     "text": [
      "ALSA lib confmisc.c:767:(parse_card) cannot find card '0'\n",
      "ALSA lib conf.c:4732:(_snd_config_evaluate) function snd_func_card_driver returned error: No such file or directory\n",
      "ALSA lib confmisc.c:392:(snd_func_concat) error evaluating strings\n",
      "ALSA lib conf.c:4732:(_snd_config_evaluate) function snd_func_concat returned error: No such file or directory\n",
      "ALSA lib confmisc.c:1246:(snd_func_refer) error evaluating name\n",
      "ALSA lib conf.c:4732:(_snd_config_evaluate) function snd_func_refer returned error: No such file or directory\n",
      "ALSA lib conf.c:5220:(snd_config_expand) Evaluate error: No such file or directory\n",
      "ALSA lib pcm.c:2642:(snd_pcm_open_noupdate) Unknown PCM default\n",
      "ALSA lib confmisc.c:767:(parse_card) cannot find card '0'\n",
      "ALSA lib conf.c:4732:(_snd_config_evaluate) function snd_func_card_driver returned error: No such file or directory\n",
      "ALSA lib confmisc.c:392:(snd_func_concat) error evaluating strings\n",
      "ALSA lib conf.c:4732:(_snd_config_evaluate) function snd_func_concat returned error: No such file or directory\n",
      "ALSA lib confmisc.c:1246:(snd_func_refer) error evaluating name\n",
      "ALSA lib conf.c:4732:(_snd_config_evaluate) function snd_func_refer returned error: No such file or directory\n",
      "ALSA lib conf.c:5220:(snd_config_expand) Evaluate error: No such file or directory\n",
      "ALSA lib pcm.c:2642:(snd_pcm_open_noupdate) Unknown PCM default\n"
     ]
    }
   ],
   "source": [
    "from moviepy.editor import AudioFileClip\n",
    "import os"
   ]
  },
  {
   "cell_type": "code",
   "execution_count": 2,
   "id": "a77de671-3460-41dc-acc1-063bbd1fa290",
   "metadata": {},
   "outputs": [],
   "source": [
    "def to_wav(root: str, video_id: str):\n",
    "    path     = f\"{root}/{video_id}\"\n",
    "    file     = os.listdir(path)[0]\n",
    "    sound    = AudioFileClip(f\"{path}/{file}\")\n",
    "    \n",
    "    if sound.duration >= 60:\n",
    "        newsound = sound.subclip(0, 60) \n",
    "        newsound.write_audiofile(f\"data/wavs/{video_id}.wav\", 44100, 2, 2000, \"pcm_s32le\", verbose=False, logger=None)"
   ]
  },
  {
   "cell_type": "code",
   "execution_count": 4,
   "id": "43ff26c2-e627-4c70-8172-d9e570db4ccc",
   "metadata": {},
   "outputs": [
    {
     "name": "stderr",
     "output_type": "stream",
     "text": [
      "100%|███████████████████████████████████████████████████████████████████████████████████████████████████████████████████████████████████████████████████████████████████████████████| 276/276 [03:19<00:00,  1.38it/s]\n"
     ]
    }
   ],
   "source": [
    "import tqdm\n",
    "\n",
    "root  = \"data/audio\"\n",
    "files = os.listdir(root)\n",
    "\n",
    "for f in tqdm.tqdm(files):\n",
    "    to_wav(root, f)"
   ]
  }
 ],
 "metadata": {
  "kernelspec": {
   "display_name": "Python 3 (ipykernel)",
   "language": "python",
   "name": "python3"
  },
  "language_info": {
   "codemirror_mode": {
    "name": "ipython",
    "version": 3
   },
   "file_extension": ".py",
   "mimetype": "text/x-python",
   "name": "python",
   "nbconvert_exporter": "python",
   "pygments_lexer": "ipython3",
   "version": "3.7.12"
  }
 },
 "nbformat": 4,
 "nbformat_minor": 5
}
