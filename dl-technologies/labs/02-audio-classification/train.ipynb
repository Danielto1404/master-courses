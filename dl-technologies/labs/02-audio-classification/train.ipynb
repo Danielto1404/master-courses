{
 "cells": [
  {
   "cell_type": "markdown",
   "id": "fe925f96-15db-47ea-8249-995711192c6b",
   "metadata": {},
   "source": [
    "Clone *NVIDIA* Repo with pretrained models\n",
    "\n",
    "```shell\n",
    "git clone https://github.com/NVIDIA/DeepLearningExamples.git\n",
    "```"
   ]
  },
  {
   "cell_type": "code",
   "execution_count": null,
   "outputs": [],
   "source": [
    "import os\n",
    "import sys\n",
    "\n",
    "import tqdm\n",
    "\n",
    "import numpy as np\n",
    "import pandas as pd\n",
    "\n",
    "import torch\n",
    "import torch.nn as nn\n",
    "import torch.utils.data as td\n",
    "\n",
    "from sklearn.preprocessing import LabelEncoder\n",
    "\n",
    "sys.path += [\"DeepLearningExamples/PyTorch/SpeechRecognition/QuartzNet\"]"
   ],
   "metadata": {
    "collapsed": false
   }
  },
  {
   "cell_type": "code",
   "execution_count": 2,
   "id": "72eb3ee8-e810-4621-a284-e274ea129038",
   "metadata": {},
   "outputs": [],
   "source": [
    "df = pd.read_csv(\"data/youtube.csv\").drop_duplicates(\"link\")"
   ]
  },
  {
   "cell_type": "code",
   "execution_count": 3,
   "id": "376e8291-1952-4b25-a052-d52db9975568",
   "metadata": {},
   "outputs": [
    {
     "data": {
      "text/plain": [
       "<AxesSubplot:ylabel='category'>"
      ]
     },
     "execution_count": 3,
     "metadata": {},
     "output_type": "execute_result"
    },
    {
     "data": {
      "image/png": "[encoded data removed]",
      "text/plain": [
       "<Figure size 432x288 with 1 Axes>"
      ]
     },
     "metadata": {},
     "output_type": "display_data"
    }
   ],
   "source": [
    "df.category.value_counts().plot.pie()"
   ]
  },
  {
   "cell_type": "markdown",
   "id": "02e7f0ec-f400-4940-96c0-9f8b5ac25601",
   "metadata": {},
   "source": [
    "### Load pretrained model"
   ]
  },
  {
   "cell_type": "code",
   "execution_count": 4,
   "id": "294fdfe0-c425-4952-a494-5bd1959d4a78",
   "metadata": {},
   "outputs": [
    {
     "name": "stderr",
     "output_type": "stream",
     "text": [
      "/bin/sh: 1: sox: not found\n",
      "SoX could not be found!\n",
      "\n",
      "    If you do not have SoX, proceed here:\n",
      "     - - - http://sox.sourceforge.net/ - - -\n",
      "\n",
      "    If you do (or think that you should) have SoX, double-check your\n",
      "    path variables.\n",
      "    \n"
     ]
    }
   ],
   "source": [
    "from quartznet.model import QuartzNet\n",
    "from quartznet.config import load, encoder, decoder, input as inp\n",
    "\n",
    "\n",
    "DEVICE = \"cuda:0\"\n",
    "\n",
    "cfg = load(\"DeepLearningExamples/PyTorch/SpeechRecognition/QuartzNet/configs/quartznet15x5_speedp-online-1.15_speca.yaml\")\n",
    "enc = encoder(cfg)\n",
    "dec = decoder(cfg, n_classes=29)\n",
    "\n",
    "net = QuartzNet(enc, dec)"
   ]
  },
  {
   "cell_type": "code",
   "execution_count": 5,
   "id": "aa8930f8-78a7-4f3b-9d4b-fc15ec4d81b1",
   "metadata": {},
   "outputs": [],
   "source": [
    "state_dict = torch.load(\"pretrained/nvidia_quartznet_210504.pt\")[\"ema_state_dict\"]\n",
    "net.load_state_dict(state_dict)\n",
    "net = net.to(DEVICE).eval()"
   ]
  },
  {
   "cell_type": "markdown",
   "id": "3970bad1-9d1f-4108-a18f-0dc25fc3d441",
   "metadata": {},
   "source": [
    "### Prepare *.wav* files for extracting embeddings"
   ]
  },
  {
   "cell_type": "code",
   "execution_count": 6,
   "id": "8913bd39-1551-473b-95ed-973dd34607dc",
   "metadata": {},
   "outputs": [],
   "source": [
    "from common.dataset import FilelistDataset, get_data_loader\n",
    "\n",
    "root  = \"data/wavs\"\n",
    "files = [f\"{root}/{file}\" for file in os.listdir(root)]\n",
    "\n",
    "with open(\"data/pathes.txt\", \"w\") as f:\n",
    "    f.write(\"\\n\".join(files))"
   ]
  },
  {
   "cell_type": "code",
   "execution_count": 7,
   "id": "248f1156-d32b-4c9f-b81e-31b0ee524f03",
   "metadata": {},
   "outputs": [],
   "source": [
    "import torch\n",
    "import torch.utils.data as td"
   ]
  },
  {
   "cell_type": "code",
   "execution_count": 8,
   "id": "1a3b08a9-3ef6-4a95-a460-6b69d5ef4c76",
   "metadata": {},
   "outputs": [],
   "source": [
    "def collate_fn(batch):\n",
    "    bs      = len(batch)\n",
    "    max_len = lambda l, idx: max(el[idx].size(0) for el in l)\n",
    "    audio   = torch.zeros(bs, max_len(batch, 0))\n",
    "    audio_lens = torch.zeros(bs, dtype=torch.int32)\n",
    "    transcript = torch.zeros(bs, max_len(batch, 2))\n",
    "    transcript_lens = torch.zeros(bs, dtype=torch.int32)\n",
    "\n",
    "    for i, sample in enumerate(batch):\n",
    "        audio[i].narrow(0, 0, sample[0].size(0)).copy_(sample[0])\n",
    "        audio_lens[i] = sample[1]\n",
    "        transcript[i].narrow(0, 0, sample[2].size(0)).copy_(sample[2])\n",
    "        transcript_lens[i] = sample[3]\n",
    "        \n",
    "    return audio, audio_lens, transcript, transcript_lens\n",
    "\n",
    "dataset = FilelistDataset(\"data/pathes.txt\")\n",
    "loader  = td.DataLoader(dataset, batch_size=16, collate_fn=collate_fn, shuffle=False)"
   ]
  },
  {
   "cell_type": "markdown",
   "id": "1efb5296-4e3e-4856-9f67-e639bcef0dbb",
   "metadata": {},
   "source": [
    "### Extract embeddings from QuarzNet model and average them by frame"
   ]
  },
  {
   "cell_type": "code",
   "execution_count": 9,
   "id": "f0a21e5c-2b72-4e7a-8ace-20fcf5647aee",
   "metadata": {},
   "outputs": [],
   "source": [
    "# import tqdm\n",
    "# import numpy as np\n",
    "# from common.features import FilterbankFeatures\n",
    "\n",
    "# embeddings = []\n",
    "\n",
    "# _, features_kw = inp(cfg, \"val\")\n",
    "# feat_proc      = FilterbankFeatures(**features_kw).to(DEVICE)\n",
    "\n",
    "# for it, batch in enumerate(tqdm.tqdm(loader)):\n",
    "#     batch = [t.to(DEVICE) for t in batch]\n",
    "#     audio, audio_lens, _, _ = batch\n",
    "#     feats, feat_lens = feat_proc(audio, audio_lens)\n",
    "    \n",
    "#     with torch.no_grad():\n",
    "#         [frame_emb], _ = net.encoder(feats, feat_lens)\n",
    "#         embedding      = frame_emb.mean(dim=2)\n",
    "#         embeddings.append(embedding.cpu().numpy())\n",
    "        \n",
    "# embeddings = np.concatenate(embeddings)\n",
    "# np.save(\"embeddings.npy\", embeddings)\n",
    "\n",
    "embeddings = np.load(\"embeddings.npy\")"
   ]
  },
  {
   "cell_type": "markdown",
   "id": "34b9eab6-8583-424d-8b7b-131796a8625d",
   "metadata": {},
   "source": [
    "### Define dataset torch compatible class"
   ]
  },
  {
   "cell_type": "code",
   "execution_count": 10,
   "id": "c4c76757-7183-4154-b73a-d7fa59d0559d",
   "metadata": {},
   "outputs": [],
   "source": [
    "class Subset(td.Dataset):\n",
    "    def __init__(self, dataset, indices):\n",
    "        self.dataset = dataset\n",
    "        self.indices = indices\n",
    "    \n",
    "    def __getitem__(self, index):\n",
    "        return self.dataset[self.indices[index]]\n",
    "    \n",
    "    def __len__(self):\n",
    "        return len(self.indices)\n",
    "\n",
    "\n",
    "class YouTubeAudioDataset(td.Dataset):\n",
    "    def __init__(self, embeddings, targets):\n",
    "        assert len(embeddings) == len(targets)\n",
    "        self.embedds = embeddings\n",
    "        self.targets = targets\n",
    "        self.encoder = LabelEncoder().fit(targets)\n",
    "          \n",
    "    @property\n",
    "    def classes(self):\n",
    "        return self.encoder.classes_\n",
    "    \n",
    "    @property\n",
    "    def num_classes(self):\n",
    "        return len(self.classes)\n",
    "        \n",
    "    def __getitem__(self, index):\n",
    "        embed  = self.embedds[index]\n",
    "        target = self.encoder.transform([self.targets[index]])[0]\n",
    "        \n",
    "        return embed, target\n",
    "    \n",
    "    def __len__(self):\n",
    "        return len(self.targets)"
   ]
  },
  {
   "cell_type": "markdown",
   "id": "bd96fbfd-cb50-416f-88d1-443b1e48ca71",
   "metadata": {},
   "source": [
    "### Stratified train / test split"
   ]
  },
  {
   "cell_type": "code",
   "execution_count": 11,
   "id": "41f48329-f6bb-4041-856f-85519479e447",
   "metadata": {},
   "outputs": [],
   "source": [
    "file_ids = os.listdir(root)\n",
    "file_ids = [f.split(\".\")[0] for f in file_ids]\n",
    "\n",
    "targets  = [df[df.link == f][\"category\"].iloc[0] for f in file_ids]\n",
    "\n",
    "youtube_dataset = YouTubeAudioDataset(embeddings, targets)"
   ]
  },
  {
   "cell_type": "code",
   "execution_count": 12,
   "id": "d78e687f-8fac-4358-9833-b3112035636f",
   "metadata": {},
   "outputs": [
    {
     "data": {
      "text/plain": [
       "(1454, 257)"
      ]
     },
     "execution_count": 12,
     "metadata": {},
     "output_type": "execute_result"
    }
   ],
   "source": [
    "from sklearn.model_selection import train_test_split\n",
    "\n",
    "train_indices, valid_indices = train_test_split(np.arange(len(youtube_dataset)), test_size=0.15, stratify=targets)\n",
    "\n",
    "train_ds = Subset(youtube_dataset, train_indices)\n",
    "valid_ds = Subset(youtube_dataset, valid_indices)\n",
    "\n",
    "len(train_ds), len(valid_ds)"
   ]
  },
  {
   "cell_type": "markdown",
   "id": "8300703f-080b-4e0b-9331-d3fa75aa01e5",
   "metadata": {},
   "source": [
    "### Defina simple classifier neural network"
   ]
  },
  {
   "cell_type": "code",
   "execution_count": 13,
   "id": "c98ed2bb-04e5-40f7-ba8c-d882034bcfd8",
   "metadata": {},
   "outputs": [],
   "source": [
    "class AudioClassifier(nn.Module):\n",
    "    def __init__(self, embedding_size: int, num_classes: int, dropout: float = 0.5):\n",
    "        super().__init__()\n",
    "        self.fc   = nn.Linear(embedding_size, 256)\n",
    "        self.tanh = nn.Tanh()\n",
    "        self.drop = nn.Dropout(p=dropout)\n",
    "        self.head = nn.Linear(256, num_classes)\n",
    "    \n",
    "    def forward(self, x):\n",
    "        x = self.fc(x)\n",
    "        x = self.tanh(x)\n",
    "        x = self.drop(x)\n",
    "        x = self.head(x)\n",
    "        \n",
    "        return x"
   ]
  },
  {
   "cell_type": "code",
   "execution_count": 14,
   "id": "ab23c2cc-639f-40d5-9d03-9b4a2b88b309",
   "metadata": {},
   "outputs": [],
   "source": [
    "classifier = AudioClassifier(\n",
    "    embedding_size=1024, \n",
    "    num_classes=youtube_dataset.num_classes,\n",
    "    dropout=0.85\n",
    ").to(DEVICE)\n",
    "\n",
    "train_loader = td.DataLoader(train_ds, batch_size=128, shuffle=True)\n",
    "valid_loader = td.DataLoader(valid_ds, batch_size=128)\n",
    "\n",
    "criterion = nn.CrossEntropyLoss()\n",
    "optimizer = torch.optim.Adam(classifier.parameters(), lr=1e-4, weight_decay=1e-2)  "
   ]
  },
  {
   "cell_type": "code",
   "execution_count": 15,
   "id": "3bd1aeea-3e46-46df-85ee-c72909e1e1bf",
   "metadata": {
    "tags": []
   },
   "outputs": [
    {
     "name": "stdout",
     "output_type": "stream",
     "text": [
      "Epoch 50 / 1000 finished\n",
      "train loss: 1.0359, valid loss: 1.0082\n",
      "Epoch 100 / 1000 finished\n",
      "train loss: 0.9920, valid loss: 0.9217\n",
      "Epoch 150 / 1000 finished\n",
      "train loss: 0.9721, valid loss: 0.8793\n",
      "Epoch 200 / 1000 finished\n",
      "train loss: 0.9521, valid loss: 0.8336\n",
      "Epoch 250 / 1000 finished\n",
      "train loss: 0.9383, valid loss: 0.8042\n",
      "Epoch 300 / 1000 finished\n",
      "train loss: 0.9431, valid loss: 0.7876\n",
      "Epoch 350 / 1000 finished\n",
      "train loss: 0.9157, valid loss: 0.7699\n",
      "Epoch 400 / 1000 finished\n",
      "train loss: 0.9138, valid loss: 0.7573\n",
      "Epoch 450 / 1000 finished\n",
      "train loss: 0.8796, valid loss: 0.7465\n",
      "Epoch 500 / 1000 finished\n",
      "train loss: 0.8868, valid loss: 0.7344\n",
      "Epoch 550 / 1000 finished\n",
      "train loss: 0.8901, valid loss: 0.7128\n",
      "Epoch 600 / 1000 finished\n",
      "train loss: 0.8883, valid loss: 0.7197\n",
      "Epoch 650 / 1000 finished\n",
      "train loss: 0.8890, valid loss: 0.7015\n",
      "Epoch 700 / 1000 finished\n",
      "train loss: 0.8641, valid loss: 0.6952\n",
      "Epoch 750 / 1000 finished\n",
      "train loss: 0.8851, valid loss: 0.6956\n",
      "Epoch 800 / 1000 finished\n",
      "train loss: 0.8667, valid loss: 0.6885\n",
      "Epoch 850 / 1000 finished\n",
      "train loss: 0.8765, valid loss: 0.6787\n",
      "Epoch 900 / 1000 finished\n",
      "train loss: 0.8628, valid loss: 0.6807\n",
      "Epoch 950 / 1000 finished\n",
      "train loss: 0.8564, valid loss: 0.6838\n"
     ]
    }
   ],
   "source": [
    "epochs   = 1000\n",
    "log_freq = 50\n",
    "\n",
    "for e in range(epochs):\n",
    "    \n",
    "    train_loss = 0\n",
    "    valid_loss = 0\n",
    "    \n",
    "    classifier.train()\n",
    "    for batch in train_loader:\n",
    "        optimizer.zero_grad()\n",
    "        \n",
    "        x, y   = [t.to(DEVICE) for t in batch]\n",
    "        logits = classifier(x)\n",
    "        loss   = criterion(logits, y)\n",
    "        \n",
    "        loss.backward()\n",
    "        optimizer.step()\n",
    "        \n",
    "        train_loss += loss.detach().cpu().item()\n",
    "        \n",
    "    classifier.eval()\n",
    "    for batch in valid_loader:\n",
    "        x, y  = [t.to(DEVICE) for t in batch]\n",
    "        \n",
    "        with torch.no_grad():\n",
    "            logits = classifier(x)\n",
    "        loss = criterion(logits, y)\n",
    "        valid_loss += loss.detach().cpu().item()\n",
    "    \n",
    "    if e % log_freq == 0 and e != 0:\n",
    "        print(f\"Epoch {e} / {epochs} finished\")\n",
    "        print(f\"train loss: {(train_loss / len(train_loader)):.4f}, valid loss: {(valid_loss / len(valid_loader)):.4f}\")"
   ]
  },
  {
   "cell_type": "code",
   "execution_count": 16,
   "id": "b0fafabe-93b1-45be-903e-64c52cb7b000",
   "metadata": {},
   "outputs": [],
   "source": [
    "true = []\n",
    "pred = []\n",
    "\n",
    "classifier.eval()\n",
    "\n",
    "for batch in valid_loader:\n",
    "    x, y  = [t.to(DEVICE) for t in batch]\n",
    "        \n",
    "    with torch.no_grad():\n",
    "        logits  = classifier(x)\n",
    "        classes = logits.argmax(dim=1)\n",
    "    \n",
    "    true.append(y.cpu().numpy())\n",
    "    pred.append(classes.cpu().numpy())\n",
    "    \n",
    "true = np.concatenate(true)\n",
    "pred = np.concatenate(pred)"
   ]
  },
  {
   "cell_type": "code",
   "execution_count": 17,
   "id": "9cd35bfc-7a86-4eb5-a0c0-61f6951966fb",
   "metadata": {},
   "outputs": [
    {
     "data": {
      "text/plain": [
       "(0.7123493329221111, 0.721067053513862, 0.721067053513862)"
      ]
     },
     "execution_count": 17,
     "metadata": {},
     "output_type": "execute_result"
    }
   ],
   "source": [
    "from sklearn.metrics import f1_score, recall_score, precision_score, confusion_matrix, ConfusionMatrixDisplay\n",
    "\n",
    "f1_score(true, pred, average=\"macro\"), precision_score(true, pred, average=\"macro\"), recall_score(true, pred, average=\"macro\")"
   ]
  },
  {
   "cell_type": "code",
   "execution_count": 18,
   "id": "0686a166-bcab-4d3b-850e-8a99783614c2",
   "metadata": {},
   "outputs": [
    {
     "data": {
      "text/plain": [
       "0.7003891050583657"
      ]
     },
     "execution_count": 18,
     "metadata": {},
     "output_type": "execute_result"
    }
   ],
   "source": [
    "(true == pred).mean()"
   ]
  },
  {
   "cell_type": "code",
   "execution_count": 19,
   "id": "a64a2d3a-4b9b-4e3e-8bdd-d0fa9696e746",
   "metadata": {},
   "outputs": [
    {
     "data": {
      "text/plain": [
       "<sklearn.metrics._plot.confusion_matrix.ConfusionMatrixDisplay at 0x7f796ae33bd0>"
      ]
     },
     "execution_count": 19,
     "metadata": {},
     "output_type": "execute_result"
    },
    {
     "data": {
      "image/png": "[encoded data removed]",
      "text/plain": [
       "<Figure size 432x288 with 2 Axes>"
      ]
     },
     "metadata": {
      "needs_background": "light"
     },
     "output_type": "display_data"
    }
   ],
   "source": [
    "m = confusion_matrix(true, pred)\n",
    "\n",
    "ConfusionMatrixDisplay(m, display_labels=youtube_dataset.classes).plot()"
   ]
  }
 ],
 "metadata": {
  "kernelspec": {
   "display_name": "Python 3 (ipykernel)",
   "language": "python",
   "name": "python3"
  },
  "language_info": {
   "codemirror_mode": {
    "name": "ipython",
    "version": 3
   },
   "file_extension": ".py",
   "mimetype": "text/x-python",
   "name": "python",
   "nbconvert_exporter": "python",
   "pygments_lexer": "ipython3",
   "version": "3.7.12"
  }
 },
 "nbformat": 4,
 "nbformat_minor": 5
}
